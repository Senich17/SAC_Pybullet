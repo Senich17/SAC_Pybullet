{
  "nbformat": 4,
  "nbformat_minor": 0,
  "metadata": {
    "colab": {
      "provenance": [],
      "collapsed_sections": [
        "x7xqMzZp60Hi",
        "jGHQO2F-VO9I"
      ],
      "gpuType": "T4"
    },
    "kernelspec": {
      "name": "python3",
      "display_name": "Python 3"
    },
    "language_info": {
      "name": "python"
    },
    "accelerator": "GPU",
    "widgets": {
      "application/vnd.jupyter.widget-state+json": {
        "afe9098ef96b44ea814c92736fed6651": {
          "model_module": "@jupyter-widgets/controls",
          "model_name": "VBoxModel",
          "model_module_version": "1.5.0",
          "state": {
            "_dom_classes": [],
            "_model_module": "@jupyter-widgets/controls",
            "_model_module_version": "1.5.0",
            "_model_name": "VBoxModel",
            "_view_count": null,
            "_view_module": "@jupyter-widgets/controls",
            "_view_module_version": "1.5.0",
            "_view_name": "VBoxView",
            "box_style": "",
            "children": [
              "IPY_MODEL_35882b39d26444c5bf39817dbaaba643",
              "IPY_MODEL_14abf63c19714f90a1ffa0afb7e61a17"
            ],
            "layout": "IPY_MODEL_9b71b7bd30b04684a012b8dd6cdd582d"
          }
        },
        "35882b39d26444c5bf39817dbaaba643": {
          "model_module": "@jupyter-widgets/controls",
          "model_name": "LabelModel",
          "model_module_version": "1.5.0",
          "state": {
            "_dom_classes": [],
            "_model_module": "@jupyter-widgets/controls",
            "_model_module_version": "1.5.0",
            "_model_name": "LabelModel",
            "_view_count": null,
            "_view_module": "@jupyter-widgets/controls",
            "_view_module_version": "1.5.0",
            "_view_name": "LabelView",
            "description": "",
            "description_tooltip": null,
            "layout": "IPY_MODEL_2a1370ea169040f0a4a1dcf862fcf021",
            "placeholder": "​",
            "style": "IPY_MODEL_69c00f9ba0754225a620ae88862ff307",
            "value": "0.038 MB of 0.038 MB uploaded\r"
          }
        },
        "14abf63c19714f90a1ffa0afb7e61a17": {
          "model_module": "@jupyter-widgets/controls",
          "model_name": "FloatProgressModel",
          "model_module_version": "1.5.0",
          "state": {
            "_dom_classes": [],
            "_model_module": "@jupyter-widgets/controls",
            "_model_module_version": "1.5.0",
            "_model_name": "FloatProgressModel",
            "_view_count": null,
            "_view_module": "@jupyter-widgets/controls",
            "_view_module_version": "1.5.0",
            "_view_name": "ProgressView",
            "bar_style": "",
            "description": "",
            "description_tooltip": null,
            "layout": "IPY_MODEL_741c94b48b8e4c2695f94692e007565d",
            "max": 1,
            "min": 0,
            "orientation": "horizontal",
            "style": "IPY_MODEL_ea177f9822134dedb488fef89d080d04",
            "value": 1
          }
        },
        "9b71b7bd30b04684a012b8dd6cdd582d": {
          "model_module": "@jupyter-widgets/base",
          "model_name": "LayoutModel",
          "model_module_version": "1.2.0",
          "state": {
            "_model_module": "@jupyter-widgets/base",
            "_model_module_version": "1.2.0",
            "_model_name": "LayoutModel",
            "_view_count": null,
            "_view_module": "@jupyter-widgets/base",
            "_view_module_version": "1.2.0",
            "_view_name": "LayoutView",
            "align_content": null,
            "align_items": null,
            "align_self": null,
            "border": null,
            "bottom": null,
            "display": null,
            "flex": null,
            "flex_flow": null,
            "grid_area": null,
            "grid_auto_columns": null,
            "grid_auto_flow": null,
            "grid_auto_rows": null,
            "grid_column": null,
            "grid_gap": null,
            "grid_row": null,
            "grid_template_areas": null,
            "grid_template_columns": null,
            "grid_template_rows": null,
            "height": null,
            "justify_content": null,
            "justify_items": null,
            "left": null,
            "margin": null,
            "max_height": null,
            "max_width": null,
            "min_height": null,
            "min_width": null,
            "object_fit": null,
            "object_position": null,
            "order": null,
            "overflow": null,
            "overflow_x": null,
            "overflow_y": null,
            "padding": null,
            "right": null,
            "top": null,
            "visibility": null,
            "width": null
          }
        },
        "2a1370ea169040f0a4a1dcf862fcf021": {
          "model_module": "@jupyter-widgets/base",
          "model_name": "LayoutModel",
          "model_module_version": "1.2.0",
          "state": {
            "_model_module": "@jupyter-widgets/base",
            "_model_module_version": "1.2.0",
            "_model_name": "LayoutModel",
            "_view_count": null,
            "_view_module": "@jupyter-widgets/base",
            "_view_module_version": "1.2.0",
            "_view_name": "LayoutView",
            "align_content": null,
            "align_items": null,
            "align_self": null,
            "border": null,
            "bottom": null,
            "display": null,
            "flex": null,
            "flex_flow": null,
            "grid_area": null,
            "grid_auto_columns": null,
            "grid_auto_flow": null,
            "grid_auto_rows": null,
            "grid_column": null,
            "grid_gap": null,
            "grid_row": null,
            "grid_template_areas": null,
            "grid_template_columns": null,
            "grid_template_rows": null,
            "height": null,
            "justify_content": null,
            "justify_items": null,
            "left": null,
            "margin": null,
            "max_height": null,
            "max_width": null,
            "min_height": null,
            "min_width": null,
            "object_fit": null,
            "object_position": null,
            "order": null,
            "overflow": null,
            "overflow_x": null,
            "overflow_y": null,
            "padding": null,
            "right": null,
            "top": null,
            "visibility": null,
            "width": null
          }
        },
        "69c00f9ba0754225a620ae88862ff307": {
          "model_module": "@jupyter-widgets/controls",
          "model_name": "DescriptionStyleModel",
          "model_module_version": "1.5.0",
          "state": {
            "_model_module": "@jupyter-widgets/controls",
            "_model_module_version": "1.5.0",
            "_model_name": "DescriptionStyleModel",
            "_view_count": null,
            "_view_module": "@jupyter-widgets/base",
            "_view_module_version": "1.2.0",
            "_view_name": "StyleView",
            "description_width": ""
          }
        },
        "741c94b48b8e4c2695f94692e007565d": {
          "model_module": "@jupyter-widgets/base",
          "model_name": "LayoutModel",
          "model_module_version": "1.2.0",
          "state": {
            "_model_module": "@jupyter-widgets/base",
            "_model_module_version": "1.2.0",
            "_model_name": "LayoutModel",
            "_view_count": null,
            "_view_module": "@jupyter-widgets/base",
            "_view_module_version": "1.2.0",
            "_view_name": "LayoutView",
            "align_content": null,
            "align_items": null,
            "align_self": null,
            "border": null,
            "bottom": null,
            "display": null,
            "flex": null,
            "flex_flow": null,
            "grid_area": null,
            "grid_auto_columns": null,
            "grid_auto_flow": null,
            "grid_auto_rows": null,
            "grid_column": null,
            "grid_gap": null,
            "grid_row": null,
            "grid_template_areas": null,
            "grid_template_columns": null,
            "grid_template_rows": null,
            "height": null,
            "justify_content": null,
            "justify_items": null,
            "left": null,
            "margin": null,
            "max_height": null,
            "max_width": null,
            "min_height": null,
            "min_width": null,
            "object_fit": null,
            "object_position": null,
            "order": null,
            "overflow": null,
            "overflow_x": null,
            "overflow_y": null,
            "padding": null,
            "right": null,
            "top": null,
            "visibility": null,
            "width": null
          }
        },
        "ea177f9822134dedb488fef89d080d04": {
          "model_module": "@jupyter-widgets/controls",
          "model_name": "ProgressStyleModel",
          "model_module_version": "1.5.0",
          "state": {
            "_model_module": "@jupyter-widgets/controls",
            "_model_module_version": "1.5.0",
            "_model_name": "ProgressStyleModel",
            "_view_count": null,
            "_view_module": "@jupyter-widgets/base",
            "_view_module_version": "1.2.0",
            "_view_name": "StyleView",
            "bar_color": null,
            "description_width": ""
          }
        },
        "6e8463f2980c4e52b4ae695193e205ab": {
          "model_module": "@jupyter-widgets/controls",
          "model_name": "VBoxModel",
          "model_module_version": "1.5.0",
          "state": {
            "_dom_classes": [],
            "_model_module": "@jupyter-widgets/controls",
            "_model_module_version": "1.5.0",
            "_model_name": "VBoxModel",
            "_view_count": null,
            "_view_module": "@jupyter-widgets/controls",
            "_view_module_version": "1.5.0",
            "_view_name": "VBoxView",
            "box_style": "",
            "children": [
              "IPY_MODEL_e6be46c307cc4cad85a8a65e6a1a9c3d",
              "IPY_MODEL_b1e8f9fc207d41e89cb4f6563937298f"
            ],
            "layout": "IPY_MODEL_7721276f1b764d078a1d19479a1b86f0"
          }
        },
        "e6be46c307cc4cad85a8a65e6a1a9c3d": {
          "model_module": "@jupyter-widgets/controls",
          "model_name": "LabelModel",
          "model_module_version": "1.5.0",
          "state": {
            "_dom_classes": [],
            "_model_module": "@jupyter-widgets/controls",
            "_model_module_version": "1.5.0",
            "_model_name": "LabelModel",
            "_view_count": null,
            "_view_module": "@jupyter-widgets/controls",
            "_view_module_version": "1.5.0",
            "_view_name": "LabelView",
            "description": "",
            "description_tooltip": null,
            "layout": "IPY_MODEL_9e207808df604307a2d71d5bfa5e6576",
            "placeholder": "​",
            "style": "IPY_MODEL_61f85692a6664c95a7c2b207b7e6eb6b",
            "value": "0.024 MB of 0.024 MB uploaded\r"
          }
        },
        "b1e8f9fc207d41e89cb4f6563937298f": {
          "model_module": "@jupyter-widgets/controls",
          "model_name": "FloatProgressModel",
          "model_module_version": "1.5.0",
          "state": {
            "_dom_classes": [],
            "_model_module": "@jupyter-widgets/controls",
            "_model_module_version": "1.5.0",
            "_model_name": "FloatProgressModel",
            "_view_count": null,
            "_view_module": "@jupyter-widgets/controls",
            "_view_module_version": "1.5.0",
            "_view_name": "ProgressView",
            "bar_style": "",
            "description": "",
            "description_tooltip": null,
            "layout": "IPY_MODEL_a8ecb73027ea4303b24cdceeeaf0dd8d",
            "max": 1,
            "min": 0,
            "orientation": "horizontal",
            "style": "IPY_MODEL_b94b6997557d4322a40b4e39570c2903",
            "value": 1
          }
        },
        "7721276f1b764d078a1d19479a1b86f0": {
          "model_module": "@jupyter-widgets/base",
          "model_name": "LayoutModel",
          "model_module_version": "1.2.0",
          "state": {
            "_model_module": "@jupyter-widgets/base",
            "_model_module_version": "1.2.0",
            "_model_name": "LayoutModel",
            "_view_count": null,
            "_view_module": "@jupyter-widgets/base",
            "_view_module_version": "1.2.0",
            "_view_name": "LayoutView",
            "align_content": null,
            "align_items": null,
            "align_self": null,
            "border": null,
            "bottom": null,
            "display": null,
            "flex": null,
            "flex_flow": null,
            "grid_area": null,
            "grid_auto_columns": null,
            "grid_auto_flow": null,
            "grid_auto_rows": null,
            "grid_column": null,
            "grid_gap": null,
            "grid_row": null,
            "grid_template_areas": null,
            "grid_template_columns": null,
            "grid_template_rows": null,
            "height": null,
            "justify_content": null,
            "justify_items": null,
            "left": null,
            "margin": null,
            "max_height": null,
            "max_width": null,
            "min_height": null,
            "min_width": null,
            "object_fit": null,
            "object_position": null,
            "order": null,
            "overflow": null,
            "overflow_x": null,
            "overflow_y": null,
            "padding": null,
            "right": null,
            "top": null,
            "visibility": null,
            "width": null
          }
        },
        "9e207808df604307a2d71d5bfa5e6576": {
          "model_module": "@jupyter-widgets/base",
          "model_name": "LayoutModel",
          "model_module_version": "1.2.0",
          "state": {
            "_model_module": "@jupyter-widgets/base",
            "_model_module_version": "1.2.0",
            "_model_name": "LayoutModel",
            "_view_count": null,
            "_view_module": "@jupyter-widgets/base",
            "_view_module_version": "1.2.0",
            "_view_name": "LayoutView",
            "align_content": null,
            "align_items": null,
            "align_self": null,
            "border": null,
            "bottom": null,
            "display": null,
            "flex": null,
            "flex_flow": null,
            "grid_area": null,
            "grid_auto_columns": null,
            "grid_auto_flow": null,
            "grid_auto_rows": null,
            "grid_column": null,
            "grid_gap": null,
            "grid_row": null,
            "grid_template_areas": null,
            "grid_template_columns": null,
            "grid_template_rows": null,
            "height": null,
            "justify_content": null,
            "justify_items": null,
            "left": null,
            "margin": null,
            "max_height": null,
            "max_width": null,
            "min_height": null,
            "min_width": null,
            "object_fit": null,
            "object_position": null,
            "order": null,
            "overflow": null,
            "overflow_x": null,
            "overflow_y": null,
            "padding": null,
            "right": null,
            "top": null,
            "visibility": null,
            "width": null
          }
        },
        "61f85692a6664c95a7c2b207b7e6eb6b": {
          "model_module": "@jupyter-widgets/controls",
          "model_name": "DescriptionStyleModel",
          "model_module_version": "1.5.0",
          "state": {
            "_model_module": "@jupyter-widgets/controls",
            "_model_module_version": "1.5.0",
            "_model_name": "DescriptionStyleModel",
            "_view_count": null,
            "_view_module": "@jupyter-widgets/base",
            "_view_module_version": "1.2.0",
            "_view_name": "StyleView",
            "description_width": ""
          }
        },
        "a8ecb73027ea4303b24cdceeeaf0dd8d": {
          "model_module": "@jupyter-widgets/base",
          "model_name": "LayoutModel",
          "model_module_version": "1.2.0",
          "state": {
            "_model_module": "@jupyter-widgets/base",
            "_model_module_version": "1.2.0",
            "_model_name": "LayoutModel",
            "_view_count": null,
            "_view_module": "@jupyter-widgets/base",
            "_view_module_version": "1.2.0",
            "_view_name": "LayoutView",
            "align_content": null,
            "align_items": null,
            "align_self": null,
            "border": null,
            "bottom": null,
            "display": null,
            "flex": null,
            "flex_flow": null,
            "grid_area": null,
            "grid_auto_columns": null,
            "grid_auto_flow": null,
            "grid_auto_rows": null,
            "grid_column": null,
            "grid_gap": null,
            "grid_row": null,
            "grid_template_areas": null,
            "grid_template_columns": null,
            "grid_template_rows": null,
            "height": null,
            "justify_content": null,
            "justify_items": null,
            "left": null,
            "margin": null,
            "max_height": null,
            "max_width": null,
            "min_height": null,
            "min_width": null,
            "object_fit": null,
            "object_position": null,
            "order": null,
            "overflow": null,
            "overflow_x": null,
            "overflow_y": null,
            "padding": null,
            "right": null,
            "top": null,
            "visibility": null,
            "width": null
          }
        },
        "b94b6997557d4322a40b4e39570c2903": {
          "model_module": "@jupyter-widgets/controls",
          "model_name": "ProgressStyleModel",
          "model_module_version": "1.5.0",
          "state": {
            "_model_module": "@jupyter-widgets/controls",
            "_model_module_version": "1.5.0",
            "_model_name": "ProgressStyleModel",
            "_view_count": null,
            "_view_module": "@jupyter-widgets/base",
            "_view_module_version": "1.2.0",
            "_view_name": "StyleView",
            "bar_color": null,
            "description_width": ""
          }
        },
        "6c5f6ee2be44430d97b84d274c99666e": {
          "model_module": "@jupyter-widgets/controls",
          "model_name": "VBoxModel",
          "model_module_version": "1.5.0",
          "state": {
            "_dom_classes": [],
            "_model_module": "@jupyter-widgets/controls",
            "_model_module_version": "1.5.0",
            "_model_name": "VBoxModel",
            "_view_count": null,
            "_view_module": "@jupyter-widgets/controls",
            "_view_module_version": "1.5.0",
            "_view_name": "VBoxView",
            "box_style": "",
            "children": [
              "IPY_MODEL_191aaa53ba9348c890b9e41e7c709c09",
              "IPY_MODEL_bf7dfcd2fb00498c8823eee6d2c066ac"
            ],
            "layout": "IPY_MODEL_52b9e03f3b254f309ca8dae59b49108f"
          }
        },
        "191aaa53ba9348c890b9e41e7c709c09": {
          "model_module": "@jupyter-widgets/controls",
          "model_name": "LabelModel",
          "model_module_version": "1.5.0",
          "state": {
            "_dom_classes": [],
            "_model_module": "@jupyter-widgets/controls",
            "_model_module_version": "1.5.0",
            "_model_name": "LabelModel",
            "_view_count": null,
            "_view_module": "@jupyter-widgets/controls",
            "_view_module_version": "1.5.0",
            "_view_name": "LabelView",
            "description": "",
            "description_tooltip": null,
            "layout": "IPY_MODEL_5a07b0245bd9463c9d4ef7dbdfec1158",
            "placeholder": "​",
            "style": "IPY_MODEL_b3a5025af92740bc927549387908c70a",
            "value": "0.024 MB of 0.024 MB uploaded\r"
          }
        },
        "bf7dfcd2fb00498c8823eee6d2c066ac": {
          "model_module": "@jupyter-widgets/controls",
          "model_name": "FloatProgressModel",
          "model_module_version": "1.5.0",
          "state": {
            "_dom_classes": [],
            "_model_module": "@jupyter-widgets/controls",
            "_model_module_version": "1.5.0",
            "_model_name": "FloatProgressModel",
            "_view_count": null,
            "_view_module": "@jupyter-widgets/controls",
            "_view_module_version": "1.5.0",
            "_view_name": "ProgressView",
            "bar_style": "",
            "description": "",
            "description_tooltip": null,
            "layout": "IPY_MODEL_7718b2edbcec4a01b5eb54628814a02c",
            "max": 1,
            "min": 0,
            "orientation": "horizontal",
            "style": "IPY_MODEL_a8ee973ae096486f9a9a23efe8b68d2b",
            "value": 1
          }
        },
        "52b9e03f3b254f309ca8dae59b49108f": {
          "model_module": "@jupyter-widgets/base",
          "model_name": "LayoutModel",
          "model_module_version": "1.2.0",
          "state": {
            "_model_module": "@jupyter-widgets/base",
            "_model_module_version": "1.2.0",
            "_model_name": "LayoutModel",
            "_view_count": null,
            "_view_module": "@jupyter-widgets/base",
            "_view_module_version": "1.2.0",
            "_view_name": "LayoutView",
            "align_content": null,
            "align_items": null,
            "align_self": null,
            "border": null,
            "bottom": null,
            "display": null,
            "flex": null,
            "flex_flow": null,
            "grid_area": null,
            "grid_auto_columns": null,
            "grid_auto_flow": null,
            "grid_auto_rows": null,
            "grid_column": null,
            "grid_gap": null,
            "grid_row": null,
            "grid_template_areas": null,
            "grid_template_columns": null,
            "grid_template_rows": null,
            "height": null,
            "justify_content": null,
            "justify_items": null,
            "left": null,
            "margin": null,
            "max_height": null,
            "max_width": null,
            "min_height": null,
            "min_width": null,
            "object_fit": null,
            "object_position": null,
            "order": null,
            "overflow": null,
            "overflow_x": null,
            "overflow_y": null,
            "padding": null,
            "right": null,
            "top": null,
            "visibility": null,
            "width": null
          }
        },
        "5a07b0245bd9463c9d4ef7dbdfec1158": {
          "model_module": "@jupyter-widgets/base",
          "model_name": "LayoutModel",
          "model_module_version": "1.2.0",
          "state": {
            "_model_module": "@jupyter-widgets/base",
            "_model_module_version": "1.2.0",
            "_model_name": "LayoutModel",
            "_view_count": null,
            "_view_module": "@jupyter-widgets/base",
            "_view_module_version": "1.2.0",
            "_view_name": "LayoutView",
            "align_content": null,
            "align_items": null,
            "align_self": null,
            "border": null,
            "bottom": null,
            "display": null,
            "flex": null,
            "flex_flow": null,
            "grid_area": null,
            "grid_auto_columns": null,
            "grid_auto_flow": null,
            "grid_auto_rows": null,
            "grid_column": null,
            "grid_gap": null,
            "grid_row": null,
            "grid_template_areas": null,
            "grid_template_columns": null,
            "grid_template_rows": null,
            "height": null,
            "justify_content": null,
            "justify_items": null,
            "left": null,
            "margin": null,
            "max_height": null,
            "max_width": null,
            "min_height": null,
            "min_width": null,
            "object_fit": null,
            "object_position": null,
            "order": null,
            "overflow": null,
            "overflow_x": null,
            "overflow_y": null,
            "padding": null,
            "right": null,
            "top": null,
            "visibility": null,
            "width": null
          }
        },
        "b3a5025af92740bc927549387908c70a": {
          "model_module": "@jupyter-widgets/controls",
          "model_name": "DescriptionStyleModel",
          "model_module_version": "1.5.0",
          "state": {
            "_model_module": "@jupyter-widgets/controls",
            "_model_module_version": "1.5.0",
            "_model_name": "DescriptionStyleModel",
            "_view_count": null,
            "_view_module": "@jupyter-widgets/base",
            "_view_module_version": "1.2.0",
            "_view_name": "StyleView",
            "description_width": ""
          }
        },
        "7718b2edbcec4a01b5eb54628814a02c": {
          "model_module": "@jupyter-widgets/base",
          "model_name": "LayoutModel",
          "model_module_version": "1.2.0",
          "state": {
            "_model_module": "@jupyter-widgets/base",
            "_model_module_version": "1.2.0",
            "_model_name": "LayoutModel",
            "_view_count": null,
            "_view_module": "@jupyter-widgets/base",
            "_view_module_version": "1.2.0",
            "_view_name": "LayoutView",
            "align_content": null,
            "align_items": null,
            "align_self": null,
            "border": null,
            "bottom": null,
            "display": null,
            "flex": null,
            "flex_flow": null,
            "grid_area": null,
            "grid_auto_columns": null,
            "grid_auto_flow": null,
            "grid_auto_rows": null,
            "grid_column": null,
            "grid_gap": null,
            "grid_row": null,
            "grid_template_areas": null,
            "grid_template_columns": null,
            "grid_template_rows": null,
            "height": null,
            "justify_content": null,
            "justify_items": null,
            "left": null,
            "margin": null,
            "max_height": null,
            "max_width": null,
            "min_height": null,
            "min_width": null,
            "object_fit": null,
            "object_position": null,
            "order": null,
            "overflow": null,
            "overflow_x": null,
            "overflow_y": null,
            "padding": null,
            "right": null,
            "top": null,
            "visibility": null,
            "width": null
          }
        },
        "a8ee973ae096486f9a9a23efe8b68d2b": {
          "model_module": "@jupyter-widgets/controls",
          "model_name": "ProgressStyleModel",
          "model_module_version": "1.5.0",
          "state": {
            "_model_module": "@jupyter-widgets/controls",
            "_model_module_version": "1.5.0",
            "_model_name": "ProgressStyleModel",
            "_view_count": null,
            "_view_module": "@jupyter-widgets/base",
            "_view_module_version": "1.2.0",
            "_view_name": "StyleView",
            "bar_color": null,
            "description_width": ""
          }
        },
        "99d9de5ec7554770b12232997f37b733": {
          "model_module": "@jupyter-widgets/controls",
          "model_name": "VBoxModel",
          "model_module_version": "1.5.0",
          "state": {
            "_dom_classes": [],
            "_model_module": "@jupyter-widgets/controls",
            "_model_module_version": "1.5.0",
            "_model_name": "VBoxModel",
            "_view_count": null,
            "_view_module": "@jupyter-widgets/controls",
            "_view_module_version": "1.5.0",
            "_view_name": "VBoxView",
            "box_style": "",
            "children": [
              "IPY_MODEL_37af038526b54245b505d1dd4dde0c40",
              "IPY_MODEL_358a17e7a3834930ac336cb207a6c98f"
            ],
            "layout": "IPY_MODEL_81bcfa2d10694eb7a4adf76c6e07930d"
          }
        },
        "37af038526b54245b505d1dd4dde0c40": {
          "model_module": "@jupyter-widgets/controls",
          "model_name": "LabelModel",
          "model_module_version": "1.5.0",
          "state": {
            "_dom_classes": [],
            "_model_module": "@jupyter-widgets/controls",
            "_model_module_version": "1.5.0",
            "_model_name": "LabelModel",
            "_view_count": null,
            "_view_module": "@jupyter-widgets/controls",
            "_view_module_version": "1.5.0",
            "_view_name": "LabelView",
            "description": "",
            "description_tooltip": null,
            "layout": "IPY_MODEL_7ddf40415d4948a4af8bdaf6f5335686",
            "placeholder": "​",
            "style": "IPY_MODEL_042113d7c23849d0b70e09b4c22e97be",
            "value": "0.024 MB of 0.024 MB uploaded\r"
          }
        },
        "358a17e7a3834930ac336cb207a6c98f": {
          "model_module": "@jupyter-widgets/controls",
          "model_name": "FloatProgressModel",
          "model_module_version": "1.5.0",
          "state": {
            "_dom_classes": [],
            "_model_module": "@jupyter-widgets/controls",
            "_model_module_version": "1.5.0",
            "_model_name": "FloatProgressModel",
            "_view_count": null,
            "_view_module": "@jupyter-widgets/controls",
            "_view_module_version": "1.5.0",
            "_view_name": "ProgressView",
            "bar_style": "",
            "description": "",
            "description_tooltip": null,
            "layout": "IPY_MODEL_9792066d324e481d9e8045b3f0eb1657",
            "max": 1,
            "min": 0,
            "orientation": "horizontal",
            "style": "IPY_MODEL_ade443f510e747e58f942d900f536323",
            "value": 1
          }
        },
        "81bcfa2d10694eb7a4adf76c6e07930d": {
          "model_module": "@jupyter-widgets/base",
          "model_name": "LayoutModel",
          "model_module_version": "1.2.0",
          "state": {
            "_model_module": "@jupyter-widgets/base",
            "_model_module_version": "1.2.0",
            "_model_name": "LayoutModel",
            "_view_count": null,
            "_view_module": "@jupyter-widgets/base",
            "_view_module_version": "1.2.0",
            "_view_name": "LayoutView",
            "align_content": null,
            "align_items": null,
            "align_self": null,
            "border": null,
            "bottom": null,
            "display": null,
            "flex": null,
            "flex_flow": null,
            "grid_area": null,
            "grid_auto_columns": null,
            "grid_auto_flow": null,
            "grid_auto_rows": null,
            "grid_column": null,
            "grid_gap": null,
            "grid_row": null,
            "grid_template_areas": null,
            "grid_template_columns": null,
            "grid_template_rows": null,
            "height": null,
            "justify_content": null,
            "justify_items": null,
            "left": null,
            "margin": null,
            "max_height": null,
            "max_width": null,
            "min_height": null,
            "min_width": null,
            "object_fit": null,
            "object_position": null,
            "order": null,
            "overflow": null,
            "overflow_x": null,
            "overflow_y": null,
            "padding": null,
            "right": null,
            "top": null,
            "visibility": null,
            "width": null
          }
        },
        "7ddf40415d4948a4af8bdaf6f5335686": {
          "model_module": "@jupyter-widgets/base",
          "model_name": "LayoutModel",
          "model_module_version": "1.2.0",
          "state": {
            "_model_module": "@jupyter-widgets/base",
            "_model_module_version": "1.2.0",
            "_model_name": "LayoutModel",
            "_view_count": null,
            "_view_module": "@jupyter-widgets/base",
            "_view_module_version": "1.2.0",
            "_view_name": "LayoutView",
            "align_content": null,
            "align_items": null,
            "align_self": null,
            "border": null,
            "bottom": null,
            "display": null,
            "flex": null,
            "flex_flow": null,
            "grid_area": null,
            "grid_auto_columns": null,
            "grid_auto_flow": null,
            "grid_auto_rows": null,
            "grid_column": null,
            "grid_gap": null,
            "grid_row": null,
            "grid_template_areas": null,
            "grid_template_columns": null,
            "grid_template_rows": null,
            "height": null,
            "justify_content": null,
            "justify_items": null,
            "left": null,
            "margin": null,
            "max_height": null,
            "max_width": null,
            "min_height": null,
            "min_width": null,
            "object_fit": null,
            "object_position": null,
            "order": null,
            "overflow": null,
            "overflow_x": null,
            "overflow_y": null,
            "padding": null,
            "right": null,
            "top": null,
            "visibility": null,
            "width": null
          }
        },
        "042113d7c23849d0b70e09b4c22e97be": {
          "model_module": "@jupyter-widgets/controls",
          "model_name": "DescriptionStyleModel",
          "model_module_version": "1.5.0",
          "state": {
            "_model_module": "@jupyter-widgets/controls",
            "_model_module_version": "1.5.0",
            "_model_name": "DescriptionStyleModel",
            "_view_count": null,
            "_view_module": "@jupyter-widgets/base",
            "_view_module_version": "1.2.0",
            "_view_name": "StyleView",
            "description_width": ""
          }
        },
        "9792066d324e481d9e8045b3f0eb1657": {
          "model_module": "@jupyter-widgets/base",
          "model_name": "LayoutModel",
          "model_module_version": "1.2.0",
          "state": {
            "_model_module": "@jupyter-widgets/base",
            "_model_module_version": "1.2.0",
            "_model_name": "LayoutModel",
            "_view_count": null,
            "_view_module": "@jupyter-widgets/base",
            "_view_module_version": "1.2.0",
            "_view_name": "LayoutView",
            "align_content": null,
            "align_items": null,
            "align_self": null,
            "border": null,
            "bottom": null,
            "display": null,
            "flex": null,
            "flex_flow": null,
            "grid_area": null,
            "grid_auto_columns": null,
            "grid_auto_flow": null,
            "grid_auto_rows": null,
            "grid_column": null,
            "grid_gap": null,
            "grid_row": null,
            "grid_template_areas": null,
            "grid_template_columns": null,
            "grid_template_rows": null,
            "height": null,
            "justify_content": null,
            "justify_items": null,
            "left": null,
            "margin": null,
            "max_height": null,
            "max_width": null,
            "min_height": null,
            "min_width": null,
            "object_fit": null,
            "object_position": null,
            "order": null,
            "overflow": null,
            "overflow_x": null,
            "overflow_y": null,
            "padding": null,
            "right": null,
            "top": null,
            "visibility": null,
            "width": null
          }
        },
        "ade443f510e747e58f942d900f536323": {
          "model_module": "@jupyter-widgets/controls",
          "model_name": "ProgressStyleModel",
          "model_module_version": "1.5.0",
          "state": {
            "_model_module": "@jupyter-widgets/controls",
            "_model_module_version": "1.5.0",
            "_model_name": "ProgressStyleModel",
            "_view_count": null,
            "_view_module": "@jupyter-widgets/base",
            "_view_module_version": "1.2.0",
            "_view_name": "StyleView",
            "bar_color": null,
            "description_width": ""
          }
        }
      }
    }
  },
  "cells": [
    {
      "cell_type": "markdown",
      "source": [
        "# Методы семейства «актор-критик»"
      ],
      "metadata": {
        "id": "h-wE4-wjwiYn"
      }
    },
    {
      "cell_type": "markdown",
      "source": [
        "## Реализация"
      ],
      "metadata": {
        "id": "BM404kmrymbC"
      }
    },
    {
      "cell_type": "markdown",
      "source": [
        "### Установка библиотек, модулей и зависимостей"
      ],
      "metadata": {
        "id": "x7xqMzZp60Hi"
      }
    },
    {
      "cell_type": "code",
      "source": [
        "!pip install -q gymnasium atari-py gymnasium[atari] gymnasium[accept-rom-license]\n",
        "!pip install -q stable-baselines3[extra]\n",
        "!pip install moviepy==1.0.3\n",
        "!pip install wandb\n",
        "!pip install imageio_ffmpeg\n",
        "!pip install gymnasium[mujoco]"
      ],
      "metadata": {
        "colab": {
          "base_uri": "https://localhost:8080/"
        },
        "collapsed": true,
        "id": "qKA5RIgb745-",
        "outputId": "ea51d4dc-c571-4de5-bfd9-d83dce1b14f8"
      },
      "execution_count": 1,
      "outputs": [
        {
          "output_type": "stream",
          "name": "stdout",
          "text": [
            "\u001b[2K     \u001b[90m━━━━━━━━━━━━━━━━━━━━━━━━━━━━━━━━━━━━━━━━\u001b[0m \u001b[32m953.9/953.9 kB\u001b[0m \u001b[31m9.2 MB/s\u001b[0m eta \u001b[36m0:00:00\u001b[0m\n",
            "\u001b[2K     \u001b[90m━━━━━━━━━━━━━━━━━━━━━━━━━━━━━━━━━━━━━━━━\u001b[0m \u001b[32m540.6/540.6 kB\u001b[0m \u001b[31m14.0 MB/s\u001b[0m eta \u001b[36m0:00:00\u001b[0m\n",
            "\u001b[?25h  Preparing metadata (setup.py) ... \u001b[?25l\u001b[?25hdone\n",
            "\u001b[2K     \u001b[90m━━━━━━━━━━━━━━━━━━━━━━━━━━━━━━━━━━━━━━━━\u001b[0m \u001b[32m434.7/434.7 kB\u001b[0m \u001b[31m18.0 MB/s\u001b[0m eta \u001b[36m0:00:00\u001b[0m\n",
            "\u001b[?25h  Installing build dependencies ... \u001b[?25l\u001b[?25hdone\n",
            "  Getting requirements to build wheel ... \u001b[?25l\u001b[?25hdone\n",
            "  Preparing metadata (pyproject.toml) ... \u001b[?25l\u001b[?25hdone\n",
            "\u001b[2K     \u001b[90m━━━━━━━━━━━━━━━━━━━━━━━━━━━━━━━━━━━━━━━━\u001b[0m \u001b[32m1.7/1.7 MB\u001b[0m \u001b[31m22.3 MB/s\u001b[0m eta \u001b[36m0:00:00\u001b[0m\n",
            "\u001b[?25h  Building wheel for atari-py (setup.py) ... \u001b[?25l\u001b[?25hdone\n",
            "  Building wheel for AutoROM.accept-rom-license (pyproject.toml) ... \u001b[?25l\u001b[?25hdone\n",
            "\u001b[2K     \u001b[90m━━━━━━━━━━━━━━━━━━━━━━━━━━━━━━━━━━━━━━━━\u001b[0m \u001b[32m182.3/182.3 kB\u001b[0m \u001b[31m4.6 MB/s\u001b[0m eta \u001b[36m0:00:00\u001b[0m\n",
            "\u001b[?25hRequirement already satisfied: moviepy==1.0.3 in /usr/local/lib/python3.10/dist-packages (1.0.3)\n",
            "Requirement already satisfied: decorator<5.0,>=4.0.2 in /usr/local/lib/python3.10/dist-packages (from moviepy==1.0.3) (4.4.2)\n",
            "Requirement already satisfied: tqdm<5.0,>=4.11.2 in /usr/local/lib/python3.10/dist-packages (from moviepy==1.0.3) (4.66.4)\n",
            "Requirement already satisfied: requests<3.0,>=2.8.1 in /usr/local/lib/python3.10/dist-packages (from moviepy==1.0.3) (2.31.0)\n",
            "Requirement already satisfied: proglog<=1.0.0 in /usr/local/lib/python3.10/dist-packages (from moviepy==1.0.3) (0.1.10)\n",
            "Requirement already satisfied: numpy>=1.17.3 in /usr/local/lib/python3.10/dist-packages (from moviepy==1.0.3) (1.25.2)\n",
            "Requirement already satisfied: imageio<3.0,>=2.5 in /usr/local/lib/python3.10/dist-packages (from moviepy==1.0.3) (2.31.6)\n",
            "Requirement already satisfied: imageio-ffmpeg>=0.2.0 in /usr/local/lib/python3.10/dist-packages (from moviepy==1.0.3) (0.4.9)\n",
            "Requirement already satisfied: pillow<10.1.0,>=8.3.2 in /usr/local/lib/python3.10/dist-packages (from imageio<3.0,>=2.5->moviepy==1.0.3) (9.4.0)\n",
            "Requirement already satisfied: setuptools in /usr/local/lib/python3.10/dist-packages (from imageio-ffmpeg>=0.2.0->moviepy==1.0.3) (67.7.2)\n",
            "Requirement already satisfied: charset-normalizer<4,>=2 in /usr/local/lib/python3.10/dist-packages (from requests<3.0,>=2.8.1->moviepy==1.0.3) (3.3.2)\n",
            "Requirement already satisfied: idna<4,>=2.5 in /usr/local/lib/python3.10/dist-packages (from requests<3.0,>=2.8.1->moviepy==1.0.3) (3.7)\n",
            "Requirement already satisfied: urllib3<3,>=1.21.1 in /usr/local/lib/python3.10/dist-packages (from requests<3.0,>=2.8.1->moviepy==1.0.3) (2.0.7)\n",
            "Requirement already satisfied: certifi>=2017.4.17 in /usr/local/lib/python3.10/dist-packages (from requests<3.0,>=2.8.1->moviepy==1.0.3) (2024.2.2)\n",
            "Collecting wandb\n",
            "  Downloading wandb-0.17.0-py3-none-manylinux_2_5_x86_64.manylinux1_x86_64.manylinux_2_17_x86_64.manylinux2014_x86_64.whl (6.7 MB)\n",
            "\u001b[2K     \u001b[90m━━━━━━━━━━━━━━━━━━━━━━━━━━━━━━━━━━━━━━━━\u001b[0m \u001b[32m6.7/6.7 MB\u001b[0m \u001b[31m33.1 MB/s\u001b[0m eta \u001b[36m0:00:00\u001b[0m\n",
            "\u001b[?25hRequirement already satisfied: click!=8.0.0,>=7.1 in /usr/local/lib/python3.10/dist-packages (from wandb) (8.1.7)\n",
            "Collecting docker-pycreds>=0.4.0 (from wandb)\n",
            "  Downloading docker_pycreds-0.4.0-py2.py3-none-any.whl (9.0 kB)\n",
            "Collecting gitpython!=3.1.29,>=1.0.0 (from wandb)\n",
            "  Downloading GitPython-3.1.43-py3-none-any.whl (207 kB)\n",
            "\u001b[2K     \u001b[90m━━━━━━━━━━━━━━━━━━━━━━━━━━━━━━━━━━━━━━━━\u001b[0m \u001b[32m207.3/207.3 kB\u001b[0m \u001b[31m25.5 MB/s\u001b[0m eta \u001b[36m0:00:00\u001b[0m\n",
            "\u001b[?25hRequirement already satisfied: platformdirs in /usr/local/lib/python3.10/dist-packages (from wandb) (4.2.1)\n",
            "Requirement already satisfied: protobuf!=4.21.0,<5,>=3.19.0 in /usr/local/lib/python3.10/dist-packages (from wandb) (3.20.3)\n",
            "Requirement already satisfied: psutil>=5.0.0 in /usr/local/lib/python3.10/dist-packages (from wandb) (5.9.5)\n",
            "Requirement already satisfied: pyyaml in /usr/local/lib/python3.10/dist-packages (from wandb) (6.0.1)\n",
            "Requirement already satisfied: requests<3,>=2.0.0 in /usr/local/lib/python3.10/dist-packages (from wandb) (2.31.0)\n",
            "Collecting sentry-sdk>=1.0.0 (from wandb)\n",
            "  Downloading sentry_sdk-2.2.0-py2.py3-none-any.whl (281 kB)\n",
            "\u001b[2K     \u001b[90m━━━━━━━━━━━━━━━━━━━━━━━━━━━━━━━━━━━━━━━━\u001b[0m \u001b[32m281.1/281.1 kB\u001b[0m \u001b[31m35.5 MB/s\u001b[0m eta \u001b[36m0:00:00\u001b[0m\n",
            "\u001b[?25hCollecting setproctitle (from wandb)\n",
            "  Downloading setproctitle-1.3.3-cp310-cp310-manylinux_2_5_x86_64.manylinux1_x86_64.manylinux_2_17_x86_64.manylinux2014_x86_64.whl (30 kB)\n",
            "Requirement already satisfied: setuptools in /usr/local/lib/python3.10/dist-packages (from wandb) (67.7.2)\n",
            "Requirement already satisfied: six>=1.4.0 in /usr/local/lib/python3.10/dist-packages (from docker-pycreds>=0.4.0->wandb) (1.16.0)\n",
            "Collecting gitdb<5,>=4.0.1 (from gitpython!=3.1.29,>=1.0.0->wandb)\n",
            "  Downloading gitdb-4.0.11-py3-none-any.whl (62 kB)\n",
            "\u001b[2K     \u001b[90m━━━━━━━━━━━━━━━━━━━━━━━━━━━━━━━━━━━━━━━━\u001b[0m \u001b[32m62.7/62.7 kB\u001b[0m \u001b[31m9.3 MB/s\u001b[0m eta \u001b[36m0:00:00\u001b[0m\n",
            "\u001b[?25hRequirement already satisfied: charset-normalizer<4,>=2 in /usr/local/lib/python3.10/dist-packages (from requests<3,>=2.0.0->wandb) (3.3.2)\n",
            "Requirement already satisfied: idna<4,>=2.5 in /usr/local/lib/python3.10/dist-packages (from requests<3,>=2.0.0->wandb) (3.7)\n",
            "Requirement already satisfied: urllib3<3,>=1.21.1 in /usr/local/lib/python3.10/dist-packages (from requests<3,>=2.0.0->wandb) (2.0.7)\n",
            "Requirement already satisfied: certifi>=2017.4.17 in /usr/local/lib/python3.10/dist-packages (from requests<3,>=2.0.0->wandb) (2024.2.2)\n",
            "Collecting smmap<6,>=3.0.1 (from gitdb<5,>=4.0.1->gitpython!=3.1.29,>=1.0.0->wandb)\n",
            "  Downloading smmap-5.0.1-py3-none-any.whl (24 kB)\n",
            "Installing collected packages: smmap, setproctitle, sentry-sdk, docker-pycreds, gitdb, gitpython, wandb\n",
            "Successfully installed docker-pycreds-0.4.0 gitdb-4.0.11 gitpython-3.1.43 sentry-sdk-2.2.0 setproctitle-1.3.3 smmap-5.0.1 wandb-0.17.0\n",
            "Requirement already satisfied: imageio_ffmpeg in /usr/local/lib/python3.10/dist-packages (0.4.9)\n",
            "Requirement already satisfied: setuptools in /usr/local/lib/python3.10/dist-packages (from imageio_ffmpeg) (67.7.2)\n",
            "Requirement already satisfied: gymnasium[mujoco] in /usr/local/lib/python3.10/dist-packages (0.29.1)\n",
            "Requirement already satisfied: numpy>=1.21.0 in /usr/local/lib/python3.10/dist-packages (from gymnasium[mujoco]) (1.25.2)\n",
            "Requirement already satisfied: cloudpickle>=1.2.0 in /usr/local/lib/python3.10/dist-packages (from gymnasium[mujoco]) (2.2.1)\n",
            "Requirement already satisfied: typing-extensions>=4.3.0 in /usr/local/lib/python3.10/dist-packages (from gymnasium[mujoco]) (4.11.0)\n",
            "Requirement already satisfied: farama-notifications>=0.0.1 in /usr/local/lib/python3.10/dist-packages (from gymnasium[mujoco]) (0.0.4)\n",
            "Collecting mujoco>=2.3.3 (from gymnasium[mujoco])\n",
            "  Downloading mujoco-3.1.5-cp310-cp310-manylinux_2_17_x86_64.manylinux2014_x86_64.whl (5.5 MB)\n",
            "\u001b[2K     \u001b[90m━━━━━━━━━━━━━━━━━━━━━━━━━━━━━━━━━━━━━━━━\u001b[0m \u001b[32m5.5/5.5 MB\u001b[0m \u001b[31m17.1 MB/s\u001b[0m eta \u001b[36m0:00:00\u001b[0m\n",
            "\u001b[?25hRequirement already satisfied: imageio>=2.14.1 in /usr/local/lib/python3.10/dist-packages (from gymnasium[mujoco]) (2.31.6)\n",
            "Requirement already satisfied: pillow<10.1.0,>=8.3.2 in /usr/local/lib/python3.10/dist-packages (from imageio>=2.14.1->gymnasium[mujoco]) (9.4.0)\n",
            "Requirement already satisfied: absl-py in /usr/local/lib/python3.10/dist-packages (from mujoco>=2.3.3->gymnasium[mujoco]) (1.4.0)\n",
            "Requirement already satisfied: etils[epath] in /usr/local/lib/python3.10/dist-packages (from mujoco>=2.3.3->gymnasium[mujoco]) (1.7.0)\n",
            "Collecting glfw (from mujoco>=2.3.3->gymnasium[mujoco])\n",
            "  Downloading glfw-2.7.0-py2.py27.py3.py30.py31.py32.py33.py34.py35.py36.py37.py38-none-manylinux2014_x86_64.whl (211 kB)\n",
            "\u001b[2K     \u001b[90m━━━━━━━━━━━━━━━━━━━━━━━━━━━━━━━━━━━━━━━━\u001b[0m \u001b[32m211.8/211.8 kB\u001b[0m \u001b[31m25.6 MB/s\u001b[0m eta \u001b[36m0:00:00\u001b[0m\n",
            "\u001b[?25hRequirement already satisfied: pyopengl in /usr/local/lib/python3.10/dist-packages (from mujoco>=2.3.3->gymnasium[mujoco]) (3.1.7)\n",
            "Requirement already satisfied: fsspec in /usr/local/lib/python3.10/dist-packages (from etils[epath]->mujoco>=2.3.3->gymnasium[mujoco]) (2023.6.0)\n",
            "Requirement already satisfied: importlib_resources in /usr/local/lib/python3.10/dist-packages (from etils[epath]->mujoco>=2.3.3->gymnasium[mujoco]) (6.4.0)\n",
            "Requirement already satisfied: zipp in /usr/local/lib/python3.10/dist-packages (from etils[epath]->mujoco>=2.3.3->gymnasium[mujoco]) (3.18.1)\n",
            "Installing collected packages: glfw, mujoco\n",
            "Successfully installed glfw-2.7.0 mujoco-3.1.5\n"
          ]
        }
      ]
    },
    {
      "cell_type": "code",
      "source": [
        "import wandb\n",
        "import time\n",
        "import numpy as np\n",
        "import matplotlib.pyplot as plt\n",
        "\n",
        "import seaborn as sns\n",
        "import pandas as pd\n",
        "\n",
        "import gymnasium as gym\n",
        "\n",
        "from stable_baselines3 import SAC\n",
        "\n",
        "from stable_baselines3.common.evaluation import evaluate_policy\n",
        "from stable_baselines3.common.callbacks import BaseCallback\n",
        "\n",
        "%matplotlib inline\n"
      ],
      "metadata": {
        "id": "Xa2riBMpwiB5"
      },
      "execution_count": 15,
      "outputs": []
    },
    {
      "cell_type": "code",
      "source": [
        "import warnings\n",
        "\n",
        "# Бесят эти предупреждения об устаревании\n",
        "\n",
        "warnings.filterwarnings('ignore', category=DeprecationWarning)\n"
      ],
      "metadata": {
        "id": "TcVuM7bk1KI1"
      },
      "execution_count": 16,
      "outputs": []
    },
    {
      "cell_type": "markdown",
      "source": [
        "## Дополнительные полезности"
      ],
      "metadata": {
        "id": "jGHQO2F-VO9I"
      }
    },
    {
      "cell_type": "code",
      "source": [
        "!wandb login\n",
        "wandb.init(\n",
        "    project=\"SAC_Pybullet\",\n",
        "    entity='Senich17')"
      ],
      "metadata": {
        "colab": {
          "base_uri": "https://localhost:8080/",
          "height": 205
        },
        "id": "-M3Cvr0m1OlR",
        "outputId": "954d5680-dd66-42d4-8b0b-4dbb2c458d1d"
      },
      "execution_count": 4,
      "outputs": [
        {
          "output_type": "stream",
          "name": "stdout",
          "text": [
            "\u001b[34m\u001b[1mwandb\u001b[0m: Logging into wandb.ai. (Learn how to deploy a W&B server locally: https://wandb.me/wandb-server)\n",
            "\u001b[34m\u001b[1mwandb\u001b[0m: You can find your API key in your browser here: https://wandb.ai/authorize\n",
            "\u001b[34m\u001b[1mwandb\u001b[0m: Paste an API key from your profile and hit enter, or press ctrl+c to quit: \n",
            "\u001b[34m\u001b[1mwandb\u001b[0m: Appending key for api.wandb.ai to your netrc file: /root/.netrc\n"
          ]
        },
        {
          "output_type": "stream",
          "name": "stderr",
          "text": [
            "\u001b[34m\u001b[1mwandb\u001b[0m: Currently logged in as: \u001b[33msenich17\u001b[0m. Use \u001b[1m`wandb login --relogin`\u001b[0m to force relogin\n"
          ]
        },
        {
          "output_type": "display_data",
          "data": {
            "text/plain": [
              "<IPython.core.display.HTML object>"
            ],
            "text/html": [
              "Tracking run with wandb version 0.17.0"
            ]
          },
          "metadata": {}
        },
        {
          "output_type": "display_data",
          "data": {
            "text/plain": [
              "<IPython.core.display.HTML object>"
            ],
            "text/html": [
              "Run data is saved locally in <code>/content/wandb/run-20240516_113711-nt2ia913</code>"
            ]
          },
          "metadata": {}
        },
        {
          "output_type": "display_data",
          "data": {
            "text/plain": [
              "<IPython.core.display.HTML object>"
            ],
            "text/html": [
              "Syncing run <strong><a href='https://wandb.ai/senich17/SAC_Pybullet/runs/nt2ia913' target=\"_blank\">fanciful-wildflower-9</a></strong> to <a href='https://wandb.ai/senich17/SAC_Pybullet' target=\"_blank\">Weights & Biases</a> (<a href='https://wandb.me/run' target=\"_blank\">docs</a>)<br/>"
            ]
          },
          "metadata": {}
        },
        {
          "output_type": "display_data",
          "data": {
            "text/plain": [
              "<IPython.core.display.HTML object>"
            ],
            "text/html": [
              " View project at <a href='https://wandb.ai/senich17/SAC_Pybullet' target=\"_blank\">https://wandb.ai/senich17/SAC_Pybullet</a>"
            ]
          },
          "metadata": {}
        },
        {
          "output_type": "display_data",
          "data": {
            "text/plain": [
              "<IPython.core.display.HTML object>"
            ],
            "text/html": [
              " View run at <a href='https://wandb.ai/senich17/SAC_Pybullet/runs/nt2ia913' target=\"_blank\">https://wandb.ai/senich17/SAC_Pybullet/runs/nt2ia913</a>"
            ]
          },
          "metadata": {}
        },
        {
          "output_type": "execute_result",
          "data": {
            "text/html": [
              "<button onClick=\"this.nextSibling.style.display='block';this.style.display='none';\">Display W&B run</button><iframe src='https://wandb.ai/senich17/SAC_Pybullet/runs/nt2ia913?jupyter=true' style='border:none;width:100%;height:420px;display:none;'></iframe>"
            ],
            "text/plain": [
              "<wandb.sdk.wandb_run.Run at 0x7b008ff295d0>"
            ]
          },
          "metadata": {},
          "execution_count": 4
        }
      ]
    },
    {
      "cell_type": "code",
      "source": [
        "class WandbCustomCallback(BaseCallback):\n",
        "    def __init__(self, verbose=0, **kwargs):\n",
        "        super(WandbCustomCallback, self).__init__(verbose, **kwargs)\n",
        "        self.step = 0\n",
        "        self.hyperparams = kwargs  # Передача гиперпараметров через **kwargs\n",
        "        self.rewards= []\n",
        "\n",
        "    def _on_step(self) -> bool:\n",
        "        self.step += 1\n",
        "        infos = self.locals[\"infos\"]\n",
        "\n",
        "        for info in infos:\n",
        "            if \"episode\" in info.keys():\n",
        "                wandb.log({\"reward\": info[\"episode\"][\"r\"], \"length\": info[\"episode\"][\"l\"]}, step=self.step)\n",
        "\n",
        "        return True\n",
        "\n",
        "    def _on_episode_start(self) -> None:\n",
        "        # Начало нового эпизода, создаем новый список для хранения вознаграждений\n",
        "        self.reward.append([])\n",
        "\n",
        "        return True\n"
      ],
      "metadata": {
        "id": "l8zBnFKFpUbz"
      },
      "execution_count": 5,
      "outputs": []
    },
    {
      "cell_type": "markdown",
      "source": [
        "## Ну штош, начнем эксперименты"
      ],
      "metadata": {
        "id": "5rVxeYTG1mhw"
      }
    },
    {
      "cell_type": "markdown",
      "source": [
        "Сначала оставим гиперпараметры по умолчанию, в своем эксперименте я выбрала коэффиициент энтропии, который регулирует степень исследования агента и количество шагов градиентного спуска при обновлении модели. Ну и на всякий случай - скорость обучения, ну потому, что могу, кто ж мне запретит.\n",
        "\n",
        "Прежде, чем аргументировать, почему были выбраны именно эти гиперпараметры, необходимо понять, на что они вообще влияют, и тогда сразу станет очевидным мой выбор.\n",
        "\n",
        "- Коэффициент энтропии (ent_coef):\n",
        "\n",
        "Регулирует степень исследования агента. Чем выше значение этого коэффициента, тем более случайными будут действия агента, что полезно на начальном этапе обучения, чтобы агент исследовал пространство действий более широко. Однако слишком высокое значение коэффициента энтропии может замедлить сходимость модели или даже привести к нестабильному обучению.\n",
        "\n",
        "Но в тоже время, если среда имеет большое пространство действий или является сложной, более высокий коэффициент энтропии может быть как раз на пользу, что собственно и будем выяснять.\n",
        "\n",
        "\n",
        "- Количество шагов градиентного спуска (gradient_steps):\n",
        "\n",
        "Количество шагов градиентного спуска определяет, сколько раз будет обновлена модель на каждой итерации обучения. Более высокое значение этого параметра может улучшить стабильность обучения и помочь модели достичь лучшей производительности, но как всегда это увеличивает вычислительную сложность обучения.\n",
        "\n",
        "И как в предыдущем показателе, оптимальное количество шагов градиентного спуска зависит от сложности задачи и архитектуры модели. Но это совершенно не мешает ставить эксперименты!\n",
        "\n",
        "- Скорость обучения (learning_rate):\n",
        "\n",
        "Это самый очевидный параметр, он определяет размер шага, с которым модель обновляется в направлении градиента. Один из самых важных гиперпараметров, который влияет на скорость сходимости и качество модели (не только в обучении с подкреплением, но и во всем классическом ML).\n",
        "\n",
        "Собственно, слишком высокая скорость обучения может привести к расхождению модели, а слишком низкая может привести к медленной сходимости или застреванию в локальных минимумах.\n",
        "\n",
        "\n",
        "Поэтому и выбор этих гиперпараметров для экспериментов имеет смысл, так как они напрямую влияют на процесс обучения и производительность модели. Тестирование различных значений этих параметров поможет нам найти оптимальные настройки для нашей модели и ее обучения.\n",
        "\n",
        "(СПОЙЛЕР: самые толковые настройки - по умолчанию Т_Т)"
      ],
      "metadata": {
        "id": "7Pnd7y_TQnYB"
      }
    },
    {
      "cell_type": "code",
      "source": [
        "env = gym.make(\"HalfCheetah-v4\") # создаем среду\n"
      ],
      "metadata": {
        "id": "pS8I7qtXBJdw"
      },
      "execution_count": 17,
      "outputs": []
    },
    {
      "cell_type": "code",
      "source": [
        "model = SAC(\"MlpPolicy\", env, verbose=1, learning_rate=0.0003, ent_coef=0.01, gradient_steps=1) # собираем модельку, гиперпараметры по умолчанию\n"
      ],
      "metadata": {
        "colab": {
          "base_uri": "https://localhost:8080/"
        },
        "id": "d-1AajQxJUKP",
        "outputId": "2122694f-c5bc-467c-b75d-1ee966cb04e7"
      },
      "execution_count": 18,
      "outputs": [
        {
          "output_type": "stream",
          "name": "stdout",
          "text": [
            "Using cuda device\n",
            "Wrapping the env with a `Monitor` wrapper\n",
            "Wrapping the env in a DummyVecEnv.\n"
          ]
        }
      ]
    },
    {
      "cell_type": "code",
      "source": [
        "# Будем использовать уже знакомый callback\n",
        "callback = WandbCustomCallback(model)\n"
      ],
      "metadata": {
        "id": "Mrp0Io6XkKuS"
      },
      "execution_count": 19,
      "outputs": []
    },
    {
      "cell_type": "code",
      "source": [
        "start_time = time.time() # заодно посчитаем, за какое время агент научится ходить-бежать\n"
      ],
      "metadata": {
        "id": "bznDEFw9m-42"
      },
      "execution_count": 20,
      "outputs": []
    },
    {
      "cell_type": "code",
      "source": [
        "model.learn(total_timesteps=100000, log_interval=4, callback=callback) # завариваем чаек и ждем\n"
      ],
      "metadata": {
        "colab": {
          "base_uri": "https://localhost:8080/"
        },
        "collapsed": true,
        "id": "6w3dej0c2Dc2",
        "outputId": "e6335b1e-1f63-417c-939f-3d807d2ab833"
      },
      "execution_count": 21,
      "outputs": [
        {
          "output_type": "stream",
          "name": "stdout",
          "text": [
            "---------------------------------\n",
            "| rollout/           |          |\n",
            "|    ep_len_mean     | 1e+03    |\n",
            "|    ep_rew_mean     | 165      |\n",
            "| time/              |          |\n",
            "|    episodes        | 4        |\n",
            "|    fps             | 77       |\n",
            "|    time_elapsed    | 51       |\n",
            "|    total_timesteps | 4000     |\n",
            "| train/             |          |\n",
            "|    actor_loss      | -1.63    |\n",
            "|    critic_loss     | 0.558    |\n",
            "|    ent_coef        | 0.01     |\n",
            "|    learning_rate   | 0.0003   |\n",
            "|    n_updates       | 3899     |\n",
            "---------------------------------\n",
            "---------------------------------\n",
            "| rollout/           |          |\n",
            "|    ep_len_mean     | 1e+03    |\n",
            "|    ep_rew_mean     | 596      |\n",
            "| time/              |          |\n",
            "|    episodes        | 8        |\n",
            "|    fps             | 75       |\n",
            "|    time_elapsed    | 105      |\n",
            "|    total_timesteps | 8000     |\n",
            "| train/             |          |\n",
            "|    actor_loss      | -15.9    |\n",
            "|    critic_loss     | 1.52     |\n",
            "|    ent_coef        | 0.01     |\n",
            "|    learning_rate   | 0.0003   |\n",
            "|    n_updates       | 7899     |\n",
            "---------------------------------\n",
            "---------------------------------\n",
            "| rollout/           |          |\n",
            "|    ep_len_mean     | 1e+03    |\n",
            "|    ep_rew_mean     | 910      |\n",
            "| time/              |          |\n",
            "|    episodes        | 12       |\n",
            "|    fps             | 76       |\n",
            "|    time_elapsed    | 156      |\n",
            "|    total_timesteps | 12000    |\n",
            "| train/             |          |\n",
            "|    actor_loss      | -33      |\n",
            "|    critic_loss     | 1.81     |\n",
            "|    ent_coef        | 0.01     |\n",
            "|    learning_rate   | 0.0003   |\n",
            "|    n_updates       | 11899    |\n",
            "---------------------------------\n",
            "---------------------------------\n",
            "| rollout/           |          |\n",
            "|    ep_len_mean     | 1e+03    |\n",
            "|    ep_rew_mean     | 1.11e+03 |\n",
            "| time/              |          |\n",
            "|    episodes        | 16       |\n",
            "|    fps             | 78       |\n",
            "|    time_elapsed    | 204      |\n",
            "|    total_timesteps | 16000    |\n",
            "| train/             |          |\n",
            "|    actor_loss      | -50.2    |\n",
            "|    critic_loss     | 2.29     |\n",
            "|    ent_coef        | 0.01     |\n",
            "|    learning_rate   | 0.0003   |\n",
            "|    n_updates       | 15899    |\n",
            "---------------------------------\n",
            "---------------------------------\n",
            "| rollout/           |          |\n",
            "|    ep_len_mean     | 1e+03    |\n",
            "|    ep_rew_mean     | 1.22e+03 |\n",
            "| time/              |          |\n",
            "|    episodes        | 20       |\n",
            "|    fps             | 80       |\n",
            "|    time_elapsed    | 249      |\n",
            "|    total_timesteps | 20000    |\n",
            "| train/             |          |\n",
            "|    actor_loss      | -66      |\n",
            "|    critic_loss     | 2.1      |\n",
            "|    ent_coef        | 0.01     |\n",
            "|    learning_rate   | 0.0003   |\n",
            "|    n_updates       | 19899    |\n",
            "---------------------------------\n",
            "---------------------------------\n",
            "| rollout/           |          |\n",
            "|    ep_len_mean     | 1e+03    |\n",
            "|    ep_rew_mean     | 1.29e+03 |\n",
            "| time/              |          |\n",
            "|    episodes        | 24       |\n",
            "|    fps             | 81       |\n",
            "|    time_elapsed    | 295      |\n",
            "|    total_timesteps | 24000    |\n",
            "| train/             |          |\n",
            "|    actor_loss      | -77.1    |\n",
            "|    critic_loss     | 2.39     |\n",
            "|    ent_coef        | 0.01     |\n",
            "|    learning_rate   | 0.0003   |\n",
            "|    n_updates       | 23899    |\n",
            "---------------------------------\n",
            "---------------------------------\n",
            "| rollout/           |          |\n",
            "|    ep_len_mean     | 1e+03    |\n",
            "|    ep_rew_mean     | 1.37e+03 |\n",
            "| time/              |          |\n",
            "|    episodes        | 28       |\n",
            "|    fps             | 81       |\n",
            "|    time_elapsed    | 341      |\n",
            "|    total_timesteps | 28000    |\n",
            "| train/             |          |\n",
            "|    actor_loss      | -87.2    |\n",
            "|    critic_loss     | 1.87     |\n",
            "|    ent_coef        | 0.01     |\n",
            "|    learning_rate   | 0.0003   |\n",
            "|    n_updates       | 27899    |\n",
            "---------------------------------\n",
            "---------------------------------\n",
            "| rollout/           |          |\n",
            "|    ep_len_mean     | 1e+03    |\n",
            "|    ep_rew_mean     | 1.44e+03 |\n",
            "| time/              |          |\n",
            "|    episodes        | 32       |\n",
            "|    fps             | 82       |\n",
            "|    time_elapsed    | 387      |\n",
            "|    total_timesteps | 32000    |\n",
            "| train/             |          |\n",
            "|    actor_loss      | -96.2    |\n",
            "|    critic_loss     | 2.41     |\n",
            "|    ent_coef        | 0.01     |\n",
            "|    learning_rate   | 0.0003   |\n",
            "|    n_updates       | 31899    |\n",
            "---------------------------------\n",
            "---------------------------------\n",
            "| rollout/           |          |\n",
            "|    ep_len_mean     | 1e+03    |\n",
            "|    ep_rew_mean     | 1.49e+03 |\n",
            "| time/              |          |\n",
            "|    episodes        | 36       |\n",
            "|    fps             | 83       |\n",
            "|    time_elapsed    | 433      |\n",
            "|    total_timesteps | 36000    |\n",
            "| train/             |          |\n",
            "|    actor_loss      | -106     |\n",
            "|    critic_loss     | 2.85     |\n",
            "|    ent_coef        | 0.01     |\n",
            "|    learning_rate   | 0.0003   |\n",
            "|    n_updates       | 35899    |\n",
            "---------------------------------\n",
            "---------------------------------\n",
            "| rollout/           |          |\n",
            "|    ep_len_mean     | 1e+03    |\n",
            "|    ep_rew_mean     | 1.54e+03 |\n",
            "| time/              |          |\n",
            "|    episodes        | 40       |\n",
            "|    fps             | 83       |\n",
            "|    time_elapsed    | 478      |\n",
            "|    total_timesteps | 40000    |\n",
            "| train/             |          |\n",
            "|    actor_loss      | -112     |\n",
            "|    critic_loss     | 2.45     |\n",
            "|    ent_coef        | 0.01     |\n",
            "|    learning_rate   | 0.0003   |\n",
            "|    n_updates       | 39899    |\n",
            "---------------------------------\n",
            "---------------------------------\n",
            "| rollout/           |          |\n",
            "|    ep_len_mean     | 1e+03    |\n",
            "|    ep_rew_mean     | 1.58e+03 |\n",
            "| time/              |          |\n",
            "|    episodes        | 44       |\n",
            "|    fps             | 83       |\n",
            "|    time_elapsed    | 523      |\n",
            "|    total_timesteps | 44000    |\n",
            "| train/             |          |\n",
            "|    actor_loss      | -119     |\n",
            "|    critic_loss     | 2.95     |\n",
            "|    ent_coef        | 0.01     |\n",
            "|    learning_rate   | 0.0003   |\n",
            "|    n_updates       | 43899    |\n",
            "---------------------------------\n",
            "---------------------------------\n",
            "| rollout/           |          |\n",
            "|    ep_len_mean     | 1e+03    |\n",
            "|    ep_rew_mean     | 1.61e+03 |\n",
            "| time/              |          |\n",
            "|    episodes        | 48       |\n",
            "|    fps             | 84       |\n",
            "|    time_elapsed    | 568      |\n",
            "|    total_timesteps | 48000    |\n",
            "| train/             |          |\n",
            "|    actor_loss      | -125     |\n",
            "|    critic_loss     | 2.03     |\n",
            "|    ent_coef        | 0.01     |\n",
            "|    learning_rate   | 0.0003   |\n",
            "|    n_updates       | 47899    |\n",
            "---------------------------------\n",
            "---------------------------------\n",
            "| rollout/           |          |\n",
            "|    ep_len_mean     | 1e+03    |\n",
            "|    ep_rew_mean     | 1.64e+03 |\n",
            "| time/              |          |\n",
            "|    episodes        | 52       |\n",
            "|    fps             | 84       |\n",
            "|    time_elapsed    | 617      |\n",
            "|    total_timesteps | 52000    |\n",
            "| train/             |          |\n",
            "|    actor_loss      | -131     |\n",
            "|    critic_loss     | 2.68     |\n",
            "|    ent_coef        | 0.01     |\n",
            "|    learning_rate   | 0.0003   |\n",
            "|    n_updates       | 51899    |\n",
            "---------------------------------\n",
            "---------------------------------\n",
            "| rollout/           |          |\n",
            "|    ep_len_mean     | 1e+03    |\n",
            "|    ep_rew_mean     | 1.68e+03 |\n",
            "| time/              |          |\n",
            "|    episodes        | 56       |\n",
            "|    fps             | 83       |\n",
            "|    time_elapsed    | 672      |\n",
            "|    total_timesteps | 56000    |\n",
            "| train/             |          |\n",
            "|    actor_loss      | -135     |\n",
            "|    critic_loss     | 2.45     |\n",
            "|    ent_coef        | 0.01     |\n",
            "|    learning_rate   | 0.0003   |\n",
            "|    n_updates       | 55899    |\n",
            "---------------------------------\n",
            "---------------------------------\n",
            "| rollout/           |          |\n",
            "|    ep_len_mean     | 1e+03    |\n",
            "|    ep_rew_mean     | 1.71e+03 |\n",
            "| time/              |          |\n",
            "|    episodes        | 60       |\n",
            "|    fps             | 82       |\n",
            "|    time_elapsed    | 726      |\n",
            "|    total_timesteps | 60000    |\n",
            "| train/             |          |\n",
            "|    actor_loss      | -140     |\n",
            "|    critic_loss     | 2.67     |\n",
            "|    ent_coef        | 0.01     |\n",
            "|    learning_rate   | 0.0003   |\n",
            "|    n_updates       | 59899    |\n",
            "---------------------------------\n",
            "---------------------------------\n",
            "| rollout/           |          |\n",
            "|    ep_len_mean     | 1e+03    |\n",
            "|    ep_rew_mean     | 1.73e+03 |\n",
            "| time/              |          |\n",
            "|    episodes        | 64       |\n",
            "|    fps             | 82       |\n",
            "|    time_elapsed    | 777      |\n",
            "|    total_timesteps | 64000    |\n",
            "| train/             |          |\n",
            "|    actor_loss      | -142     |\n",
            "|    critic_loss     | 2.56     |\n",
            "|    ent_coef        | 0.01     |\n",
            "|    learning_rate   | 0.0003   |\n",
            "|    n_updates       | 63899    |\n",
            "---------------------------------\n",
            "---------------------------------\n",
            "| rollout/           |          |\n",
            "|    ep_len_mean     | 1e+03    |\n",
            "|    ep_rew_mean     | 1.76e+03 |\n",
            "| time/              |          |\n",
            "|    episodes        | 68       |\n",
            "|    fps             | 82       |\n",
            "|    time_elapsed    | 829      |\n",
            "|    total_timesteps | 68000    |\n",
            "| train/             |          |\n",
            "|    actor_loss      | -146     |\n",
            "|    critic_loss     | 2.69     |\n",
            "|    ent_coef        | 0.01     |\n",
            "|    learning_rate   | 0.0003   |\n",
            "|    n_updates       | 67899    |\n",
            "---------------------------------\n",
            "---------------------------------\n",
            "| rollout/           |          |\n",
            "|    ep_len_mean     | 1e+03    |\n",
            "|    ep_rew_mean     | 1.78e+03 |\n",
            "| time/              |          |\n",
            "|    episodes        | 72       |\n",
            "|    fps             | 82       |\n",
            "|    time_elapsed    | 877      |\n",
            "|    total_timesteps | 72000    |\n",
            "| train/             |          |\n",
            "|    actor_loss      | -148     |\n",
            "|    critic_loss     | 2.12     |\n",
            "|    ent_coef        | 0.01     |\n",
            "|    learning_rate   | 0.0003   |\n",
            "|    n_updates       | 71899    |\n",
            "---------------------------------\n",
            "---------------------------------\n",
            "| rollout/           |          |\n",
            "|    ep_len_mean     | 1e+03    |\n",
            "|    ep_rew_mean     | 1.8e+03  |\n",
            "| time/              |          |\n",
            "|    episodes        | 76       |\n",
            "|    fps             | 81       |\n",
            "|    time_elapsed    | 930      |\n",
            "|    total_timesteps | 76000    |\n",
            "| train/             |          |\n",
            "|    actor_loss      | -153     |\n",
            "|    critic_loss     | 1.91     |\n",
            "|    ent_coef        | 0.01     |\n",
            "|    learning_rate   | 0.0003   |\n",
            "|    n_updates       | 75899    |\n",
            "---------------------------------\n",
            "---------------------------------\n",
            "| rollout/           |          |\n",
            "|    ep_len_mean     | 1e+03    |\n",
            "|    ep_rew_mean     | 1.82e+03 |\n",
            "| time/              |          |\n",
            "|    episodes        | 80       |\n",
            "|    fps             | 81       |\n",
            "|    time_elapsed    | 976      |\n",
            "|    total_timesteps | 80000    |\n",
            "| train/             |          |\n",
            "|    actor_loss      | -154     |\n",
            "|    critic_loss     | 2.01     |\n",
            "|    ent_coef        | 0.01     |\n",
            "|    learning_rate   | 0.0003   |\n",
            "|    n_updates       | 79899    |\n",
            "---------------------------------\n",
            "---------------------------------\n",
            "| rollout/           |          |\n",
            "|    ep_len_mean     | 1e+03    |\n",
            "|    ep_rew_mean     | 1.84e+03 |\n",
            "| time/              |          |\n",
            "|    episodes        | 84       |\n",
            "|    fps             | 81       |\n",
            "|    time_elapsed    | 1030     |\n",
            "|    total_timesteps | 84000    |\n",
            "| train/             |          |\n",
            "|    actor_loss      | -156     |\n",
            "|    critic_loss     | 2.29     |\n",
            "|    ent_coef        | 0.01     |\n",
            "|    learning_rate   | 0.0003   |\n",
            "|    n_updates       | 83899    |\n",
            "---------------------------------\n",
            "---------------------------------\n",
            "| rollout/           |          |\n",
            "|    ep_len_mean     | 1e+03    |\n",
            "|    ep_rew_mean     | 1.86e+03 |\n",
            "| time/              |          |\n",
            "|    episodes        | 88       |\n",
            "|    fps             | 81       |\n",
            "|    time_elapsed    | 1080     |\n",
            "|    total_timesteps | 88000    |\n",
            "| train/             |          |\n",
            "|    actor_loss      | -158     |\n",
            "|    critic_loss     | 2.16     |\n",
            "|    ent_coef        | 0.01     |\n",
            "|    learning_rate   | 0.0003   |\n",
            "|    n_updates       | 87899    |\n",
            "---------------------------------\n",
            "---------------------------------\n",
            "| rollout/           |          |\n",
            "|    ep_len_mean     | 1e+03    |\n",
            "|    ep_rew_mean     | 1.88e+03 |\n",
            "| time/              |          |\n",
            "|    episodes        | 92       |\n",
            "|    fps             | 81       |\n",
            "|    time_elapsed    | 1130     |\n",
            "|    total_timesteps | 92000    |\n",
            "| train/             |          |\n",
            "|    actor_loss      | -161     |\n",
            "|    critic_loss     | 2.31     |\n",
            "|    ent_coef        | 0.01     |\n",
            "|    learning_rate   | 0.0003   |\n",
            "|    n_updates       | 91899    |\n",
            "---------------------------------\n",
            "---------------------------------\n",
            "| rollout/           |          |\n",
            "|    ep_len_mean     | 1e+03    |\n",
            "|    ep_rew_mean     | 1.9e+03  |\n",
            "| time/              |          |\n",
            "|    episodes        | 96       |\n",
            "|    fps             | 81       |\n",
            "|    time_elapsed    | 1180     |\n",
            "|    total_timesteps | 96000    |\n",
            "| train/             |          |\n",
            "|    actor_loss      | -164     |\n",
            "|    critic_loss     | 2.05     |\n",
            "|    ent_coef        | 0.01     |\n",
            "|    learning_rate   | 0.0003   |\n",
            "|    n_updates       | 95899    |\n",
            "---------------------------------\n",
            "---------------------------------\n",
            "| rollout/           |          |\n",
            "|    ep_len_mean     | 1e+03    |\n",
            "|    ep_rew_mean     | 1.92e+03 |\n",
            "| time/              |          |\n",
            "|    episodes        | 100      |\n",
            "|    fps             | 81       |\n",
            "|    time_elapsed    | 1230     |\n",
            "|    total_timesteps | 100000   |\n",
            "| train/             |          |\n",
            "|    actor_loss      | -165     |\n",
            "|    critic_loss     | 2.23     |\n",
            "|    ent_coef        | 0.01     |\n",
            "|    learning_rate   | 0.0003   |\n",
            "|    n_updates       | 99899    |\n",
            "---------------------------------\n"
          ]
        },
        {
          "output_type": "execute_result",
          "data": {
            "text/plain": [
              "<stable_baselines3.sac.sac.SAC at 0x7b0055aecf70>"
            ]
          },
          "metadata": {},
          "execution_count": 21
        }
      ]
    },
    {
      "cell_type": "code",
      "source": [
        "end_time = time.time() # останавливаем таймер\n",
        "execution_time = end_time - start_time\n",
        "\n",
        "print(f\"Время выполнения обучения: {execution_time} секунд\")\n"
      ],
      "metadata": {
        "colab": {
          "base_uri": "https://localhost:8080/"
        },
        "id": "b4Q-CH8s2yqj",
        "outputId": "4dec0d80-a617-47e2-b749-1ea89545dbfa"
      },
      "execution_count": 22,
      "outputs": [
        {
          "output_type": "stream",
          "name": "stdout",
          "text": [
            "Время выполнения обучения: 1231.5243501663208 секунд\n"
          ]
        }
      ]
    },
    {
      "cell_type": "code",
      "source": [
        "# Оценка политики, 10 прогонов с логированием метрик\n",
        "mean_reward, std_reward = evaluate_policy(model, model.get_env(), n_eval_episodes=10)\n"
      ],
      "metadata": {
        "id": "d8cuRlJi4GkD"
      },
      "execution_count": 23,
      "outputs": []
    },
    {
      "cell_type": "code",
      "source": [
        "# Вывод доказательств, что агент пытался как паровозик, который смог\n",
        "\n",
        "print(f\"Среднее вознаграждение: {mean_reward}\")\n",
        "print(f\"Стандартное отклонение: {std_reward}\")\n",
        "print(f\"Время выполнения обучения: {execution_time} секунд\")\n"
      ],
      "metadata": {
        "colab": {
          "base_uri": "https://localhost:8080/"
        },
        "id": "OsizwxTv4JLM",
        "outputId": "da4e2867-2078-4fc8-f994-597425f888e8"
      },
      "execution_count": 24,
      "outputs": [
        {
          "output_type": "stream",
          "name": "stdout",
          "text": [
            "Среднее вознаграждение: 2152.5014709\n",
            "Стандартное отклонение: 617.8566141688166\n",
            "Время выполнения обучения: 1231.5243501663208 секунд\n"
          ]
        }
      ]
    },
    {
      "cell_type": "code",
      "source": [
        "plt.figure(figsize=(10, 6))\n",
        "\n",
        "bar_reward = plt.barh(0, mean_reward, label='Среднее вознаграждение', color='green')\n",
        "\n",
        "bar_time = plt.barh(1, execution_time, label='Время выполнения', color='blue')\n",
        "\n",
        "plt.text(mean_reward + 10, 0, f'{round(mean_reward, 2)}', ha='left', va='center')\n",
        "plt.text(execution_time + 10, 1, f'{execution_time} с', ha='left', va='center')\n",
        "\n",
        "plt.title('Среднее вознаграждение и время выполнения')\n",
        "plt.xlabel('Ценность')\n",
        "plt.ylabel('Метрики')\n",
        "\n",
        "plt.legend()\n",
        "\n",
        "# Отображение графика\n",
        "plt.tight_layout()\n",
        "plt.show()\n"
      ],
      "metadata": {
        "colab": {
          "base_uri": "https://localhost:8080/",
          "height": 607
        },
        "id": "BxTjMvB4Z0Z7",
        "outputId": "9cacfa07-b82a-4e72-c7cc-bf718466e17b"
      },
      "execution_count": 32,
      "outputs": [
        {
          "output_type": "display_data",
          "data": {
            "text/plain": [
              "<Figure size 1000x600 with 1 Axes>"
            ],
            "image/png": "[encoded data removed]"
          },
          "metadata": {}
        }
      ]
    },
    {
      "cell_type": "code",
      "source": [
        "model.save(\"sac_cheetah\")\n"
      ],
      "metadata": {
        "id": "vi9eYFMn1npQ"
      },
      "execution_count": 33,
      "outputs": []
    },
    {
      "cell_type": "code",
      "source": [
        "# Закрытие среды\n",
        "env.close()\n"
      ],
      "metadata": {
        "id": "6-NEaTko1nll"
      },
      "execution_count": 34,
      "outputs": []
    },
    {
      "cell_type": "code",
      "source": [
        "wandb.finish()\n"
      ],
      "metadata": {
        "id": "b3VZskoyDMTc",
        "colab": {
          "base_uri": "https://localhost:8080/",
          "height": 1000,
          "referenced_widgets": [
            "afe9098ef96b44ea814c92736fed6651",
            "35882b39d26444c5bf39817dbaaba643",
            "14abf63c19714f90a1ffa0afb7e61a17",
            "9b71b7bd30b04684a012b8dd6cdd582d",
            "2a1370ea169040f0a4a1dcf862fcf021",
            "69c00f9ba0754225a620ae88862ff307",
            "741c94b48b8e4c2695f94692e007565d",
            "ea177f9822134dedb488fef89d080d04"
          ]
        },
        "outputId": "d8f6f30b-be90-4f36-dba8-71f260507fbc"
      },
      "execution_count": 35,
      "outputs": [
        {
          "output_type": "display_data",
          "data": {
            "text/plain": [
              "VBox(children=(Label(value='0.001 MB of 0.001 MB uploaded\\r'), FloatProgress(value=1.0, max=1.0)))"
            ],
            "application/vnd.jupyter.widget-view+json": {
              "version_major": 2,
              "version_minor": 0,
              "model_id": "afe9098ef96b44ea814c92736fed6651"
            }
          },
          "metadata": {}
        },
        {
          "output_type": "display_data",
          "data": {
            "text/plain": [
              "<IPython.core.display.HTML object>"
            ],
            "text/html": [
              "<style>\n",
              "    table.wandb td:nth-child(1) { padding: 0 10px; text-align: left ; width: auto;} td:nth-child(2) {text-align: left ; width: 100%}\n",
              "    .wandb-row { display: flex; flex-direction: row; flex-wrap: wrap; justify-content: flex-start; width: 100% }\n",
              "    .wandb-col { display: flex; flex-direction: column; flex-basis: 100%; flex: 1; padding: 10px; }\n",
              "    </style>\n",
              "<div class=\"wandb-row\"><div class=\"wandb-col\"><h3>Run history:</h3><br/><table class=\"wandb\"><tr><td>length</td><td>▁▁▁▁▁▁▁▁▁▁▁▁▁▁▁▁▁▁▁▁▁▁▁▁▁▁▁▁▁▁▁▁▁▁▁▁▁▁▁▁</td></tr><tr><td>reward</td><td>▁▁▁▁▁▁▁▁▁▂▁▃▄▄▅▅▅▅▅▆▅▆▇▆▆▆▇▇▇▇▇█▇▇██▇▇█▆</td></tr></table><br/></div><div class=\"wandb-col\"><h3>Run summary:</h3><br/><table class=\"wandb\"><tr><td>length</td><td>1000</td></tr><tr><td>reward</td><td>2378.85784</td></tr></table><br/></div></div>"
            ]
          },
          "metadata": {}
        },
        {
          "output_type": "display_data",
          "data": {
            "text/plain": [
              "<IPython.core.display.HTML object>"
            ],
            "text/html": [
              " View run <strong style=\"color:#cdcd00\">fanciful-wildflower-9</strong> at: <a href='https://wandb.ai/senich17/SAC_Pybullet/runs/nt2ia913' target=\"_blank\">https://wandb.ai/senich17/SAC_Pybullet/runs/nt2ia913</a><br/> View project at: <a href='https://wandb.ai/senich17/SAC_Pybullet' target=\"_blank\">https://wandb.ai/senich17/SAC_Pybullet</a><br/>Synced 5 W&B file(s), 0 media file(s), 0 artifact file(s) and 0 other file(s)"
            ]
          },
          "metadata": {}
        },
        {
          "output_type": "display_data",
          "data": {
            "text/plain": [
              "<IPython.core.display.HTML object>"
            ],
            "text/html": [
              "Find logs at: <code>./wandb/run-20240516_113711-nt2ia913/logs</code>"
            ]
          },
          "metadata": {}
        },
        {
          "output_type": "display_data",
          "data": {
            "text/plain": [
              "<IPython.core.display.HTML object>"
            ],
            "text/html": [
              "Step only supports monotonically increasing values, use define_metric to set a custom x axis. For details see: https://wandb.me/define-metric"
            ]
          },
          "metadata": {}
        },
        {
          "output_type": "display_data",
          "data": {
            "text/plain": [
              "<IPython.core.display.HTML object>"
            ],
            "text/html": [
              "(User provided step: 1000 is less than current step: 100000. Dropping entry: {'reward': -299.184706, 'length': 1000, '_timestamp': 1715861038.2224898})."
            ]
          },
          "metadata": {}
        },
        {
          "output_type": "display_data",
          "data": {
            "text/plain": [
              "<IPython.core.display.HTML object>"
            ],
            "text/html": [
              "(User provided step: 2000 is less than current step: 100000. Dropping entry: {'reward': 132.745527, 'length': 1000, '_timestamp': 1715861050.249702})."
            ]
          },
          "metadata": {}
        },
        {
          "output_type": "display_data",
          "data": {
            "text/plain": [
              "<IPython.core.display.HTML object>"
            ],
            "text/html": [
              "(User provided step: 3000 is less than current step: 100000. Dropping entry: {'reward': 131.223699, 'length': 1000, '_timestamp': 1715861062.200518})."
            ]
          },
          "metadata": {}
        },
        {
          "output_type": "display_data",
          "data": {
            "text/plain": [
              "<IPython.core.display.HTML object>"
            ],
            "text/html": [
              "(User provided step: 4000 is less than current step: 100000. Dropping entry: {'reward': 695.110796, 'length': 1000, '_timestamp': 1715861077.3054817})."
            ]
          },
          "metadata": {}
        },
        {
          "output_type": "display_data",
          "data": {
            "text/plain": [
              "<IPython.core.display.HTML object>"
            ],
            "text/html": [
              "(User provided step: 5000 is less than current step: 100000. Dropping entry: {'reward': 828.065448, 'length': 1000, '_timestamp': 1715861088.5088162})."
            ]
          },
          "metadata": {}
        },
        {
          "output_type": "display_data",
          "data": {
            "text/plain": [
              "<IPython.core.display.HTML object>"
            ],
            "text/html": [
              "(User provided step: 6000 is less than current step: 100000. Dropping entry: {'reward': 831.966607, 'length': 1000, '_timestamp': 1715861103.9816186})."
            ]
          },
          "metadata": {}
        },
        {
          "output_type": "display_data",
          "data": {
            "text/plain": [
              "<IPython.core.display.HTML object>"
            ],
            "text/html": [
              "(User provided step: 7000 is less than current step: 100000. Dropping entry: {'reward': 1104.39612, 'length': 1000, '_timestamp': 1715861118.0881472})."
            ]
          },
          "metadata": {}
        },
        {
          "output_type": "display_data",
          "data": {
            "text/plain": [
              "<IPython.core.display.HTML object>"
            ],
            "text/html": [
              "(User provided step: 8000 is less than current step: 100000. Dropping entry: {'reward': 1340.762063, 'length': 1000, '_timestamp': 1715861130.9779956})."
            ]
          },
          "metadata": {}
        },
        {
          "output_type": "display_data",
          "data": {
            "text/plain": [
              "<IPython.core.display.HTML object>"
            ],
            "text/html": [
              "(User provided step: 9000 is less than current step: 100000. Dropping entry: {'reward': 1466.002809, 'length': 1000, '_timestamp': 1715861145.9919188})."
            ]
          },
          "metadata": {}
        },
        {
          "output_type": "display_data",
          "data": {
            "text/plain": [
              "<IPython.core.display.HTML object>"
            ],
            "text/html": [
              "(User provided step: 10000 is less than current step: 100000. Dropping entry: {'reward': 1565.075642, 'length': 1000, '_timestamp': 1715861158.2721605})."
            ]
          },
          "metadata": {}
        },
        {
          "output_type": "display_data",
          "data": {
            "text/plain": [
              "<IPython.core.display.HTML object>"
            ],
            "text/html": [
              "(User provided step: 11000 is less than current step: 100000. Dropping entry: {'reward': 1598.294571, 'length': 1000, '_timestamp': 1715861169.399386})."
            ]
          },
          "metadata": {}
        },
        {
          "output_type": "display_data",
          "data": {
            "text/plain": [
              "<IPython.core.display.HTML object>"
            ],
            "text/html": [
              "(User provided step: 12000 is less than current step: 100000. Dropping entry: {'reward': 1519.600699, 'length': 1000, '_timestamp': 1715861182.255304})."
            ]
          },
          "metadata": {}
        },
        {
          "output_type": "display_data",
          "data": {
            "text/plain": [
              "<IPython.core.display.HTML object>"
            ],
            "text/html": [
              "(User provided step: 13000 is less than current step: 100000. Dropping entry: {'reward': 1661.067086, 'length': 1000, '_timestamp': 1715861193.7309024})."
            ]
          },
          "metadata": {}
        },
        {
          "output_type": "display_data",
          "data": {
            "text/plain": [
              "<IPython.core.display.HTML object>"
            ],
            "text/html": [
              "(User provided step: 14000 is less than current step: 100000. Dropping entry: {'reward': 1610.875764, 'length': 1000, '_timestamp': 1715861205.4611342})."
            ]
          },
          "metadata": {}
        },
        {
          "output_type": "display_data",
          "data": {
            "text/plain": [
              "<IPython.core.display.HTML object>"
            ],
            "text/html": [
              "(User provided step: 15000 is less than current step: 100000. Dropping entry: {'reward': 1810.554301, 'length': 1000, '_timestamp': 1715861217.2817287})."
            ]
          },
          "metadata": {}
        },
        {
          "output_type": "display_data",
          "data": {
            "text/plain": [
              "<IPython.core.display.HTML object>"
            ],
            "text/html": [
              "(User provided step: 16000 is less than current step: 100000. Dropping entry: {'reward': 1684.181103, 'length': 1000, '_timestamp': 1715861229.4522104})."
            ]
          },
          "metadata": {}
        },
        {
          "output_type": "display_data",
          "data": {
            "text/plain": [
              "<IPython.core.display.HTML object>"
            ],
            "text/html": [
              "(User provided step: 17000 is less than current step: 100000. Dropping entry: {'reward': 1720.070005, 'length': 1000, '_timestamp': 1715861241.0121422})."
            ]
          },
          "metadata": {}
        },
        {
          "output_type": "display_data",
          "data": {
            "text/plain": [
              "<IPython.core.display.HTML object>"
            ],
            "text/html": [
              "(User provided step: 18000 is less than current step: 100000. Dropping entry: {'reward': 1717.835226, 'length': 1000, '_timestamp': 1715861252.5777867})."
            ]
          },
          "metadata": {}
        },
        {
          "output_type": "display_data",
          "data": {
            "text/plain": [
              "<IPython.core.display.HTML object>"
            ],
            "text/html": [
              "(User provided step: 19000 is less than current step: 100000. Dropping entry: {'reward': 1606.816387, 'length': 1000, '_timestamp': 1715861263.76024})."
            ]
          },
          "metadata": {}
        },
        {
          "output_type": "display_data",
          "data": {
            "text/plain": [
              "<IPython.core.display.HTML object>"
            ],
            "text/html": [
              "(User provided step: 20000 is less than current step: 100000. Dropping entry: {'reward': 1682.920534, 'length': 1000, '_timestamp': 1715861274.7176027})."
            ]
          },
          "metadata": {}
        },
        {
          "output_type": "display_data",
          "data": {
            "text/plain": [
              "<IPython.core.display.HTML object>"
            ],
            "text/html": [
              "(User provided step: 21000 is less than current step: 100000. Dropping entry: {'reward': 1610.617199, 'length': 1000, '_timestamp': 1715861286.562342})."
            ]
          },
          "metadata": {}
        },
        {
          "output_type": "display_data",
          "data": {
            "text/plain": [
              "<IPython.core.display.HTML object>"
            ],
            "text/html": [
              "(User provided step: 22000 is less than current step: 100000. Dropping entry: {'reward': 1602.80069, 'length': 1000, '_timestamp': 1715861298.0731122})."
            ]
          },
          "metadata": {}
        },
        {
          "output_type": "display_data",
          "data": {
            "text/plain": [
              "<IPython.core.display.HTML object>"
            ],
            "text/html": [
              "(User provided step: 23000 is less than current step: 100000. Dropping entry: {'reward': 1727.384313, 'length': 1000, '_timestamp': 1715861309.5114915})."
            ]
          },
          "metadata": {}
        },
        {
          "output_type": "display_data",
          "data": {
            "text/plain": [
              "<IPython.core.display.HTML object>"
            ],
            "text/html": [
              "(User provided step: 24000 is less than current step: 100000. Dropping entry: {'reward': 1698.192768, 'length': 1000, '_timestamp': 1715861321.1152496})."
            ]
          },
          "metadata": {}
        },
        {
          "output_type": "display_data",
          "data": {
            "text/plain": [
              "<IPython.core.display.HTML object>"
            ],
            "text/html": [
              "(User provided step: 25000 is less than current step: 100000. Dropping entry: {'reward': 1735.184025, 'length': 1000, '_timestamp': 1715861332.7469409})."
            ]
          },
          "metadata": {}
        },
        {
          "output_type": "display_data",
          "data": {
            "text/plain": [
              "<IPython.core.display.HTML object>"
            ],
            "text/html": [
              "(User provided step: 26000 is less than current step: 100000. Dropping entry: {'reward': 1687.536238, 'length': 1000, '_timestamp': 1715861344.218904})."
            ]
          },
          "metadata": {}
        },
        {
          "output_type": "display_data",
          "data": {
            "text/plain": [
              "<IPython.core.display.HTML object>"
            ],
            "text/html": [
              "(User provided step: 27000 is less than current step: 100000. Dropping entry: {'reward': 1992.426921, 'length': 1000, '_timestamp': 1715861356.1715271})."
            ]
          },
          "metadata": {}
        },
        {
          "output_type": "display_data",
          "data": {
            "text/plain": [
              "<IPython.core.display.HTML object>"
            ],
            "text/html": [
              "(User provided step: 28000 is less than current step: 100000. Dropping entry: {'reward': 1949.540379, 'length': 1000, '_timestamp': 1715861367.0991747})."
            ]
          },
          "metadata": {}
        },
        {
          "output_type": "display_data",
          "data": {
            "text/plain": [
              "<IPython.core.display.HTML object>"
            ],
            "text/html": [
              "(User provided step: 29000 is less than current step: 100000. Dropping entry: {'reward': 1952.49399, 'length': 1000, '_timestamp': 1715861378.1469822})."
            ]
          },
          "metadata": {}
        },
        {
          "output_type": "display_data",
          "data": {
            "text/plain": [
              "<IPython.core.display.HTML object>"
            ],
            "text/html": [
              "(User provided step: 30000 is less than current step: 100000. Dropping entry: {'reward': 1959.144432, 'length': 1000, '_timestamp': 1715861389.6171696})."
            ]
          },
          "metadata": {}
        },
        {
          "output_type": "display_data",
          "data": {
            "text/plain": [
              "<IPython.core.display.HTML object>"
            ],
            "text/html": [
              "(User provided step: 31000 is less than current step: 100000. Dropping entry: {'reward': 1903.817254, 'length': 1000, '_timestamp': 1715861401.1370676})."
            ]
          },
          "metadata": {}
        },
        {
          "output_type": "display_data",
          "data": {
            "text/plain": [
              "<IPython.core.display.HTML object>"
            ],
            "text/html": [
              "(User provided step: 32000 is less than current step: 100000. Dropping entry: {'reward': 1871.278072, 'length': 1000, '_timestamp': 1715861412.6791887})."
            ]
          },
          "metadata": {}
        },
        {
          "output_type": "display_data",
          "data": {
            "text/plain": [
              "<IPython.core.display.HTML object>"
            ],
            "text/html": [
              "(User provided step: 33000 is less than current step: 100000. Dropping entry: {'reward': 2017.449291, 'length': 1000, '_timestamp': 1715861424.303669})."
            ]
          },
          "metadata": {}
        },
        {
          "output_type": "display_data",
          "data": {
            "text/plain": [
              "<IPython.core.display.HTML object>"
            ],
            "text/html": [
              "(User provided step: 34000 is less than current step: 100000. Dropping entry: {'reward': 1870.851106, 'length': 1000, '_timestamp': 1715861435.7302701})."
            ]
          },
          "metadata": {}
        },
        {
          "output_type": "display_data",
          "data": {
            "text/plain": [
              "<IPython.core.display.HTML object>"
            ],
            "text/html": [
              "(User provided step: 35000 is less than current step: 100000. Dropping entry: {'reward': 1857.761539, 'length': 1000, '_timestamp': 1715861447.1415668})."
            ]
          },
          "metadata": {}
        },
        {
          "output_type": "display_data",
          "data": {
            "text/plain": [
              "<IPython.core.display.HTML object>"
            ],
            "text/html": [
              "(User provided step: 36000 is less than current step: 100000. Dropping entry: {'reward': 1951.65595, 'length': 1000, '_timestamp': 1715861458.4606588})."
            ]
          },
          "metadata": {}
        },
        {
          "output_type": "display_data",
          "data": {
            "text/plain": [
              "<IPython.core.display.HTML object>"
            ],
            "text/html": [
              "(User provided step: 37000 is less than current step: 100000. Dropping entry: {'reward': 1880.462234, 'length': 1000, '_timestamp': 1715861470.535774})."
            ]
          },
          "metadata": {}
        },
        {
          "output_type": "display_data",
          "data": {
            "text/plain": [
              "<IPython.core.display.HTML object>"
            ],
            "text/html": [
              "(User provided step: 38000 is less than current step: 100000. Dropping entry: {'reward': 1957.782972, 'length': 1000, '_timestamp': 1715861481.3335314})."
            ]
          },
          "metadata": {}
        },
        {
          "output_type": "display_data",
          "data": {
            "text/plain": [
              "<IPython.core.display.HTML object>"
            ],
            "text/html": [
              "(User provided step: 39000 is less than current step: 100000. Dropping entry: {'reward': 1855.170246, 'length': 1000, '_timestamp': 1715861492.7017121})."
            ]
          },
          "metadata": {}
        },
        {
          "output_type": "display_data",
          "data": {
            "text/plain": [
              "<IPython.core.display.HTML object>"
            ],
            "text/html": [
              "(User provided step: 40000 is less than current step: 100000. Dropping entry: {'reward': 1997.025948, 'length': 1000, '_timestamp': 1715861504.063599})."
            ]
          },
          "metadata": {}
        },
        {
          "output_type": "display_data",
          "data": {
            "text/plain": [
              "<IPython.core.display.HTML object>"
            ],
            "text/html": [
              "(User provided step: 41000 is less than current step: 100000. Dropping entry: {'reward': 1991.727656, 'length': 1000, '_timestamp': 1715861515.4046495})."
            ]
          },
          "metadata": {}
        },
        {
          "output_type": "display_data",
          "data": {
            "text/plain": [
              "<IPython.core.display.HTML object>"
            ],
            "text/html": [
              "(User provided step: 42000 is less than current step: 100000. Dropping entry: {'reward': 2002.371417, 'length': 1000, '_timestamp': 1715861526.7349014})."
            ]
          },
          "metadata": {}
        },
        {
          "output_type": "display_data",
          "data": {
            "text/plain": [
              "<IPython.core.display.HTML object>"
            ],
            "text/html": [
              "(User provided step: 43000 is less than current step: 100000. Dropping entry: {'reward': 1934.202748, 'length': 1000, '_timestamp': 1715861538.0820205})."
            ]
          },
          "metadata": {}
        },
        {
          "output_type": "display_data",
          "data": {
            "text/plain": [
              "<IPython.core.display.HTML object>"
            ],
            "text/html": [
              "(User provided step: 44000 is less than current step: 100000. Dropping entry: {'reward': 1962.334204, 'length': 1000, '_timestamp': 1715861549.3588529})."
            ]
          },
          "metadata": {}
        },
        {
          "output_type": "display_data",
          "data": {
            "text/plain": [
              "<IPython.core.display.HTML object>"
            ],
            "text/html": [
              "(User provided step: 45000 is less than current step: 100000. Dropping entry: {'reward': 1927.648461, 'length': 1000, '_timestamp': 1715861560.587952})."
            ]
          },
          "metadata": {}
        },
        {
          "output_type": "display_data",
          "data": {
            "text/plain": [
              "<IPython.core.display.HTML object>"
            ],
            "text/html": [
              "(User provided step: 46000 is less than current step: 100000. Dropping entry: {'reward': 1991.472597, 'length': 1000, '_timestamp': 1715861571.3035378})."
            ]
          },
          "metadata": {}
        },
        {
          "output_type": "display_data",
          "data": {
            "text/plain": [
              "<IPython.core.display.HTML object>"
            ],
            "text/html": [
              "(User provided step: 47000 is less than current step: 100000. Dropping entry: {'reward': 1968.684754, 'length': 1000, '_timestamp': 1715861582.610425})."
            ]
          },
          "metadata": {}
        },
        {
          "output_type": "display_data",
          "data": {
            "text/plain": [
              "<IPython.core.display.HTML object>"
            ],
            "text/html": [
              "(User provided step: 48000 is less than current step: 100000. Dropping entry: {'reward': 1965.79574, 'length': 1000, '_timestamp': 1715861593.9852488})."
            ]
          },
          "metadata": {}
        },
        {
          "output_type": "display_data",
          "data": {
            "text/plain": [
              "<IPython.core.display.HTML object>"
            ],
            "text/html": [
              "(User provided step: 49000 is less than current step: 100000. Dropping entry: {'reward': 2040.578067, 'length': 1000, '_timestamp': 1715861605.405366})."
            ]
          },
          "metadata": {}
        },
        {
          "output_type": "display_data",
          "data": {
            "text/plain": [
              "<IPython.core.display.HTML object>"
            ],
            "text/html": [
              "(User provided step: 50000 is less than current step: 100000. Dropping entry: {'reward': 2040.903073, 'length': 1000, '_timestamp': 1715861616.7999718})."
            ]
          },
          "metadata": {}
        },
        {
          "output_type": "display_data",
          "data": {
            "text/plain": [
              "<IPython.core.display.HTML object>"
            ],
            "text/html": [
              "(User provided step: 51000 is less than current step: 100000. Dropping entry: {'reward': 2103.798693, 'length': 1000, '_timestamp': 1715861628.104241})."
            ]
          },
          "metadata": {}
        },
        {
          "output_type": "display_data",
          "data": {
            "text/plain": [
              "<IPython.core.display.HTML object>"
            ],
            "text/html": [
              "(User provided step: 52000 is less than current step: 100000. Dropping entry: {'reward': 2059.223062, 'length': 1000, '_timestamp': 1715861643.0578282})."
            ]
          },
          "metadata": {}
        },
        {
          "output_type": "display_data",
          "data": {
            "text/plain": [
              "<IPython.core.display.HTML object>"
            ],
            "text/html": [
              "(User provided step: 53000 is less than current step: 100000. Dropping entry: {'reward': 2224.71744, 'length': 1000, '_timestamp': 1715861657.2218823})."
            ]
          },
          "metadata": {}
        },
        {
          "output_type": "display_data",
          "data": {
            "text/plain": [
              "<IPython.core.display.HTML object>"
            ],
            "text/html": [
              "(User provided step: 54000 is less than current step: 100000. Dropping entry: {'reward': 2051.673992, 'length': 1000, '_timestamp': 1715861669.9032545})."
            ]
          },
          "metadata": {}
        },
        {
          "output_type": "display_data",
          "data": {
            "text/plain": [
              "<IPython.core.display.HTML object>"
            ],
            "text/html": [
              "(User provided step: 55000 is less than current step: 100000. Dropping entry: {'reward': 2137.994823, 'length': 1000, '_timestamp': 1715861685.778382})."
            ]
          },
          "metadata": {}
        },
        {
          "output_type": "display_data",
          "data": {
            "text/plain": [
              "<IPython.core.display.HTML object>"
            ],
            "text/html": [
              "(User provided step: 56000 is less than current step: 100000. Dropping entry: {'reward': 2156.071349, 'length': 1000, '_timestamp': 1715861698.183971})."
            ]
          },
          "metadata": {}
        },
        {
          "output_type": "display_data",
          "data": {
            "text/plain": [
              "<IPython.core.display.HTML object>"
            ],
            "text/html": [
              "(User provided step: 57000 is less than current step: 100000. Dropping entry: {'reward': 2144.653968, 'length': 1000, '_timestamp': 1715861710.3679438})."
            ]
          },
          "metadata": {}
        },
        {
          "output_type": "display_data",
          "data": {
            "text/plain": [
              "<IPython.core.display.HTML object>"
            ],
            "text/html": [
              "(User provided step: 58000 is less than current step: 100000. Dropping entry: {'reward': 2040.716444, 'length': 1000, '_timestamp': 1715861723.1272855})."
            ]
          },
          "metadata": {}
        },
        {
          "output_type": "display_data",
          "data": {
            "text/plain": [
              "<IPython.core.display.HTML object>"
            ],
            "text/html": [
              "(User provided step: 59000 is less than current step: 100000. Dropping entry: {'reward': 2014.739145, 'length': 1000, '_timestamp': 1715861735.8981194})."
            ]
          },
          "metadata": {}
        },
        {
          "output_type": "display_data",
          "data": {
            "text/plain": [
              "<IPython.core.display.HTML object>"
            ],
            "text/html": [
              "(User provided step: 60000 is less than current step: 100000. Dropping entry: {'reward': 2157.227477, 'length': 1000, '_timestamp': 1715861751.9285617})."
            ]
          },
          "metadata": {}
        },
        {
          "output_type": "display_data",
          "data": {
            "text/plain": [
              "<IPython.core.display.HTML object>"
            ],
            "text/html": [
              "(User provided step: 61000 is less than current step: 100000. Dropping entry: {'reward': 2062.281129, 'length': 1000, '_timestamp': 1715861764.2747867})."
            ]
          },
          "metadata": {}
        },
        {
          "output_type": "display_data",
          "data": {
            "text/plain": [
              "<IPython.core.display.HTML object>"
            ],
            "text/html": [
              "(User provided step: 62000 is less than current step: 100000. Dropping entry: {'reward': 2059.070396, 'length': 1000, '_timestamp': 1715861777.8360085})."
            ]
          },
          "metadata": {}
        },
        {
          "output_type": "display_data",
          "data": {
            "text/plain": [
              "<IPython.core.display.HTML object>"
            ],
            "text/html": [
              "(User provided step: 63000 is less than current step: 100000. Dropping entry: {'reward': 2231.300602, 'length': 1000, '_timestamp': 1715861789.25306})."
            ]
          },
          "metadata": {}
        },
        {
          "output_type": "display_data",
          "data": {
            "text/plain": [
              "<IPython.core.display.HTML object>"
            ],
            "text/html": [
              "(User provided step: 64000 is less than current step: 100000. Dropping entry: {'reward': 2163.419578, 'length': 1000, '_timestamp': 1715861803.0556672})."
            ]
          },
          "metadata": {}
        },
        {
          "output_type": "display_data",
          "data": {
            "text/plain": [
              "<IPython.core.display.HTML object>"
            ],
            "text/html": [
              "(User provided step: 65000 is less than current step: 100000. Dropping entry: {'reward': 2101.444629, 'length': 1000, '_timestamp': 1715861816.0128942})."
            ]
          },
          "metadata": {}
        },
        {
          "output_type": "display_data",
          "data": {
            "text/plain": [
              "<IPython.core.display.HTML object>"
            ],
            "text/html": [
              "(User provided step: 66000 is less than current step: 100000. Dropping entry: {'reward': 2036.809479, 'length': 1000, '_timestamp': 1715861827.9199378})."
            ]
          },
          "metadata": {}
        },
        {
          "output_type": "display_data",
          "data": {
            "text/plain": [
              "<IPython.core.display.HTML object>"
            ],
            "text/html": [
              "(User provided step: 67000 is less than current step: 100000. Dropping entry: {'reward': 2149.416783, 'length': 1000, '_timestamp': 1715861841.2644386})."
            ]
          },
          "metadata": {}
        },
        {
          "output_type": "display_data",
          "data": {
            "text/plain": [
              "<IPython.core.display.HTML object>"
            ],
            "text/html": [
              "(User provided step: 68000 is less than current step: 100000. Dropping entry: {'reward': 2184.88965, 'length': 1000, '_timestamp': 1715861854.547248})."
            ]
          },
          "metadata": {}
        },
        {
          "output_type": "display_data",
          "data": {
            "text/plain": [
              "<IPython.core.display.HTML object>"
            ],
            "text/html": [
              "(User provided step: 69000 is less than current step: 100000. Dropping entry: {'reward': 2173.67478, 'length': 1000, '_timestamp': 1715861868.468395})."
            ]
          },
          "metadata": {}
        },
        {
          "output_type": "display_data",
          "data": {
            "text/plain": [
              "<IPython.core.display.HTML object>"
            ],
            "text/html": [
              "(User provided step: 70000 is less than current step: 100000. Dropping entry: {'reward': 2134.606172, 'length': 1000, '_timestamp': 1715861880.1009026})."
            ]
          },
          "metadata": {}
        },
        {
          "output_type": "display_data",
          "data": {
            "text/plain": [
              "<IPython.core.display.HTML object>"
            ],
            "text/html": [
              "(User provided step: 71000 is less than current step: 100000. Dropping entry: {'reward': 2218.235892, 'length': 1000, '_timestamp': 1715861891.929898})."
            ]
          },
          "metadata": {}
        },
        {
          "output_type": "display_data",
          "data": {
            "text/plain": [
              "<IPython.core.display.HTML object>"
            ],
            "text/html": [
              "(User provided step: 72000 is less than current step: 100000. Dropping entry: {'reward': 2182.14089, 'length': 1000, '_timestamp': 1715861903.381548})."
            ]
          },
          "metadata": {}
        },
        {
          "output_type": "display_data",
          "data": {
            "text/plain": [
              "<IPython.core.display.HTML object>"
            ],
            "text/html": [
              "(User provided step: 73000 is less than current step: 100000. Dropping entry: {'reward': 2184.527221, 'length': 1000, '_timestamp': 1715861914.4653976})."
            ]
          },
          "metadata": {}
        },
        {
          "output_type": "display_data",
          "data": {
            "text/plain": [
              "<IPython.core.display.HTML object>"
            ],
            "text/html": [
              "(User provided step: 74000 is less than current step: 100000. Dropping entry: {'reward': 2160.233531, 'length': 1000, '_timestamp': 1715861926.0220315})."
            ]
          },
          "metadata": {}
        },
        {
          "output_type": "display_data",
          "data": {
            "text/plain": [
              "<IPython.core.display.HTML object>"
            ],
            "text/html": [
              "(User provided step: 75000 is less than current step: 100000. Dropping entry: {'reward': 2158.770544, 'length': 1000, '_timestamp': 1715861942.3908238})."
            ]
          },
          "metadata": {}
        },
        {
          "output_type": "display_data",
          "data": {
            "text/plain": [
              "<IPython.core.display.HTML object>"
            ],
            "text/html": [
              "(User provided step: 76000 is less than current step: 100000. Dropping entry: {'reward': 2159.927747, 'length': 1000, '_timestamp': 1715861955.726178})."
            ]
          },
          "metadata": {}
        },
        {
          "output_type": "display_data",
          "data": {
            "text/plain": [
              "<IPython.core.display.HTML object>"
            ],
            "text/html": [
              "(User provided step: 77000 is less than current step: 100000. Dropping entry: {'reward': 2176.587123, 'length': 1000, '_timestamp': 1715861966.7746596})."
            ]
          },
          "metadata": {}
        },
        {
          "output_type": "display_data",
          "data": {
            "text/plain": [
              "<IPython.core.display.HTML object>"
            ],
            "text/html": [
              "(User provided step: 78000 is less than current step: 100000. Dropping entry: {'reward': 2172.901566, 'length': 1000, '_timestamp': 1715861979.8567352})."
            ]
          },
          "metadata": {}
        },
        {
          "output_type": "display_data",
          "data": {
            "text/plain": [
              "<IPython.core.display.HTML object>"
            ],
            "text/html": [
              "(User provided step: 79000 is less than current step: 100000. Dropping entry: {'reward': 2193.212223, 'length': 1000, '_timestamp': 1715861990.7761638})."
            ]
          },
          "metadata": {}
        },
        {
          "output_type": "display_data",
          "data": {
            "text/plain": [
              "<IPython.core.display.HTML object>"
            ],
            "text/html": [
              "(User provided step: 80000 is less than current step: 100000. Dropping entry: {'reward': 2156.250503, 'length': 1000, '_timestamp': 1715862002.229214})."
            ]
          },
          "metadata": {}
        },
        {
          "output_type": "display_data",
          "data": {
            "text/plain": [
              "<IPython.core.display.HTML object>"
            ],
            "text/html": [
              "(User provided step: 81000 is less than current step: 100000. Dropping entry: {'reward': 2329.819723, 'length': 1000, '_timestamp': 1715862013.8276587})."
            ]
          },
          "metadata": {}
        },
        {
          "output_type": "display_data",
          "data": {
            "text/plain": [
              "<IPython.core.display.HTML object>"
            ],
            "text/html": [
              "(User provided step: 82000 is less than current step: 100000. Dropping entry: {'reward': 2242.960344, 'length': 1000, '_timestamp': 1715862025.3836756})."
            ]
          },
          "metadata": {}
        },
        {
          "output_type": "display_data",
          "data": {
            "text/plain": [
              "<IPython.core.display.HTML object>"
            ],
            "text/html": [
              "(User provided step: 83000 is less than current step: 100000. Dropping entry: {'reward': 2272.660503, 'length': 1000, '_timestamp': 1715862039.3015542})."
            ]
          },
          "metadata": {}
        },
        {
          "output_type": "display_data",
          "data": {
            "text/plain": [
              "<IPython.core.display.HTML object>"
            ],
            "text/html": [
              "(User provided step: 84000 is less than current step: 100000. Dropping entry: {'reward': 2261.484062, 'length': 1000, '_timestamp': 1715862056.0673218})."
            ]
          },
          "metadata": {}
        },
        {
          "output_type": "display_data",
          "data": {
            "text/plain": [
              "<IPython.core.display.HTML object>"
            ],
            "text/html": [
              "(User provided step: 85000 is less than current step: 100000. Dropping entry: {'reward': 2300.205827, 'length': 1000, '_timestamp': 1715862071.8219185})."
            ]
          },
          "metadata": {}
        },
        {
          "output_type": "display_data",
          "data": {
            "text/plain": [
              "<IPython.core.display.HTML object>"
            ],
            "text/html": [
              "(User provided step: 86000 is less than current step: 100000. Dropping entry: {'reward': 2237.098735, 'length': 1000, '_timestamp': 1715862083.3065557})."
            ]
          },
          "metadata": {}
        },
        {
          "output_type": "display_data",
          "data": {
            "text/plain": [
              "<IPython.core.display.HTML object>"
            ],
            "text/html": [
              "(User provided step: 87000 is less than current step: 100000. Dropping entry: {'reward': 2219.318754, 'length': 1000, '_timestamp': 1715862094.3591857})."
            ]
          },
          "metadata": {}
        },
        {
          "output_type": "display_data",
          "data": {
            "text/plain": [
              "<IPython.core.display.HTML object>"
            ],
            "text/html": [
              "(User provided step: 88000 is less than current step: 100000. Dropping entry: {'reward': 2307.737337, 'length': 1000, '_timestamp': 1715862105.8505826})."
            ]
          },
          "metadata": {}
        },
        {
          "output_type": "display_data",
          "data": {
            "text/plain": [
              "<IPython.core.display.HTML object>"
            ],
            "text/html": [
              "(User provided step: 89000 is less than current step: 100000. Dropping entry: {'reward': 2204.238719, 'length': 1000, '_timestamp': 1715862117.7007585})."
            ]
          },
          "metadata": {}
        },
        {
          "output_type": "display_data",
          "data": {
            "text/plain": [
              "<IPython.core.display.HTML object>"
            ],
            "text/html": [
              "(User provided step: 90000 is less than current step: 100000. Dropping entry: {'reward': 2225.579219, 'length': 1000, '_timestamp': 1715862129.9888642})."
            ]
          },
          "metadata": {}
        },
        {
          "output_type": "display_data",
          "data": {
            "text/plain": [
              "<IPython.core.display.HTML object>"
            ],
            "text/html": [
              "(User provided step: 91000 is less than current step: 100000. Dropping entry: {'reward': 2487.676595, 'length': 1000, '_timestamp': 1715862144.8859763})."
            ]
          },
          "metadata": {}
        },
        {
          "output_type": "display_data",
          "data": {
            "text/plain": [
              "<IPython.core.display.HTML object>"
            ],
            "text/html": [
              "(User provided step: 92000 is less than current step: 100000. Dropping entry: {'reward': 2293.424103, 'length': 1000, '_timestamp': 1715862156.3402834})."
            ]
          },
          "metadata": {}
        },
        {
          "output_type": "display_data",
          "data": {
            "text/plain": [
              "<IPython.core.display.HTML object>"
            ],
            "text/html": [
              "(User provided step: 93000 is less than current step: 100000. Dropping entry: {'reward': 2280.03845, 'length': 1000, '_timestamp': 1715862167.8252664})."
            ]
          },
          "metadata": {}
        },
        {
          "output_type": "display_data",
          "data": {
            "text/plain": [
              "<IPython.core.display.HTML object>"
            ],
            "text/html": [
              "(User provided step: 94000 is less than current step: 100000. Dropping entry: {'reward': 2309.672224, 'length': 1000, '_timestamp': 1715862179.3607516})."
            ]
          },
          "metadata": {}
        },
        {
          "output_type": "display_data",
          "data": {
            "text/plain": [
              "<IPython.core.display.HTML object>"
            ],
            "text/html": [
              "(User provided step: 95000 is less than current step: 100000. Dropping entry: {'reward': 2442.606453, 'length': 1000, '_timestamp': 1715862194.0619397})."
            ]
          },
          "metadata": {}
        },
        {
          "output_type": "display_data",
          "data": {
            "text/plain": [
              "<IPython.core.display.HTML object>"
            ],
            "text/html": [
              "(User provided step: 96000 is less than current step: 100000. Dropping entry: {'reward': 2367.318821, 'length': 1000, '_timestamp': 1715862206.0180595})."
            ]
          },
          "metadata": {}
        },
        {
          "output_type": "display_data",
          "data": {
            "text/plain": [
              "<IPython.core.display.HTML object>"
            ],
            "text/html": [
              "(User provided step: 97000 is less than current step: 100000. Dropping entry: {'reward': 2315.556669, 'length': 1000, '_timestamp': 1715862218.5215504})."
            ]
          },
          "metadata": {}
        },
        {
          "output_type": "display_data",
          "data": {
            "text/plain": [
              "<IPython.core.display.HTML object>"
            ],
            "text/html": [
              "(User provided step: 98000 is less than current step: 100000. Dropping entry: {'reward': 2320.597283, 'length': 1000, '_timestamp': 1715862230.010233})."
            ]
          },
          "metadata": {}
        },
        {
          "output_type": "display_data",
          "data": {
            "text/plain": [
              "<IPython.core.display.HTML object>"
            ],
            "text/html": [
              "(User provided step: 99000 is less than current step: 100000. Dropping entry: {'reward': 2305.687114, 'length': 1000, '_timestamp': 1715862243.0237672})."
            ]
          },
          "metadata": {}
        }
      ]
    },
    {
      "cell_type": "markdown",
      "source": [
        "### Вывод\n",
        "\n",
        "Запуск 0:\n",
        "\n",
        "- learning_rate=0.0003: приводит к медленной сходимости модели, но более стабильному обучению.\n",
        "- ent_coef=0.01: Низкий коэффициент энтропии означает, что модель будет меньше исследовать пространство действий и скорее всего сфокусируется на эксплуатации изученных стратегий.\n",
        "- gradient_steps=1: Один шаг градиентного спуска после каждого батча наблюдений может снизить вычислительную нагрузку, но может потребовать большего количества итераций для сходимости модели.\n",
        "\n",
        "На самом деле, как показывает практика, не спроста значения некоторых параметров существуют \"по умолчанию\". Это те значения, которые чаще всего подходят для большинства задач и уже показали свою эффективность. Но в исследовательских целях мы можем поменять параметры на свой \"вкус\" и посмотреть, как они повлияют на модель и ее награды.\n",
        "\n",
        "Отчет: https://wandb.ai/senich17/SAC_Pybullet/reports/SAC-Pybullet-HalfCheetah--Vmlldzo3OTczNjA3?accessToken=g0lr5sqp2acpa5krhcqdhgs7gr4yx42qpx8z8r6r3fzr84zpw80827dnxwgtdaul"
      ],
      "metadata": {
        "id": "2Q79PnRDSR4J"
      }
    },
    {
      "cell_type": "markdown",
      "source": [
        "## Эксперимент номер раз\n",
        "\n",
        "Далее код остается неизменным, только поменяем выбранные гиперпараметры и посмотрим на графики и показатели.\n",
        "Например скорость обучения поставим повыше, увеличим количество шагов градиента и коэффициент энтропии."
      ],
      "metadata": {
        "id": "GR1JWrgIShI9"
      }
    },
    {
      "cell_type": "code",
      "source": [
        "wandb.init(\n",
        "    project=\"SAC_Pybullet\",\n",
        "    entity='Senich17')"
      ],
      "metadata": {
        "colab": {
          "base_uri": "https://localhost:8080/",
          "height": 120
        },
        "id": "_5-ovt9fDAvP",
        "outputId": "bd47401c-b809-4932-9279-afab2084e23e"
      },
      "execution_count": 37,
      "outputs": [
        {
          "output_type": "display_data",
          "data": {
            "text/plain": [
              "<IPython.core.display.HTML object>"
            ],
            "text/html": [
              "Tracking run with wandb version 0.17.0"
            ]
          },
          "metadata": {}
        },
        {
          "output_type": "display_data",
          "data": {
            "text/plain": [
              "<IPython.core.display.HTML object>"
            ],
            "text/html": [
              "Run data is saved locally in <code>/content/wandb/run-20240516_124102-med3svh7</code>"
            ]
          },
          "metadata": {}
        },
        {
          "output_type": "display_data",
          "data": {
            "text/plain": [
              "<IPython.core.display.HTML object>"
            ],
            "text/html": [
              "Syncing run <strong><a href='https://wandb.ai/senich17/SAC_Pybullet/runs/med3svh7' target=\"_blank\">skilled-dew-10</a></strong> to <a href='https://wandb.ai/senich17/SAC_Pybullet' target=\"_blank\">Weights & Biases</a> (<a href='https://wandb.me/run' target=\"_blank\">docs</a>)<br/>"
            ]
          },
          "metadata": {}
        },
        {
          "output_type": "display_data",
          "data": {
            "text/plain": [
              "<IPython.core.display.HTML object>"
            ],
            "text/html": [
              " View project at <a href='https://wandb.ai/senich17/SAC_Pybullet' target=\"_blank\">https://wandb.ai/senich17/SAC_Pybullet</a>"
            ]
          },
          "metadata": {}
        },
        {
          "output_type": "display_data",
          "data": {
            "text/plain": [
              "<IPython.core.display.HTML object>"
            ],
            "text/html": [
              " View run at <a href='https://wandb.ai/senich17/SAC_Pybullet/runs/med3svh7' target=\"_blank\">https://wandb.ai/senich17/SAC_Pybullet/runs/med3svh7</a>"
            ]
          },
          "metadata": {}
        },
        {
          "output_type": "execute_result",
          "data": {
            "text/html": [
              "<button onClick=\"this.nextSibling.style.display='block';this.style.display='none';\">Display W&B run</button><iframe src='https://wandb.ai/senich17/SAC_Pybullet/runs/med3svh7?jupyter=true' style='border:none;width:100%;height:420px;display:none;'></iframe>"
            ],
            "text/plain": [
              "<wandb.sdk.wandb_run.Run at 0x7b002e2052d0>"
            ]
          },
          "metadata": {},
          "execution_count": 37
        }
      ]
    },
    {
      "cell_type": "code",
      "source": [
        "env = gym.make(\"HalfCheetah-v4\")\n"
      ],
      "metadata": {
        "id": "4M68_1UW1nhj"
      },
      "execution_count": 38,
      "outputs": []
    },
    {
      "cell_type": "code",
      "source": [
        "model = SAC(\"MlpPolicy\", env, verbose=1, learning_rate=0.001, ent_coef=0.1, gradient_steps=2)\n"
      ],
      "metadata": {
        "colab": {
          "base_uri": "https://localhost:8080/"
        },
        "id": "us1Vlye2Tkng",
        "outputId": "8001c645-4aa7-4336-fc31-0e14c63f1827"
      },
      "execution_count": 39,
      "outputs": [
        {
          "output_type": "stream",
          "name": "stdout",
          "text": [
            "Using cuda device\n",
            "Wrapping the env with a `Monitor` wrapper\n",
            "Wrapping the env in a DummyVecEnv.\n"
          ]
        }
      ]
    },
    {
      "cell_type": "code",
      "source": [
        "callback = WandbCustomCallback(model)\n"
      ],
      "metadata": {
        "id": "6mM60sh8TfHz"
      },
      "execution_count": 40,
      "outputs": []
    },
    {
      "cell_type": "code",
      "source": [
        "start_time = time.time()\n"
      ],
      "metadata": {
        "id": "SQozuEXtXzqE"
      },
      "execution_count": 41,
      "outputs": []
    },
    {
      "cell_type": "code",
      "source": [
        "model.learn(total_timesteps=100000, log_interval=4, callback=callback)\n"
      ],
      "metadata": {
        "colab": {
          "base_uri": "https://localhost:8080/"
        },
        "collapsed": true,
        "id": "skS2eJDrTU6R",
        "outputId": "e19029c1-ea3c-4a34-9352-270ab917c2b4"
      },
      "execution_count": 42,
      "outputs": [
        {
          "output_type": "stream",
          "name": "stdout",
          "text": [
            "---------------------------------\n",
            "| rollout/           |          |\n",
            "|    ep_len_mean     | 1e+03    |\n",
            "|    ep_rew_mean     | -171     |\n",
            "| time/              |          |\n",
            "|    episodes        | 4        |\n",
            "|    fps             | 41       |\n",
            "|    time_elapsed    | 95       |\n",
            "|    total_timesteps | 4000     |\n",
            "| train/             |          |\n",
            "|    actor_loss      | -4.19    |\n",
            "|    critic_loss     | 0.312    |\n",
            "|    ent_coef        | 0.1      |\n",
            "|    learning_rate   | 0.001    |\n",
            "|    n_updates       | 7798     |\n",
            "---------------------------------\n",
            "---------------------------------\n",
            "| rollout/           |          |\n",
            "|    ep_len_mean     | 1e+03    |\n",
            "|    ep_rew_mean     | -27.5    |\n",
            "| time/              |          |\n",
            "|    episodes        | 8        |\n",
            "|    fps             | 40       |\n",
            "|    time_elapsed    | 198      |\n",
            "|    total_timesteps | 8000     |\n",
            "| train/             |          |\n",
            "|    actor_loss      | -7.55    |\n",
            "|    critic_loss     | 0.4      |\n",
            "|    ent_coef        | 0.1      |\n",
            "|    learning_rate   | 0.001    |\n",
            "|    n_updates       | 15798    |\n",
            "---------------------------------\n",
            "---------------------------------\n",
            "| rollout/           |          |\n",
            "|    ep_len_mean     | 1e+03    |\n",
            "|    ep_rew_mean     | 62.4     |\n",
            "| time/              |          |\n",
            "|    episodes        | 12       |\n",
            "|    fps             | 41       |\n",
            "|    time_elapsed    | 290      |\n",
            "|    total_timesteps | 12000    |\n",
            "| train/             |          |\n",
            "|    actor_loss      | -10.7    |\n",
            "|    critic_loss     | 0.517    |\n",
            "|    ent_coef        | 0.1      |\n",
            "|    learning_rate   | 0.001    |\n",
            "|    n_updates       | 23798    |\n",
            "---------------------------------\n",
            "---------------------------------\n",
            "| rollout/           |          |\n",
            "|    ep_len_mean     | 1e+03    |\n",
            "|    ep_rew_mean     | 136      |\n",
            "| time/              |          |\n",
            "|    episodes        | 16       |\n",
            "|    fps             | 41       |\n",
            "|    time_elapsed    | 381      |\n",
            "|    total_timesteps | 16000    |\n",
            "| train/             |          |\n",
            "|    actor_loss      | -16.1    |\n",
            "|    critic_loss     | 0.588    |\n",
            "|    ent_coef        | 0.1      |\n",
            "|    learning_rate   | 0.001    |\n",
            "|    n_updates       | 31798    |\n",
            "---------------------------------\n",
            "---------------------------------\n",
            "| rollout/           |          |\n",
            "|    ep_len_mean     | 1e+03    |\n",
            "|    ep_rew_mean     | 151      |\n",
            "| time/              |          |\n",
            "|    episodes        | 20       |\n",
            "|    fps             | 42       |\n",
            "|    time_elapsed    | 468      |\n",
            "|    total_timesteps | 20000    |\n",
            "| train/             |          |\n",
            "|    actor_loss      | -16.2    |\n",
            "|    critic_loss     | 0.801    |\n",
            "|    ent_coef        | 0.1      |\n",
            "|    learning_rate   | 0.001    |\n",
            "|    n_updates       | 39798    |\n",
            "---------------------------------\n",
            "---------------------------------\n",
            "| rollout/           |          |\n",
            "|    ep_len_mean     | 1e+03    |\n",
            "|    ep_rew_mean     | 279      |\n",
            "| time/              |          |\n",
            "|    episodes        | 24       |\n",
            "|    fps             | 43       |\n",
            "|    time_elapsed    | 554      |\n",
            "|    total_timesteps | 24000    |\n",
            "| train/             |          |\n",
            "|    actor_loss      | -23.1    |\n",
            "|    critic_loss     | 0.718    |\n",
            "|    ent_coef        | 0.1      |\n",
            "|    learning_rate   | 0.001    |\n",
            "|    n_updates       | 47798    |\n",
            "---------------------------------\n",
            "---------------------------------\n",
            "| rollout/           |          |\n",
            "|    ep_len_mean     | 1e+03    |\n",
            "|    ep_rew_mean     | 328      |\n",
            "| time/              |          |\n",
            "|    episodes        | 28       |\n",
            "|    fps             | 43       |\n",
            "|    time_elapsed    | 638      |\n",
            "|    total_timesteps | 28000    |\n",
            "| train/             |          |\n",
            "|    actor_loss      | -28.8    |\n",
            "|    critic_loss     | 1.18     |\n",
            "|    ent_coef        | 0.1      |\n",
            "|    learning_rate   | 0.001    |\n",
            "|    n_updates       | 55798    |\n",
            "---------------------------------\n",
            "---------------------------------\n",
            "| rollout/           |          |\n",
            "|    ep_len_mean     | 1e+03    |\n",
            "|    ep_rew_mean     | 413      |\n",
            "| time/              |          |\n",
            "|    episodes        | 32       |\n",
            "|    fps             | 44       |\n",
            "|    time_elapsed    | 725      |\n",
            "|    total_timesteps | 32000    |\n",
            "| train/             |          |\n",
            "|    actor_loss      | -37.3    |\n",
            "|    critic_loss     | 1.16     |\n",
            "|    ent_coef        | 0.1      |\n",
            "|    learning_rate   | 0.001    |\n",
            "|    n_updates       | 63798    |\n",
            "---------------------------------\n",
            "---------------------------------\n",
            "| rollout/           |          |\n",
            "|    ep_len_mean     | 1e+03    |\n",
            "|    ep_rew_mean     | 470      |\n",
            "| time/              |          |\n",
            "|    episodes        | 36       |\n",
            "|    fps             | 44       |\n",
            "|    time_elapsed    | 812      |\n",
            "|    total_timesteps | 36000    |\n",
            "| train/             |          |\n",
            "|    actor_loss      | -42      |\n",
            "|    critic_loss     | 1.66     |\n",
            "|    ent_coef        | 0.1      |\n",
            "|    learning_rate   | 0.001    |\n",
            "|    n_updates       | 71798    |\n",
            "---------------------------------\n",
            "---------------------------------\n",
            "| rollout/           |          |\n",
            "|    ep_len_mean     | 1e+03    |\n",
            "|    ep_rew_mean     | 585      |\n",
            "| time/              |          |\n",
            "|    episodes        | 40       |\n",
            "|    fps             | 44       |\n",
            "|    time_elapsed    | 896      |\n",
            "|    total_timesteps | 40000    |\n",
            "| train/             |          |\n",
            "|    actor_loss      | -52.3    |\n",
            "|    critic_loss     | 1.76     |\n",
            "|    ent_coef        | 0.1      |\n",
            "|    learning_rate   | 0.001    |\n",
            "|    n_updates       | 79798    |\n",
            "---------------------------------\n",
            "---------------------------------\n",
            "| rollout/           |          |\n",
            "|    ep_len_mean     | 1e+03    |\n",
            "|    ep_rew_mean     | 671      |\n",
            "| time/              |          |\n",
            "|    episodes        | 44       |\n",
            "|    fps             | 44       |\n",
            "|    time_elapsed    | 982      |\n",
            "|    total_timesteps | 44000    |\n",
            "| train/             |          |\n",
            "|    actor_loss      | -57.7    |\n",
            "|    critic_loss     | 1.89     |\n",
            "|    ent_coef        | 0.1      |\n",
            "|    learning_rate   | 0.001    |\n",
            "|    n_updates       | 87798    |\n",
            "---------------------------------\n",
            "---------------------------------\n",
            "| rollout/           |          |\n",
            "|    ep_len_mean     | 1e+03    |\n",
            "|    ep_rew_mean     | 769      |\n",
            "| time/              |          |\n",
            "|    episodes        | 48       |\n",
            "|    fps             | 44       |\n",
            "|    time_elapsed    | 1067     |\n",
            "|    total_timesteps | 48000    |\n",
            "| train/             |          |\n",
            "|    actor_loss      | -69.4    |\n",
            "|    critic_loss     | 2.24     |\n",
            "|    ent_coef        | 0.1      |\n",
            "|    learning_rate   | 0.001    |\n",
            "|    n_updates       | 95798    |\n",
            "---------------------------------\n",
            "---------------------------------\n",
            "| rollout/           |          |\n",
            "|    ep_len_mean     | 1e+03    |\n",
            "|    ep_rew_mean     | 876      |\n",
            "| time/              |          |\n",
            "|    episodes        | 52       |\n",
            "|    fps             | 45       |\n",
            "|    time_elapsed    | 1151     |\n",
            "|    total_timesteps | 52000    |\n",
            "| train/             |          |\n",
            "|    actor_loss      | -79.2    |\n",
            "|    critic_loss     | 2.3      |\n",
            "|    ent_coef        | 0.1      |\n",
            "|    learning_rate   | 0.001    |\n",
            "|    n_updates       | 103798   |\n",
            "---------------------------------\n",
            "---------------------------------\n",
            "| rollout/           |          |\n",
            "|    ep_len_mean     | 1e+03    |\n",
            "|    ep_rew_mean     | 982      |\n",
            "| time/              |          |\n",
            "|    episodes        | 56       |\n",
            "|    fps             | 45       |\n",
            "|    time_elapsed    | 1235     |\n",
            "|    total_timesteps | 56000    |\n",
            "| train/             |          |\n",
            "|    actor_loss      | -89.3    |\n",
            "|    critic_loss     | 2.23     |\n",
            "|    ent_coef        | 0.1      |\n",
            "|    learning_rate   | 0.001    |\n",
            "|    n_updates       | 111798   |\n",
            "---------------------------------\n",
            "---------------------------------\n",
            "| rollout/           |          |\n",
            "|    ep_len_mean     | 1e+03    |\n",
            "|    ep_rew_mean     | 1.09e+03 |\n",
            "| time/              |          |\n",
            "|    episodes        | 60       |\n",
            "|    fps             | 45       |\n",
            "|    time_elapsed    | 1319     |\n",
            "|    total_timesteps | 60000    |\n",
            "| train/             |          |\n",
            "|    actor_loss      | -101     |\n",
            "|    critic_loss     | 2.71     |\n",
            "|    ent_coef        | 0.1      |\n",
            "|    learning_rate   | 0.001    |\n",
            "|    n_updates       | 119798   |\n",
            "---------------------------------\n",
            "---------------------------------\n",
            "| rollout/           |          |\n",
            "|    ep_len_mean     | 1e+03    |\n",
            "|    ep_rew_mean     | 1.16e+03 |\n",
            "| time/              |          |\n",
            "|    episodes        | 64       |\n",
            "|    fps             | 45       |\n",
            "|    time_elapsed    | 1404     |\n",
            "|    total_timesteps | 64000    |\n",
            "| train/             |          |\n",
            "|    actor_loss      | -110     |\n",
            "|    critic_loss     | 2.74     |\n",
            "|    ent_coef        | 0.1      |\n",
            "|    learning_rate   | 0.001    |\n",
            "|    n_updates       | 127798   |\n",
            "---------------------------------\n",
            "---------------------------------\n",
            "| rollout/           |          |\n",
            "|    ep_len_mean     | 1e+03    |\n",
            "|    ep_rew_mean     | 1.23e+03 |\n",
            "| time/              |          |\n",
            "|    episodes        | 68       |\n",
            "|    fps             | 45       |\n",
            "|    time_elapsed    | 1488     |\n",
            "|    total_timesteps | 68000    |\n",
            "| train/             |          |\n",
            "|    actor_loss      | -122     |\n",
            "|    critic_loss     | 3.47     |\n",
            "|    ent_coef        | 0.1      |\n",
            "|    learning_rate   | 0.001    |\n",
            "|    n_updates       | 135798   |\n",
            "---------------------------------\n",
            "---------------------------------\n",
            "| rollout/           |          |\n",
            "|    ep_len_mean     | 1e+03    |\n",
            "|    ep_rew_mean     | 1.34e+03 |\n",
            "| time/              |          |\n",
            "|    episodes        | 72       |\n",
            "|    fps             | 45       |\n",
            "|    time_elapsed    | 1571     |\n",
            "|    total_timesteps | 72000    |\n",
            "| train/             |          |\n",
            "|    actor_loss      | -131     |\n",
            "|    critic_loss     | 2.99     |\n",
            "|    ent_coef        | 0.1      |\n",
            "|    learning_rate   | 0.001    |\n",
            "|    n_updates       | 143798   |\n",
            "---------------------------------\n",
            "---------------------------------\n",
            "| rollout/           |          |\n",
            "|    ep_len_mean     | 1e+03    |\n",
            "|    ep_rew_mean     | 1.41e+03 |\n",
            "| time/              |          |\n",
            "|    episodes        | 76       |\n",
            "|    fps             | 45       |\n",
            "|    time_elapsed    | 1655     |\n",
            "|    total_timesteps | 76000    |\n",
            "| train/             |          |\n",
            "|    actor_loss      | -147     |\n",
            "|    critic_loss     | 4.92     |\n",
            "|    ent_coef        | 0.1      |\n",
            "|    learning_rate   | 0.001    |\n",
            "|    n_updates       | 151798   |\n",
            "---------------------------------\n",
            "---------------------------------\n",
            "| rollout/           |          |\n",
            "|    ep_len_mean     | 1e+03    |\n",
            "|    ep_rew_mean     | 1.48e+03 |\n",
            "| time/              |          |\n",
            "|    episodes        | 80       |\n",
            "|    fps             | 45       |\n",
            "|    time_elapsed    | 1739     |\n",
            "|    total_timesteps | 80000    |\n",
            "| train/             |          |\n",
            "|    actor_loss      | -153     |\n",
            "|    critic_loss     | 4.43     |\n",
            "|    ent_coef        | 0.1      |\n",
            "|    learning_rate   | 0.001    |\n",
            "|    n_updates       | 159798   |\n",
            "---------------------------------\n",
            "---------------------------------\n",
            "| rollout/           |          |\n",
            "|    ep_len_mean     | 1e+03    |\n",
            "|    ep_rew_mean     | 1.55e+03 |\n",
            "| time/              |          |\n",
            "|    episodes        | 84       |\n",
            "|    fps             | 46       |\n",
            "|    time_elapsed    | 1823     |\n",
            "|    total_timesteps | 84000    |\n",
            "| train/             |          |\n",
            "|    actor_loss      | -166     |\n",
            "|    critic_loss     | 4.49     |\n",
            "|    ent_coef        | 0.1      |\n",
            "|    learning_rate   | 0.001    |\n",
            "|    n_updates       | 167798   |\n",
            "---------------------------------\n",
            "---------------------------------\n",
            "| rollout/           |          |\n",
            "|    ep_len_mean     | 1e+03    |\n",
            "|    ep_rew_mean     | 1.61e+03 |\n",
            "| time/              |          |\n",
            "|    episodes        | 88       |\n",
            "|    fps             | 46       |\n",
            "|    time_elapsed    | 1907     |\n",
            "|    total_timesteps | 88000    |\n",
            "| train/             |          |\n",
            "|    actor_loss      | -170     |\n",
            "|    critic_loss     | 5.37     |\n",
            "|    ent_coef        | 0.1      |\n",
            "|    learning_rate   | 0.001    |\n",
            "|    n_updates       | 175798   |\n",
            "---------------------------------\n",
            "---------------------------------\n",
            "| rollout/           |          |\n",
            "|    ep_len_mean     | 1e+03    |\n",
            "|    ep_rew_mean     | 1.71e+03 |\n",
            "| time/              |          |\n",
            "|    episodes        | 92       |\n",
            "|    fps             | 46       |\n",
            "|    time_elapsed    | 1991     |\n",
            "|    total_timesteps | 92000    |\n",
            "| train/             |          |\n",
            "|    actor_loss      | -179     |\n",
            "|    critic_loss     | 5.06     |\n",
            "|    ent_coef        | 0.1      |\n",
            "|    learning_rate   | 0.001    |\n",
            "|    n_updates       | 183798   |\n",
            "---------------------------------\n",
            "---------------------------------\n",
            "| rollout/           |          |\n",
            "|    ep_len_mean     | 1e+03    |\n",
            "|    ep_rew_mean     | 1.8e+03  |\n",
            "| time/              |          |\n",
            "|    episodes        | 96       |\n",
            "|    fps             | 46       |\n",
            "|    time_elapsed    | 2075     |\n",
            "|    total_timesteps | 96000    |\n",
            "| train/             |          |\n",
            "|    actor_loss      | -186     |\n",
            "|    critic_loss     | 5.55     |\n",
            "|    ent_coef        | 0.1      |\n",
            "|    learning_rate   | 0.001    |\n",
            "|    n_updates       | 191798   |\n",
            "---------------------------------\n",
            "---------------------------------\n",
            "| rollout/           |          |\n",
            "|    ep_len_mean     | 1e+03    |\n",
            "|    ep_rew_mean     | 1.89e+03 |\n",
            "| time/              |          |\n",
            "|    episodes        | 100      |\n",
            "|    fps             | 46       |\n",
            "|    time_elapsed    | 2160     |\n",
            "|    total_timesteps | 100000   |\n",
            "| train/             |          |\n",
            "|    actor_loss      | -196     |\n",
            "|    critic_loss     | 4.44     |\n",
            "|    ent_coef        | 0.1      |\n",
            "|    learning_rate   | 0.001    |\n",
            "|    n_updates       | 199798   |\n",
            "---------------------------------\n"
          ]
        },
        {
          "output_type": "execute_result",
          "data": {
            "text/plain": [
              "<stable_baselines3.sac.sac.SAC at 0x7b002e219150>"
            ]
          },
          "metadata": {},
          "execution_count": 42
        }
      ]
    },
    {
      "cell_type": "code",
      "source": [
        "end_time = time.time()\n",
        "execution_time = end_time - start_time\n",
        "\n",
        "print(f\"Время выполнения обучения: {execution_time} секунд\")\n"
      ],
      "metadata": {
        "colab": {
          "base_uri": "https://localhost:8080/"
        },
        "id": "I27hy6cjXNtr",
        "outputId": "a3755ee9-2bd8-4c36-cc4f-12e6354c618e"
      },
      "execution_count": 43,
      "outputs": [
        {
          "output_type": "stream",
          "name": "stdout",
          "text": [
            "Время выполнения обучения: 2162.2134959697723 секунд\n"
          ]
        }
      ]
    },
    {
      "cell_type": "code",
      "source": [
        "# Оценка модели за 10 прогонов\n",
        "mean_reward, std_reward = evaluate_policy(model, model.get_env(), n_eval_episodes=10)\n"
      ],
      "metadata": {
        "id": "zmaOC_ggatE7"
      },
      "execution_count": 44,
      "outputs": []
    },
    {
      "cell_type": "code",
      "source": [
        "print(f\"Среднее вознаграждение: {mean_reward}\")\n",
        "print(f\"Стандартное отклонение: {std_reward}\")\n",
        "print(f\"Время выполнения обучения: {execution_time} секунд\")\n"
      ],
      "metadata": {
        "colab": {
          "base_uri": "https://localhost:8080/"
        },
        "id": "XFOo7j2oTU2f",
        "outputId": "3f8a4f65-99b5-42db-de87-0a3d00d6268e"
      },
      "execution_count": 45,
      "outputs": [
        {
          "output_type": "stream",
          "name": "stdout",
          "text": [
            "Среднее вознаграждение: 4234.710018400001\n",
            "Стандартное отклонение: 106.95286426766287\n",
            "Время выполнения обучения: 2162.2134959697723 секунд\n"
          ]
        }
      ]
    },
    {
      "cell_type": "code",
      "source": [
        "plt.figure(figsize=(10, 6))\n",
        "\n",
        "bar_reward = plt.barh(0, mean_reward, label='Среднее вознаграждение', color='green')\n",
        "\n",
        "bar_time = plt.barh(1, execution_time, label='Время выполнения', color='blue')\n",
        "\n",
        "plt.text(mean_reward + 10, 0, f'{round(mean_reward, 2)}', ha='left', va='center')\n",
        "plt.text(execution_time + 10, 1, f'{execution_time} с', ha='left', va='center')\n",
        "\n",
        "plt.title('Среднее вознаграждение и время выполнения')\n",
        "plt.xlabel('Ценность')\n",
        "plt.ylabel('Метрики')\n",
        "\n",
        "plt.legend()\n",
        "\n",
        "# Честно, я знаю, что эти графики уродливы по своей природе, в конце будут покрасивее\n",
        "plt.tight_layout()\n",
        "plt.show()\n"
      ],
      "metadata": {
        "colab": {
          "base_uri": "https://localhost:8080/",
          "height": 607
        },
        "id": "VtKLuuHHVAK5",
        "outputId": "6dd6817d-439e-4e6b-def3-fd9dcbdae540"
      },
      "execution_count": 46,
      "outputs": [
        {
          "output_type": "display_data",
          "data": {
            "text/plain": [
              "<Figure size 1000x600 with 1 Axes>"
            ],
            "image/png": "[encoded data removed]"
          },
          "metadata": {}
        }
      ]
    },
    {
      "cell_type": "code",
      "source": [
        "model.save('sac_cheetah1')\n"
      ],
      "metadata": {
        "id": "Bji_4VJCTUzm"
      },
      "execution_count": 47,
      "outputs": []
    },
    {
      "cell_type": "code",
      "source": [
        "# Закрытие среды\n",
        "env.close()\n"
      ],
      "metadata": {
        "id": "0sPlcDvFw5Ag"
      },
      "execution_count": 48,
      "outputs": []
    },
    {
      "cell_type": "code",
      "source": [
        "wandb.finish()\n"
      ],
      "metadata": {
        "colab": {
          "base_uri": "https://localhost:8080/",
          "height": 223,
          "referenced_widgets": [
            "6e8463f2980c4e52b4ae695193e205ab",
            "e6be46c307cc4cad85a8a65e6a1a9c3d",
            "b1e8f9fc207d41e89cb4f6563937298f",
            "7721276f1b764d078a1d19479a1b86f0",
            "9e207808df604307a2d71d5bfa5e6576",
            "61f85692a6664c95a7c2b207b7e6eb6b",
            "a8ecb73027ea4303b24cdceeeaf0dd8d",
            "b94b6997557d4322a40b4e39570c2903"
          ]
        },
        "id": "pnlLR5kvDiTO",
        "outputId": "e3dbe308-51a5-46f0-8294-37933c127395"
      },
      "execution_count": 49,
      "outputs": [
        {
          "output_type": "display_data",
          "data": {
            "text/plain": [
              "VBox(children=(Label(value='0.001 MB of 0.001 MB uploaded\\r'), FloatProgress(value=1.0, max=1.0)))"
            ],
            "application/vnd.jupyter.widget-view+json": {
              "version_major": 2,
              "version_minor": 0,
              "model_id": "6e8463f2980c4e52b4ae695193e205ab"
            }
          },
          "metadata": {}
        },
        {
          "output_type": "display_data",
          "data": {
            "text/plain": [
              "<IPython.core.display.HTML object>"
            ],
            "text/html": [
              "<style>\n",
              "    table.wandb td:nth-child(1) { padding: 0 10px; text-align: left ; width: auto;} td:nth-child(2) {text-align: left ; width: 100%}\n",
              "    .wandb-row { display: flex; flex-direction: row; flex-wrap: wrap; justify-content: flex-start; width: 100% }\n",
              "    .wandb-col { display: flex; flex-direction: column; flex-basis: 100%; flex: 1; padding: 10px; }\n",
              "    </style>\n",
              "<div class=\"wandb-row\"><div class=\"wandb-col\"><h3>Run history:</h3><br/><table class=\"wandb\"><tr><td>length</td><td>▁▁▁▁▁▁▁▁▁▁▁▁▁▁▁▁▁▁▁▁▁▁▁▁▁▁▁▁▁▁▁▁▁▁▁▁▁▁▁▁</td></tr><tr><td>reward</td><td>▁▁▂▂▁▂▂▁▃▃▂▃▄▄▄▄▄▅▄▅▅▅▅▆▆▆▆▆▇▄▇▇▇▃█▇████</td></tr></table><br/></div><div class=\"wandb-col\"><h3>Run summary:</h3><br/><table class=\"wandb\"><tr><td>length</td><td>1000</td></tr><tr><td>reward</td><td>3974.68102</td></tr></table><br/></div></div>"
            ]
          },
          "metadata": {}
        },
        {
          "output_type": "display_data",
          "data": {
            "text/plain": [
              "<IPython.core.display.HTML object>"
            ],
            "text/html": [
              " View run <strong style=\"color:#cdcd00\">skilled-dew-10</strong> at: <a href='https://wandb.ai/senich17/SAC_Pybullet/runs/med3svh7' target=\"_blank\">https://wandb.ai/senich17/SAC_Pybullet/runs/med3svh7</a><br/> View project at: <a href='https://wandb.ai/senich17/SAC_Pybullet' target=\"_blank\">https://wandb.ai/senich17/SAC_Pybullet</a><br/>Synced 5 W&B file(s), 0 media file(s), 0 artifact file(s) and 0 other file(s)"
            ]
          },
          "metadata": {}
        },
        {
          "output_type": "display_data",
          "data": {
            "text/plain": [
              "<IPython.core.display.HTML object>"
            ],
            "text/html": [
              "Find logs at: <code>./wandb/run-20240516_124102-med3svh7/logs</code>"
            ]
          },
          "metadata": {}
        }
      ]
    },
    {
      "cell_type": "markdown",
      "source": [
        "### Вывод\n",
        "\n",
        "Запуск 1:\n",
        "\n",
        "- learning_rate=0.001: Увеличение learning rate ускоряет сходимость модели, но при этом существует риск нестабильности обучения (наподобие студента: всю неделю бил те самые баклуши, но к экзамену готовился за ночь).\n",
        "- ent_coef=0.1: Увеличение коэффициента энтропии приводит к исследовательскому поведению модели и ускоряет обучение.\n",
        "- gradient_steps=2: Увеличение числа шагов градиентного спуска может улучшить сходимость модели, но также увеличит вычислительную нагрузку.\n",
        "\n",
        "Общий вывод: Второй эксперимент показывает лучшие результаты по среднему вознаграждению, что может указывать на более эффективное обучение модели, но при этом обучение идет значительно медленнее. Интересно, что в процессе обучения заметны скачки на графике вознаграждения, при том, довольно сильные, вполне вероятно, что там можно наблюдать ту самую нестабильность. Агент волотилен Т_Т\n",
        "\n",
        "Отчет https://wandb.ai/senich17/SAC_Pybullet/reports/SAC-Pybullet-HalfCheetah--Vmlldzo3OTczNTEz\n",
        "\n",
        "А так же сравнение с предыдущим запуском https://wandb.ai/senich17/SAC_Pybullet/reports/SAC-Pybullet-HalfCheetah--Vmlldzo3OTczNTMz?accessToken=o474p8ewm2yna2eta982lj7cnd20ykaqzsk0em4wy2mc8bg2cq5vmi50orbu5nbe\n",
        "\n"
      ],
      "metadata": {
        "id": "rxvApcroUJ7T"
      }
    },
    {
      "cell_type": "markdown",
      "source": [
        "## Эксперимент номер два\n",
        "\n",
        "Теперь скорость обучения поставим ниже, количество шагов градиента на 3, коэффициент энтропии оставим как и в предыдущем запуске."
      ],
      "metadata": {
        "id": "nFK8Gv1PUQKu"
      }
    },
    {
      "cell_type": "code",
      "source": [
        "wandb.init(\n",
        "    project=\"SAC_Pybullet\",\n",
        "    entity='Senich17')\n"
      ],
      "metadata": {
        "colab": {
          "base_uri": "https://localhost:8080/",
          "height": 120
        },
        "id": "xRl-pK-rDkQK",
        "outputId": "b22c9506-8273-439d-aa04-edb620721b5f"
      },
      "execution_count": 50,
      "outputs": [
        {
          "output_type": "display_data",
          "data": {
            "text/plain": [
              "<IPython.core.display.HTML object>"
            ],
            "text/html": [
              "Tracking run with wandb version 0.17.0"
            ]
          },
          "metadata": {}
        },
        {
          "output_type": "display_data",
          "data": {
            "text/plain": [
              "<IPython.core.display.HTML object>"
            ],
            "text/html": [
              "Run data is saved locally in <code>/content/wandb/run-20240516_133154-7acrux82</code>"
            ]
          },
          "metadata": {}
        },
        {
          "output_type": "display_data",
          "data": {
            "text/plain": [
              "<IPython.core.display.HTML object>"
            ],
            "text/html": [
              "Syncing run <strong><a href='https://wandb.ai/senich17/SAC_Pybullet/runs/7acrux82' target=\"_blank\">crimson-sunset-11</a></strong> to <a href='https://wandb.ai/senich17/SAC_Pybullet' target=\"_blank\">Weights & Biases</a> (<a href='https://wandb.me/run' target=\"_blank\">docs</a>)<br/>"
            ]
          },
          "metadata": {}
        },
        {
          "output_type": "display_data",
          "data": {
            "text/plain": [
              "<IPython.core.display.HTML object>"
            ],
            "text/html": [
              " View project at <a href='https://wandb.ai/senich17/SAC_Pybullet' target=\"_blank\">https://wandb.ai/senich17/SAC_Pybullet</a>"
            ]
          },
          "metadata": {}
        },
        {
          "output_type": "display_data",
          "data": {
            "text/plain": [
              "<IPython.core.display.HTML object>"
            ],
            "text/html": [
              " View run at <a href='https://wandb.ai/senich17/SAC_Pybullet/runs/7acrux82' target=\"_blank\">https://wandb.ai/senich17/SAC_Pybullet/runs/7acrux82</a>"
            ]
          },
          "metadata": {}
        },
        {
          "output_type": "execute_result",
          "data": {
            "text/html": [
              "<button onClick=\"this.nextSibling.style.display='block';this.style.display='none';\">Display W&B run</button><iframe src='https://wandb.ai/senich17/SAC_Pybullet/runs/7acrux82?jupyter=true' style='border:none;width:100%;height:420px;display:none;'></iframe>"
            ],
            "text/plain": [
              "<wandb.sdk.wandb_run.Run at 0x7b002e159810>"
            ]
          },
          "metadata": {},
          "execution_count": 50
        }
      ]
    },
    {
      "cell_type": "code",
      "source": [
        "env = gym.make(\"HalfCheetah-v4\")\n"
      ],
      "metadata": {
        "id": "qyBx0_SiUP0G"
      },
      "execution_count": 51,
      "outputs": []
    },
    {
      "cell_type": "code",
      "source": [
        "model = SAC(\"MlpPolicy\", env, verbose=1, learning_rate=0.0001, ent_coef=0.1, gradient_steps=3)\n"
      ],
      "metadata": {
        "colab": {
          "base_uri": "https://localhost:8080/"
        },
        "id": "nRhEBXf8UbtX",
        "outputId": "11caeb53-0c33-4a48-90c6-a7ffd681cbdc"
      },
      "execution_count": 52,
      "outputs": [
        {
          "output_type": "stream",
          "name": "stdout",
          "text": [
            "Using cuda device\n",
            "Wrapping the env with a `Monitor` wrapper\n",
            "Wrapping the env in a DummyVecEnv.\n"
          ]
        }
      ]
    },
    {
      "cell_type": "code",
      "source": [
        "callback = WandbCustomCallback(model)\n"
      ],
      "metadata": {
        "id": "_3NvmRH3Ubpw"
      },
      "execution_count": 53,
      "outputs": []
    },
    {
      "cell_type": "code",
      "source": [
        "start_time = time.time()\n"
      ],
      "metadata": {
        "id": "4-3OrRAJYcpM"
      },
      "execution_count": 54,
      "outputs": []
    },
    {
      "cell_type": "code",
      "source": [
        "model.learn(total_timesteps=100000, log_interval=4, callback=callback)\n"
      ],
      "metadata": {
        "colab": {
          "base_uri": "https://localhost:8080/"
        },
        "collapsed": true,
        "id": "GdEFHLJlUbmy",
        "outputId": "5ceb903e-269d-48a4-8e82-b893b958bd84"
      },
      "execution_count": 55,
      "outputs": [
        {
          "output_type": "stream",
          "name": "stdout",
          "text": [
            "---------------------------------\n",
            "| rollout/           |          |\n",
            "|    ep_len_mean     | 1e+03    |\n",
            "|    ep_rew_mean     | -169     |\n",
            "| time/              |          |\n",
            "|    episodes        | 4        |\n",
            "|    fps             | 33       |\n",
            "|    time_elapsed    | 120      |\n",
            "|    total_timesteps | 4000     |\n",
            "| train/             |          |\n",
            "|    actor_loss      | 2.37     |\n",
            "|    critic_loss     | 1.4      |\n",
            "|    ent_coef        | 0.1      |\n",
            "|    learning_rate   | 0.0001   |\n",
            "|    n_updates       | 11697    |\n",
            "---------------------------------\n",
            "---------------------------------\n",
            "| rollout/           |          |\n",
            "|    ep_len_mean     | 1e+03    |\n",
            "|    ep_rew_mean     | -129     |\n",
            "| time/              |          |\n",
            "|    episodes        | 8        |\n",
            "|    fps             | 32       |\n",
            "|    time_elapsed    | 245      |\n",
            "|    total_timesteps | 8000     |\n",
            "| train/             |          |\n",
            "|    actor_loss      | 3.97     |\n",
            "|    critic_loss     | 0.631    |\n",
            "|    ent_coef        | 0.1      |\n",
            "|    learning_rate   | 0.0001   |\n",
            "|    n_updates       | 23697    |\n",
            "---------------------------------\n",
            "---------------------------------\n",
            "| rollout/           |          |\n",
            "|    ep_len_mean     | 1e+03    |\n",
            "|    ep_rew_mean     | -49.6    |\n",
            "| time/              |          |\n",
            "|    episodes        | 12       |\n",
            "|    fps             | 31       |\n",
            "|    time_elapsed    | 375      |\n",
            "|    total_timesteps | 12000    |\n",
            "| train/             |          |\n",
            "|    actor_loss      | 0.678    |\n",
            "|    critic_loss     | 0.718    |\n",
            "|    ent_coef        | 0.1      |\n",
            "|    learning_rate   | 0.0001   |\n",
            "|    n_updates       | 35697    |\n",
            "---------------------------------\n",
            "---------------------------------\n",
            "| rollout/           |          |\n",
            "|    ep_len_mean     | 1e+03    |\n",
            "|    ep_rew_mean     | 29.8     |\n",
            "| time/              |          |\n",
            "|    episodes        | 16       |\n",
            "|    fps             | 31       |\n",
            "|    time_elapsed    | 501      |\n",
            "|    total_timesteps | 16000    |\n",
            "| train/             |          |\n",
            "|    actor_loss      | -4.14    |\n",
            "|    critic_loss     | 0.905    |\n",
            "|    ent_coef        | 0.1      |\n",
            "|    learning_rate   | 0.0001   |\n",
            "|    n_updates       | 47697    |\n",
            "---------------------------------\n",
            "---------------------------------\n",
            "| rollout/           |          |\n",
            "|    ep_len_mean     | 1e+03    |\n",
            "|    ep_rew_mean     | 143      |\n",
            "| time/              |          |\n",
            "|    episodes        | 20       |\n",
            "|    fps             | 31       |\n",
            "|    time_elapsed    | 634      |\n",
            "|    total_timesteps | 20000    |\n",
            "| train/             |          |\n",
            "|    actor_loss      | -11.3    |\n",
            "|    critic_loss     | 0.982    |\n",
            "|    ent_coef        | 0.1      |\n",
            "|    learning_rate   | 0.0001   |\n",
            "|    n_updates       | 59697    |\n",
            "---------------------------------\n",
            "---------------------------------\n",
            "| rollout/           |          |\n",
            "|    ep_len_mean     | 1e+03    |\n",
            "|    ep_rew_mean     | 261      |\n",
            "| time/              |          |\n",
            "|    episodes        | 24       |\n",
            "|    fps             | 31       |\n",
            "|    time_elapsed    | 758      |\n",
            "|    total_timesteps | 24000    |\n",
            "| train/             |          |\n",
            "|    actor_loss      | -19.3    |\n",
            "|    critic_loss     | 1.45     |\n",
            "|    ent_coef        | 0.1      |\n",
            "|    learning_rate   | 0.0001   |\n",
            "|    n_updates       | 71697    |\n",
            "---------------------------------\n",
            "---------------------------------\n",
            "| rollout/           |          |\n",
            "|    ep_len_mean     | 1e+03    |\n",
            "|    ep_rew_mean     | 400      |\n",
            "| time/              |          |\n",
            "|    episodes        | 28       |\n",
            "|    fps             | 31       |\n",
            "|    time_elapsed    | 884      |\n",
            "|    total_timesteps | 28000    |\n",
            "| train/             |          |\n",
            "|    actor_loss      | -31.5    |\n",
            "|    critic_loss     | 2.01     |\n",
            "|    ent_coef        | 0.1      |\n",
            "|    learning_rate   | 0.0001   |\n",
            "|    n_updates       | 83697    |\n",
            "---------------------------------\n",
            "---------------------------------\n",
            "| rollout/           |          |\n",
            "|    ep_len_mean     | 1e+03    |\n",
            "|    ep_rew_mean     | 561      |\n",
            "| time/              |          |\n",
            "|    episodes        | 32       |\n",
            "|    fps             | 31       |\n",
            "|    time_elapsed    | 1009     |\n",
            "|    total_timesteps | 32000    |\n",
            "| train/             |          |\n",
            "|    actor_loss      | -46.9    |\n",
            "|    critic_loss     | 2.64     |\n",
            "|    ent_coef        | 0.1      |\n",
            "|    learning_rate   | 0.0001   |\n",
            "|    n_updates       | 95697    |\n",
            "---------------------------------\n",
            "---------------------------------\n",
            "| rollout/           |          |\n",
            "|    ep_len_mean     | 1e+03    |\n",
            "|    ep_rew_mean     | 730      |\n",
            "| time/              |          |\n",
            "|    episodes        | 36       |\n",
            "|    fps             | 31       |\n",
            "|    time_elapsed    | 1135     |\n",
            "|    total_timesteps | 36000    |\n",
            "| train/             |          |\n",
            "|    actor_loss      | -64.1    |\n",
            "|    critic_loss     | 2.97     |\n",
            "|    ent_coef        | 0.1      |\n",
            "|    learning_rate   | 0.0001   |\n",
            "|    n_updates       | 107697   |\n",
            "---------------------------------\n",
            "---------------------------------\n",
            "| rollout/           |          |\n",
            "|    ep_len_mean     | 1e+03    |\n",
            "|    ep_rew_mean     | 894      |\n",
            "| time/              |          |\n",
            "|    episodes        | 40       |\n",
            "|    fps             | 31       |\n",
            "|    time_elapsed    | 1262     |\n",
            "|    total_timesteps | 40000    |\n",
            "| train/             |          |\n",
            "|    actor_loss      | -80      |\n",
            "|    critic_loss     | 3.73     |\n",
            "|    ent_coef        | 0.1      |\n",
            "|    learning_rate   | 0.0001   |\n",
            "|    n_updates       | 119697   |\n",
            "---------------------------------\n",
            "---------------------------------\n",
            "| rollout/           |          |\n",
            "|    ep_len_mean     | 1e+03    |\n",
            "|    ep_rew_mean     | 1.04e+03 |\n",
            "| time/              |          |\n",
            "|    episodes        | 44       |\n",
            "|    fps             | 31       |\n",
            "|    time_elapsed    | 1388     |\n",
            "|    total_timesteps | 44000    |\n",
            "| train/             |          |\n",
            "|    actor_loss      | -98.8    |\n",
            "|    critic_loss     | 3.95     |\n",
            "|    ent_coef        | 0.1      |\n",
            "|    learning_rate   | 0.0001   |\n",
            "|    n_updates       | 131697   |\n",
            "---------------------------------\n",
            "---------------------------------\n",
            "| rollout/           |          |\n",
            "|    ep_len_mean     | 1e+03    |\n",
            "|    ep_rew_mean     | 1.17e+03 |\n",
            "| time/              |          |\n",
            "|    episodes        | 48       |\n",
            "|    fps             | 31       |\n",
            "|    time_elapsed    | 1514     |\n",
            "|    total_timesteps | 48000    |\n",
            "| train/             |          |\n",
            "|    actor_loss      | -110     |\n",
            "|    critic_loss     | 4.47     |\n",
            "|    ent_coef        | 0.1      |\n",
            "|    learning_rate   | 0.0001   |\n",
            "|    n_updates       | 143697   |\n",
            "---------------------------------\n",
            "---------------------------------\n",
            "| rollout/           |          |\n",
            "|    ep_len_mean     | 1e+03    |\n",
            "|    ep_rew_mean     | 1.3e+03  |\n",
            "| time/              |          |\n",
            "|    episodes        | 52       |\n",
            "|    fps             | 31       |\n",
            "|    time_elapsed    | 1642     |\n",
            "|    total_timesteps | 52000    |\n",
            "| train/             |          |\n",
            "|    actor_loss      | -125     |\n",
            "|    critic_loss     | 4.76     |\n",
            "|    ent_coef        | 0.1      |\n",
            "|    learning_rate   | 0.0001   |\n",
            "|    n_updates       | 155697   |\n",
            "---------------------------------\n",
            "---------------------------------\n",
            "| rollout/           |          |\n",
            "|    ep_len_mean     | 1e+03    |\n",
            "|    ep_rew_mean     | 1.43e+03 |\n",
            "| time/              |          |\n",
            "|    episodes        | 56       |\n",
            "|    fps             | 31       |\n",
            "|    time_elapsed    | 1770     |\n",
            "|    total_timesteps | 56000    |\n",
            "| train/             |          |\n",
            "|    actor_loss      | -134     |\n",
            "|    critic_loss     | 5.58     |\n",
            "|    ent_coef        | 0.1      |\n",
            "|    learning_rate   | 0.0001   |\n",
            "|    n_updates       | 167697   |\n",
            "---------------------------------\n",
            "---------------------------------\n",
            "| rollout/           |          |\n",
            "|    ep_len_mean     | 1e+03    |\n",
            "|    ep_rew_mean     | 1.54e+03 |\n",
            "| time/              |          |\n",
            "|    episodes        | 60       |\n",
            "|    fps             | 31       |\n",
            "|    time_elapsed    | 1895     |\n",
            "|    total_timesteps | 60000    |\n",
            "| train/             |          |\n",
            "|    actor_loss      | -145     |\n",
            "|    critic_loss     | 4.83     |\n",
            "|    ent_coef        | 0.1      |\n",
            "|    learning_rate   | 0.0001   |\n",
            "|    n_updates       | 179697   |\n",
            "---------------------------------\n",
            "---------------------------------\n",
            "| rollout/           |          |\n",
            "|    ep_len_mean     | 1e+03    |\n",
            "|    ep_rew_mean     | 1.65e+03 |\n",
            "| time/              |          |\n",
            "|    episodes        | 64       |\n",
            "|    fps             | 31       |\n",
            "|    time_elapsed    | 2022     |\n",
            "|    total_timesteps | 64000    |\n",
            "| train/             |          |\n",
            "|    actor_loss      | -157     |\n",
            "|    critic_loss     | 5.6      |\n",
            "|    ent_coef        | 0.1      |\n",
            "|    learning_rate   | 0.0001   |\n",
            "|    n_updates       | 191697   |\n",
            "---------------------------------\n",
            "---------------------------------\n",
            "| rollout/           |          |\n",
            "|    ep_len_mean     | 1e+03    |\n",
            "|    ep_rew_mean     | 1.75e+03 |\n",
            "| time/              |          |\n",
            "|    episodes        | 68       |\n",
            "|    fps             | 31       |\n",
            "|    time_elapsed    | 2148     |\n",
            "|    total_timesteps | 68000    |\n",
            "| train/             |          |\n",
            "|    actor_loss      | -165     |\n",
            "|    critic_loss     | 5.45     |\n",
            "|    ent_coef        | 0.1      |\n",
            "|    learning_rate   | 0.0001   |\n",
            "|    n_updates       | 203697   |\n",
            "---------------------------------\n",
            "---------------------------------\n",
            "| rollout/           |          |\n",
            "|    ep_len_mean     | 1e+03    |\n",
            "|    ep_rew_mean     | 1.85e+03 |\n",
            "| time/              |          |\n",
            "|    episodes        | 72       |\n",
            "|    fps             | 31       |\n",
            "|    time_elapsed    | 2275     |\n",
            "|    total_timesteps | 72000    |\n",
            "| train/             |          |\n",
            "|    actor_loss      | -173     |\n",
            "|    critic_loss     | 5.43     |\n",
            "|    ent_coef        | 0.1      |\n",
            "|    learning_rate   | 0.0001   |\n",
            "|    n_updates       | 215697   |\n",
            "---------------------------------\n",
            "---------------------------------\n",
            "| rollout/           |          |\n",
            "|    ep_len_mean     | 1e+03    |\n",
            "|    ep_rew_mean     | 1.95e+03 |\n",
            "| time/              |          |\n",
            "|    episodes        | 76       |\n",
            "|    fps             | 31       |\n",
            "|    time_elapsed    | 2401     |\n",
            "|    total_timesteps | 76000    |\n",
            "| train/             |          |\n",
            "|    actor_loss      | -183     |\n",
            "|    critic_loss     | 5.42     |\n",
            "|    ent_coef        | 0.1      |\n",
            "|    learning_rate   | 0.0001   |\n",
            "|    n_updates       | 227697   |\n",
            "---------------------------------\n",
            "---------------------------------\n",
            "| rollout/           |          |\n",
            "|    ep_len_mean     | 1e+03    |\n",
            "|    ep_rew_mean     | 2.04e+03 |\n",
            "| time/              |          |\n",
            "|    episodes        | 80       |\n",
            "|    fps             | 31       |\n",
            "|    time_elapsed    | 2527     |\n",
            "|    total_timesteps | 80000    |\n",
            "| train/             |          |\n",
            "|    actor_loss      | -192     |\n",
            "|    critic_loss     | 6.69     |\n",
            "|    ent_coef        | 0.1      |\n",
            "|    learning_rate   | 0.0001   |\n",
            "|    n_updates       | 239697   |\n",
            "---------------------------------\n",
            "---------------------------------\n",
            "| rollout/           |          |\n",
            "|    ep_len_mean     | 1e+03    |\n",
            "|    ep_rew_mean     | 2.12e+03 |\n",
            "| time/              |          |\n",
            "|    episodes        | 84       |\n",
            "|    fps             | 31       |\n",
            "|    time_elapsed    | 2655     |\n",
            "|    total_timesteps | 84000    |\n",
            "| train/             |          |\n",
            "|    actor_loss      | -202     |\n",
            "|    critic_loss     | 6.52     |\n",
            "|    ent_coef        | 0.1      |\n",
            "|    learning_rate   | 0.0001   |\n",
            "|    n_updates       | 251697   |\n",
            "---------------------------------\n",
            "---------------------------------\n",
            "| rollout/           |          |\n",
            "|    ep_len_mean     | 1e+03    |\n",
            "|    ep_rew_mean     | 2.2e+03  |\n",
            "| time/              |          |\n",
            "|    episodes        | 88       |\n",
            "|    fps             | 31       |\n",
            "|    time_elapsed    | 2783     |\n",
            "|    total_timesteps | 88000    |\n",
            "| train/             |          |\n",
            "|    actor_loss      | -206     |\n",
            "|    critic_loss     | 6.4      |\n",
            "|    ent_coef        | 0.1      |\n",
            "|    learning_rate   | 0.0001   |\n",
            "|    n_updates       | 263697   |\n",
            "---------------------------------\n",
            "---------------------------------\n",
            "| rollout/           |          |\n",
            "|    ep_len_mean     | 1e+03    |\n",
            "|    ep_rew_mean     | 2.28e+03 |\n",
            "| time/              |          |\n",
            "|    episodes        | 92       |\n",
            "|    fps             | 31       |\n",
            "|    time_elapsed    | 2909     |\n",
            "|    total_timesteps | 92000    |\n",
            "| train/             |          |\n",
            "|    actor_loss      | -216     |\n",
            "|    critic_loss     | 6.62     |\n",
            "|    ent_coef        | 0.1      |\n",
            "|    learning_rate   | 0.0001   |\n",
            "|    n_updates       | 275697   |\n",
            "---------------------------------\n",
            "---------------------------------\n",
            "| rollout/           |          |\n",
            "|    ep_len_mean     | 1e+03    |\n",
            "|    ep_rew_mean     | 2.35e+03 |\n",
            "| time/              |          |\n",
            "|    episodes        | 96       |\n",
            "|    fps             | 31       |\n",
            "|    time_elapsed    | 3035     |\n",
            "|    total_timesteps | 96000    |\n",
            "| train/             |          |\n",
            "|    actor_loss      | -224     |\n",
            "|    critic_loss     | 6.38     |\n",
            "|    ent_coef        | 0.1      |\n",
            "|    learning_rate   | 0.0001   |\n",
            "|    n_updates       | 287697   |\n",
            "---------------------------------\n",
            "---------------------------------\n",
            "| rollout/           |          |\n",
            "|    ep_len_mean     | 1e+03    |\n",
            "|    ep_rew_mean     | 2.43e+03 |\n",
            "| time/              |          |\n",
            "|    episodes        | 100      |\n",
            "|    fps             | 31       |\n",
            "|    time_elapsed    | 3162     |\n",
            "|    total_timesteps | 100000   |\n",
            "| train/             |          |\n",
            "|    actor_loss      | -230     |\n",
            "|    critic_loss     | 7.35     |\n",
            "|    ent_coef        | 0.1      |\n",
            "|    learning_rate   | 0.0001   |\n",
            "|    n_updates       | 299697   |\n",
            "---------------------------------\n"
          ]
        },
        {
          "output_type": "execute_result",
          "data": {
            "text/plain": [
              "<stable_baselines3.sac.sac.SAC at 0x7b002e15a4d0>"
            ]
          },
          "metadata": {},
          "execution_count": 55
        }
      ]
    },
    {
      "cell_type": "code",
      "source": [
        "end_time = time.time()\n",
        "execution_time = end_time - start_time\n",
        "\n",
        "print(f\"Время выполнения обучения: {execution_time} секунд\")\n"
      ],
      "metadata": {
        "colab": {
          "base_uri": "https://localhost:8080/"
        },
        "id": "jFnTfu8gYcmO",
        "outputId": "cd7bdac4-7bdb-477b-a6e4-f3a6662bc5d9"
      },
      "execution_count": 56,
      "outputs": [
        {
          "output_type": "stream",
          "name": "stdout",
          "text": [
            "Время выполнения обучения: 3163.4966304302216 секунд\n"
          ]
        }
      ]
    },
    {
      "cell_type": "code",
      "source": [
        "# Оценка политики за 10 прогонов\n",
        "mean_reward, std_reward = evaluate_policy(model, model.get_env(), n_eval_episodes=10)\n"
      ],
      "metadata": {
        "id": "5QnpWudwarvg"
      },
      "execution_count": 57,
      "outputs": []
    },
    {
      "cell_type": "code",
      "source": [
        "print(f\"Среднее вознаграждение: {mean_reward}\")\n",
        "print(f\"Стандартное отклонение: {std_reward}\")\n",
        "print(f\"Время выполнения обучения: {execution_time} секунд\")\n"
      ],
      "metadata": {
        "colab": {
          "base_uri": "https://localhost:8080/"
        },
        "id": "2PAItBNRYcjI",
        "outputId": "df8cb071-38ca-4942-9292-57f015a36a20"
      },
      "execution_count": 58,
      "outputs": [
        {
          "output_type": "stream",
          "name": "stdout",
          "text": [
            "Среднее вознаграждение: 4394.6941951\n",
            "Стандартное отклонение: 71.1067554168165\n",
            "Время выполнения обучения: 3163.4966304302216 секунд\n"
          ]
        }
      ]
    },
    {
      "cell_type": "code",
      "source": [
        "plt.figure(figsize=(10, 6))\n",
        "\n",
        "bar_reward = plt.barh(0, mean_reward, label='Среднее вознаграждение', color='green')\n",
        "\n",
        "bar_time = plt.barh(1, execution_time, label='Время выполнения', color='blue')\n",
        "\n",
        "plt.text(mean_reward + 10, 0, f'{round(mean_reward, 2)}', ha='left', va='center')\n",
        "plt.text(execution_time + 10, 1, f'{execution_time} с', ha='left', va='center')\n",
        "\n",
        "plt.title('Среднее вознаграждение и время выполнения')\n",
        "plt.xlabel('Ценность')\n",
        "plt.ylabel('Метрики')\n",
        "\n",
        "plt.legend()\n",
        "\n",
        "# Честно, я знаю, что эти графики уродливы по своей природе, в конце будут покрасивее\n",
        "plt.tight_layout()\n",
        "plt.show()\n"
      ],
      "metadata": {
        "colab": {
          "base_uri": "https://localhost:8080/",
          "height": 607
        },
        "id": "-BJ8GoZlb2uE",
        "outputId": "fa2929de-7b30-4b5d-878c-cf543294644d"
      },
      "execution_count": 60,
      "outputs": [
        {
          "output_type": "display_data",
          "data": {
            "text/plain": [
              "<Figure size 1000x600 with 1 Axes>"
            ],
            "image/png": "[encoded data removed]"
          },
          "metadata": {}
        }
      ]
    },
    {
      "cell_type": "code",
      "source": [
        "model.save('sac_cheetah2')\n"
      ],
      "metadata": {
        "id": "ogU5ba3UUvGy"
      },
      "execution_count": 61,
      "outputs": []
    },
    {
      "cell_type": "code",
      "source": [
        "env.close()\n"
      ],
      "metadata": {
        "id": "YrPJ1IWLw-Mg"
      },
      "execution_count": 62,
      "outputs": []
    },
    {
      "cell_type": "code",
      "source": [
        "wandb.finish()\n"
      ],
      "metadata": {
        "colab": {
          "base_uri": "https://localhost:8080/",
          "height": 223,
          "referenced_widgets": [
            "6c5f6ee2be44430d97b84d274c99666e",
            "191aaa53ba9348c890b9e41e7c709c09",
            "bf7dfcd2fb00498c8823eee6d2c066ac",
            "52b9e03f3b254f309ca8dae59b49108f",
            "5a07b0245bd9463c9d4ef7dbdfec1158",
            "b3a5025af92740bc927549387908c70a",
            "7718b2edbcec4a01b5eb54628814a02c",
            "a8ee973ae096486f9a9a23efe8b68d2b"
          ]
        },
        "id": "07VSSisKDnW5",
        "outputId": "e1fecd87-2bfe-4f5a-eb7e-835a95d9c1ee"
      },
      "execution_count": 63,
      "outputs": [
        {
          "output_type": "display_data",
          "data": {
            "text/plain": [
              "VBox(children=(Label(value='0.001 MB of 0.001 MB uploaded\\r'), FloatProgress(value=1.0, max=1.0)))"
            ],
            "application/vnd.jupyter.widget-view+json": {
              "version_major": 2,
              "version_minor": 0,
              "model_id": "6c5f6ee2be44430d97b84d274c99666e"
            }
          },
          "metadata": {}
        },
        {
          "output_type": "display_data",
          "data": {
            "text/plain": [
              "<IPython.core.display.HTML object>"
            ],
            "text/html": [
              "<style>\n",
              "    table.wandb td:nth-child(1) { padding: 0 10px; text-align: left ; width: auto;} td:nth-child(2) {text-align: left ; width: 100%}\n",
              "    .wandb-row { display: flex; flex-direction: row; flex-wrap: wrap; justify-content: flex-start; width: 100% }\n",
              "    .wandb-col { display: flex; flex-direction: column; flex-basis: 100%; flex: 1; padding: 10px; }\n",
              "    </style>\n",
              "<div class=\"wandb-row\"><div class=\"wandb-col\"><h3>Run history:</h3><br/><table class=\"wandb\"><tr><td>length</td><td>▁▁▁▁▁▁▁▁▁▁▁▁▁▁▁▁▁▁▁▁▁▁▁▁▁▁▁▁▁▁▁▁▁▁▁▁▁▁▁▁</td></tr><tr><td>reward</td><td>▁▁▁▁▁▂▂▂▂▃▃▃▄▅▅▅▅▅▆▆▆▆▆▆▆▇▆▇▇▇██▇▇██████</td></tr></table><br/></div><div class=\"wandb-col\"><h3>Run summary:</h3><br/><table class=\"wandb\"><tr><td>length</td><td>1000</td></tr><tr><td>reward</td><td>4082.53756</td></tr></table><br/></div></div>"
            ]
          },
          "metadata": {}
        },
        {
          "output_type": "display_data",
          "data": {
            "text/plain": [
              "<IPython.core.display.HTML object>"
            ],
            "text/html": [
              " View run <strong style=\"color:#cdcd00\">crimson-sunset-11</strong> at: <a href='https://wandb.ai/senich17/SAC_Pybullet/runs/7acrux82' target=\"_blank\">https://wandb.ai/senich17/SAC_Pybullet/runs/7acrux82</a><br/> View project at: <a href='https://wandb.ai/senich17/SAC_Pybullet' target=\"_blank\">https://wandb.ai/senich17/SAC_Pybullet</a><br/>Synced 5 W&B file(s), 0 media file(s), 0 artifact file(s) and 0 other file(s)"
            ]
          },
          "metadata": {}
        },
        {
          "output_type": "display_data",
          "data": {
            "text/plain": [
              "<IPython.core.display.HTML object>"
            ],
            "text/html": [
              "Find logs at: <code>./wandb/run-20240516_133154-7acrux82/logs</code>"
            ]
          },
          "metadata": {}
        }
      ]
    },
    {
      "cell_type": "markdown",
      "source": [
        "### Вывод\n",
        "\n",
        "Сравнивая новый запуск с предыдущими двумя экспериментами, мы можем заметить следующие изменения:\n",
        "\n",
        "Запуск 2:\n",
        "\n",
        "- learning_rate=0.0001: Дальнейшее уменьшение learning rate снижает скорость сходимости, особенно если он становится слишком маленьким.\n",
        "- gradient_steps=3: Увеличение числа шагов градиентного спуска дополнительно улучшает сходимость модели, но, ессессно, с увеличением вычислительной нагрузки.\n",
        "\n",
        "Общий вывод: Новый запуск показывает улучшение производительности по среднему вознаграждению за эпизод, однако увеличение времени обучения может оказать влияние на общую эффективность модели. При этом модель остается довольно стабильной, что радует!\n",
        "\n",
        "Отчет: https://wandb.ai/senich17/SAC_Pybullet/reports/SAC-Pybullet-HalfCheetah--Vmlldzo3OTc0MzMw?accessToken=wvtcwda8xb1aa1rbzodnf2x2i74jop6d9z4ue7naf1qwbb1ehghyuqpj38bkzqg7\n",
        "\n",
        "Сравнение с предыдущими запусками: https://api.wandb.ai/links/senich17/98l2k15u"
      ],
      "metadata": {
        "id": "uUZOafn0U4ZX"
      }
    },
    {
      "cell_type": "markdown",
      "source": [
        "## Эксперимент номер три\n",
        "\n",
        "Теперь оставим скорость обучения такой же, как в предыдущем\n",
        "эксперементе, а шаги градиента - по умолчанию, но поменяем коэффициент энтропии на 0.5."
      ],
      "metadata": {
        "id": "9NBCOTshZOoz"
      }
    },
    {
      "cell_type": "code",
      "source": [
        "wandb.init(\n",
        "    project=\"SAC_Pybullet\",\n",
        "    entity='Senich17')\n"
      ],
      "metadata": {
        "colab": {
          "base_uri": "https://localhost:8080/",
          "height": 120
        },
        "id": "BTzyoI9NdNDq",
        "outputId": "807ac641-e8b4-4603-c0fb-40dd32ff0a1b"
      },
      "execution_count": 64,
      "outputs": [
        {
          "output_type": "display_data",
          "data": {
            "text/plain": [
              "<IPython.core.display.HTML object>"
            ],
            "text/html": [
              "Tracking run with wandb version 0.17.0"
            ]
          },
          "metadata": {}
        },
        {
          "output_type": "display_data",
          "data": {
            "text/plain": [
              "<IPython.core.display.HTML object>"
            ],
            "text/html": [
              "Run data is saved locally in <code>/content/wandb/run-20240516_144154-0oy2m9w3</code>"
            ]
          },
          "metadata": {}
        },
        {
          "output_type": "display_data",
          "data": {
            "text/plain": [
              "<IPython.core.display.HTML object>"
            ],
            "text/html": [
              "Syncing run <strong><a href='https://wandb.ai/senich17/SAC_Pybullet/runs/0oy2m9w3' target=\"_blank\">robust-lake-12</a></strong> to <a href='https://wandb.ai/senich17/SAC_Pybullet' target=\"_blank\">Weights & Biases</a> (<a href='https://wandb.me/run' target=\"_blank\">docs</a>)<br/>"
            ]
          },
          "metadata": {}
        },
        {
          "output_type": "display_data",
          "data": {
            "text/plain": [
              "<IPython.core.display.HTML object>"
            ],
            "text/html": [
              " View project at <a href='https://wandb.ai/senich17/SAC_Pybullet' target=\"_blank\">https://wandb.ai/senich17/SAC_Pybullet</a>"
            ]
          },
          "metadata": {}
        },
        {
          "output_type": "display_data",
          "data": {
            "text/plain": [
              "<IPython.core.display.HTML object>"
            ],
            "text/html": [
              " View run at <a href='https://wandb.ai/senich17/SAC_Pybullet/runs/0oy2m9w3' target=\"_blank\">https://wandb.ai/senich17/SAC_Pybullet/runs/0oy2m9w3</a>"
            ]
          },
          "metadata": {}
        },
        {
          "output_type": "execute_result",
          "data": {
            "text/html": [
              "<button onClick=\"this.nextSibling.style.display='block';this.style.display='none';\">Display W&B run</button><iframe src='https://wandb.ai/senich17/SAC_Pybullet/runs/0oy2m9w3?jupyter=true' style='border:none;width:100%;height:420px;display:none;'></iframe>"
            ],
            "text/plain": [
              "<wandb.sdk.wandb_run.Run at 0x7b000819db40>"
            ]
          },
          "metadata": {},
          "execution_count": 64
        }
      ]
    },
    {
      "cell_type": "code",
      "source": [
        "env = gym.make(\"HalfCheetah-v4\")\n"
      ],
      "metadata": {
        "id": "TRW1yDCIZ_uH"
      },
      "execution_count": 65,
      "outputs": []
    },
    {
      "cell_type": "code",
      "source": [
        "model = SAC(\"MlpPolicy\", env, verbose=1, learning_rate=0.0001, ent_coef=0.5, gradient_steps=1)\n"
      ],
      "metadata": {
        "colab": {
          "base_uri": "https://localhost:8080/"
        },
        "id": "g_xB5MeiZ_oR",
        "outputId": "d5389d77-860f-4fb2-f933-a702bc38e2aa"
      },
      "execution_count": 66,
      "outputs": [
        {
          "output_type": "stream",
          "name": "stdout",
          "text": [
            "Using cuda device\n",
            "Wrapping the env with a `Monitor` wrapper\n",
            "Wrapping the env in a DummyVecEnv.\n"
          ]
        }
      ]
    },
    {
      "cell_type": "code",
      "source": [
        "callback = WandbCustomCallback(model)\n"
      ],
      "metadata": {
        "id": "9UtBAK9eZ_kP"
      },
      "execution_count": 67,
      "outputs": []
    },
    {
      "cell_type": "code",
      "source": [
        "start_time = time.time()\n"
      ],
      "metadata": {
        "id": "d1iQ4_jSZrZt"
      },
      "execution_count": 68,
      "outputs": []
    },
    {
      "cell_type": "code",
      "source": [
        "model.learn(total_timesteps=100000, log_interval=4, callback=callback)\n"
      ],
      "metadata": {
        "colab": {
          "base_uri": "https://localhost:8080/"
        },
        "collapsed": true,
        "id": "xyaTzKaaZsFh",
        "outputId": "2db81293-8d99-440c-f28b-3409fd384c10"
      },
      "execution_count": 69,
      "outputs": [
        {
          "output_type": "stream",
          "name": "stdout",
          "text": [
            "---------------------------------\n",
            "| rollout/           |          |\n",
            "|    ep_len_mean     | 1e+03    |\n",
            "|    ep_rew_mean     | -270     |\n",
            "| time/              |          |\n",
            "|    episodes        | 4        |\n",
            "|    fps             | 77       |\n",
            "|    time_elapsed    | 51       |\n",
            "|    total_timesteps | 4000     |\n",
            "| train/             |          |\n",
            "|    actor_loss      | -26.4    |\n",
            "|    critic_loss     | 0.901    |\n",
            "|    ent_coef        | 0.5      |\n",
            "|    learning_rate   | 0.0001   |\n",
            "|    n_updates       | 3899     |\n",
            "---------------------------------\n",
            "---------------------------------\n",
            "| rollout/           |          |\n",
            "|    ep_len_mean     | 1e+03    |\n",
            "|    ep_rew_mean     | -265     |\n",
            "| time/              |          |\n",
            "|    episodes        | 8        |\n",
            "|    fps             | 82       |\n",
            "|    time_elapsed    | 97       |\n",
            "|    total_timesteps | 8000     |\n",
            "| train/             |          |\n",
            "|    actor_loss      | -45.2    |\n",
            "|    critic_loss     | 1.66     |\n",
            "|    ent_coef        | 0.5      |\n",
            "|    learning_rate   | 0.0001   |\n",
            "|    n_updates       | 7899     |\n",
            "---------------------------------\n",
            "---------------------------------\n",
            "| rollout/           |          |\n",
            "|    ep_len_mean     | 1e+03    |\n",
            "|    ep_rew_mean     | -235     |\n",
            "| time/              |          |\n",
            "|    episodes        | 12       |\n",
            "|    fps             | 83       |\n",
            "|    time_elapsed    | 143      |\n",
            "|    total_timesteps | 12000    |\n",
            "| train/             |          |\n",
            "|    actor_loss      | -60.3    |\n",
            "|    critic_loss     | 1.85     |\n",
            "|    ent_coef        | 0.5      |\n",
            "|    learning_rate   | 0.0001   |\n",
            "|    n_updates       | 11899    |\n",
            "---------------------------------\n",
            "---------------------------------\n",
            "| rollout/           |          |\n",
            "|    ep_len_mean     | 1e+03    |\n",
            "|    ep_rew_mean     | -233     |\n",
            "| time/              |          |\n",
            "|    episodes        | 16       |\n",
            "|    fps             | 84       |\n",
            "|    time_elapsed    | 189      |\n",
            "|    total_timesteps | 16000    |\n",
            "| train/             |          |\n",
            "|    actor_loss      | -72.3    |\n",
            "|    critic_loss     | 1.74     |\n",
            "|    ent_coef        | 0.5      |\n",
            "|    learning_rate   | 0.0001   |\n",
            "|    n_updates       | 15899    |\n",
            "---------------------------------\n",
            "---------------------------------\n",
            "| rollout/           |          |\n",
            "|    ep_len_mean     | 1e+03    |\n",
            "|    ep_rew_mean     | -232     |\n",
            "| time/              |          |\n",
            "|    episodes        | 20       |\n",
            "|    fps             | 84       |\n",
            "|    time_elapsed    | 237      |\n",
            "|    total_timesteps | 20000    |\n",
            "| train/             |          |\n",
            "|    actor_loss      | -82.2    |\n",
            "|    critic_loss     | 1.94     |\n",
            "|    ent_coef        | 0.5      |\n",
            "|    learning_rate   | 0.0001   |\n",
            "|    n_updates       | 19899    |\n",
            "---------------------------------\n",
            "---------------------------------\n",
            "| rollout/           |          |\n",
            "|    ep_len_mean     | 1e+03    |\n",
            "|    ep_rew_mean     | -231     |\n",
            "| time/              |          |\n",
            "|    episodes        | 24       |\n",
            "|    fps             | 85       |\n",
            "|    time_elapsed    | 282      |\n",
            "|    total_timesteps | 24000    |\n",
            "| train/             |          |\n",
            "|    actor_loss      | -90.8    |\n",
            "|    critic_loss     | 1.73     |\n",
            "|    ent_coef        | 0.5      |\n",
            "|    learning_rate   | 0.0001   |\n",
            "|    n_updates       | 23899    |\n",
            "---------------------------------\n",
            "---------------------------------\n",
            "| rollout/           |          |\n",
            "|    ep_len_mean     | 1e+03    |\n",
            "|    ep_rew_mean     | -227     |\n",
            "| time/              |          |\n",
            "|    episodes        | 28       |\n",
            "|    fps             | 85       |\n",
            "|    time_elapsed    | 328      |\n",
            "|    total_timesteps | 28000    |\n",
            "| train/             |          |\n",
            "|    actor_loss      | -97.6    |\n",
            "|    critic_loss     | 1.95     |\n",
            "|    ent_coef        | 0.5      |\n",
            "|    learning_rate   | 0.0001   |\n",
            "|    n_updates       | 27899    |\n",
            "---------------------------------\n",
            "---------------------------------\n",
            "| rollout/           |          |\n",
            "|    ep_len_mean     | 1e+03    |\n",
            "|    ep_rew_mean     | -223     |\n",
            "| time/              |          |\n",
            "|    episodes        | 32       |\n",
            "|    fps             | 85       |\n",
            "|    time_elapsed    | 373      |\n",
            "|    total_timesteps | 32000    |\n",
            "| train/             |          |\n",
            "|    actor_loss      | -104     |\n",
            "|    critic_loss     | 1.72     |\n",
            "|    ent_coef        | 0.5      |\n",
            "|    learning_rate   | 0.0001   |\n",
            "|    n_updates       | 31899    |\n",
            "---------------------------------\n",
            "---------------------------------\n",
            "| rollout/           |          |\n",
            "|    ep_len_mean     | 1e+03    |\n",
            "|    ep_rew_mean     | -220     |\n",
            "| time/              |          |\n",
            "|    episodes        | 36       |\n",
            "|    fps             | 85       |\n",
            "|    time_elapsed    | 419      |\n",
            "|    total_timesteps | 36000    |\n",
            "| train/             |          |\n",
            "|    actor_loss      | -110     |\n",
            "|    critic_loss     | 1.7      |\n",
            "|    ent_coef        | 0.5      |\n",
            "|    learning_rate   | 0.0001   |\n",
            "|    n_updates       | 35899    |\n",
            "---------------------------------\n",
            "---------------------------------\n",
            "| rollout/           |          |\n",
            "|    ep_len_mean     | 1e+03    |\n",
            "|    ep_rew_mean     | -221     |\n",
            "| time/              |          |\n",
            "|    episodes        | 40       |\n",
            "|    fps             | 86       |\n",
            "|    time_elapsed    | 464      |\n",
            "|    total_timesteps | 40000    |\n",
            "| train/             |          |\n",
            "|    actor_loss      | -115     |\n",
            "|    critic_loss     | 1.56     |\n",
            "|    ent_coef        | 0.5      |\n",
            "|    learning_rate   | 0.0001   |\n",
            "|    n_updates       | 39899    |\n",
            "---------------------------------\n",
            "---------------------------------\n",
            "| rollout/           |          |\n",
            "|    ep_len_mean     | 1e+03    |\n",
            "|    ep_rew_mean     | -221     |\n",
            "| time/              |          |\n",
            "|    episodes        | 44       |\n",
            "|    fps             | 86       |\n",
            "|    time_elapsed    | 510      |\n",
            "|    total_timesteps | 44000    |\n",
            "| train/             |          |\n",
            "|    actor_loss      | -118     |\n",
            "|    critic_loss     | 1.6      |\n",
            "|    ent_coef        | 0.5      |\n",
            "|    learning_rate   | 0.0001   |\n",
            "|    n_updates       | 43899    |\n",
            "---------------------------------\n",
            "---------------------------------\n",
            "| rollout/           |          |\n",
            "|    ep_len_mean     | 1e+03    |\n",
            "|    ep_rew_mean     | -219     |\n",
            "| time/              |          |\n",
            "|    episodes        | 48       |\n",
            "|    fps             | 86       |\n",
            "|    time_elapsed    | 555      |\n",
            "|    total_timesteps | 48000    |\n",
            "| train/             |          |\n",
            "|    actor_loss      | -123     |\n",
            "|    critic_loss     | 1.37     |\n",
            "|    ent_coef        | 0.5      |\n",
            "|    learning_rate   | 0.0001   |\n",
            "|    n_updates       | 47899    |\n",
            "---------------------------------\n",
            "---------------------------------\n",
            "| rollout/           |          |\n",
            "|    ep_len_mean     | 1e+03    |\n",
            "|    ep_rew_mean     | -217     |\n",
            "| time/              |          |\n",
            "|    episodes        | 52       |\n",
            "|    fps             | 86       |\n",
            "|    time_elapsed    | 600      |\n",
            "|    total_timesteps | 52000    |\n",
            "| train/             |          |\n",
            "|    actor_loss      | -126     |\n",
            "|    critic_loss     | 1.46     |\n",
            "|    ent_coef        | 0.5      |\n",
            "|    learning_rate   | 0.0001   |\n",
            "|    n_updates       | 51899    |\n",
            "---------------------------------\n",
            "---------------------------------\n",
            "| rollout/           |          |\n",
            "|    ep_len_mean     | 1e+03    |\n",
            "|    ep_rew_mean     | -215     |\n",
            "| time/              |          |\n",
            "|    episodes        | 56       |\n",
            "|    fps             | 86       |\n",
            "|    time_elapsed    | 646      |\n",
            "|    total_timesteps | 56000    |\n",
            "| train/             |          |\n",
            "|    actor_loss      | -130     |\n",
            "|    critic_loss     | 1.48     |\n",
            "|    ent_coef        | 0.5      |\n",
            "|    learning_rate   | 0.0001   |\n",
            "|    n_updates       | 55899    |\n",
            "---------------------------------\n",
            "---------------------------------\n",
            "| rollout/           |          |\n",
            "|    ep_len_mean     | 1e+03    |\n",
            "|    ep_rew_mean     | -213     |\n",
            "| time/              |          |\n",
            "|    episodes        | 60       |\n",
            "|    fps             | 86       |\n",
            "|    time_elapsed    | 691      |\n",
            "|    total_timesteps | 60000    |\n",
            "| train/             |          |\n",
            "|    actor_loss      | -132     |\n",
            "|    critic_loss     | 1.18     |\n",
            "|    ent_coef        | 0.5      |\n",
            "|    learning_rate   | 0.0001   |\n",
            "|    n_updates       | 59899    |\n",
            "---------------------------------\n",
            "---------------------------------\n",
            "| rollout/           |          |\n",
            "|    ep_len_mean     | 1e+03    |\n",
            "|    ep_rew_mean     | -212     |\n",
            "| time/              |          |\n",
            "|    episodes        | 64       |\n",
            "|    fps             | 86       |\n",
            "|    time_elapsed    | 738      |\n",
            "|    total_timesteps | 64000    |\n",
            "| train/             |          |\n",
            "|    actor_loss      | -135     |\n",
            "|    critic_loss     | 1.32     |\n",
            "|    ent_coef        | 0.5      |\n",
            "|    learning_rate   | 0.0001   |\n",
            "|    n_updates       | 63899    |\n",
            "---------------------------------\n",
            "---------------------------------\n",
            "| rollout/           |          |\n",
            "|    ep_len_mean     | 1e+03    |\n",
            "|    ep_rew_mean     | -212     |\n",
            "| time/              |          |\n",
            "|    episodes        | 68       |\n",
            "|    fps             | 86       |\n",
            "|    time_elapsed    | 783      |\n",
            "|    total_timesteps | 68000    |\n",
            "| train/             |          |\n",
            "|    actor_loss      | -138     |\n",
            "|    critic_loss     | 1.5      |\n",
            "|    ent_coef        | 0.5      |\n",
            "|    learning_rate   | 0.0001   |\n",
            "|    n_updates       | 67899    |\n",
            "---------------------------------\n",
            "---------------------------------\n",
            "| rollout/           |          |\n",
            "|    ep_len_mean     | 1e+03    |\n",
            "|    ep_rew_mean     | -211     |\n",
            "| time/              |          |\n",
            "|    episodes        | 72       |\n",
            "|    fps             | 86       |\n",
            "|    time_elapsed    | 829      |\n",
            "|    total_timesteps | 72000    |\n",
            "| train/             |          |\n",
            "|    actor_loss      | -139     |\n",
            "|    critic_loss     | 1.26     |\n",
            "|    ent_coef        | 0.5      |\n",
            "|    learning_rate   | 0.0001   |\n",
            "|    n_updates       | 71899    |\n",
            "---------------------------------\n",
            "---------------------------------\n",
            "| rollout/           |          |\n",
            "|    ep_len_mean     | 1e+03    |\n",
            "|    ep_rew_mean     | -210     |\n",
            "| time/              |          |\n",
            "|    episodes        | 76       |\n",
            "|    fps             | 86       |\n",
            "|    time_elapsed    | 874      |\n",
            "|    total_timesteps | 76000    |\n",
            "| train/             |          |\n",
            "|    actor_loss      | -142     |\n",
            "|    critic_loss     | 1.53     |\n",
            "|    ent_coef        | 0.5      |\n",
            "|    learning_rate   | 0.0001   |\n",
            "|    n_updates       | 75899    |\n",
            "---------------------------------\n",
            "---------------------------------\n",
            "| rollout/           |          |\n",
            "|    ep_len_mean     | 1e+03    |\n",
            "|    ep_rew_mean     | -208     |\n",
            "| time/              |          |\n",
            "|    episodes        | 80       |\n",
            "|    fps             | 86       |\n",
            "|    time_elapsed    | 920      |\n",
            "|    total_timesteps | 80000    |\n",
            "| train/             |          |\n",
            "|    actor_loss      | -143     |\n",
            "|    critic_loss     | 1.44     |\n",
            "|    ent_coef        | 0.5      |\n",
            "|    learning_rate   | 0.0001   |\n",
            "|    n_updates       | 79899    |\n",
            "---------------------------------\n",
            "---------------------------------\n",
            "| rollout/           |          |\n",
            "|    ep_len_mean     | 1e+03    |\n",
            "|    ep_rew_mean     | -207     |\n",
            "| time/              |          |\n",
            "|    episodes        | 84       |\n",
            "|    fps             | 86       |\n",
            "|    time_elapsed    | 966      |\n",
            "|    total_timesteps | 84000    |\n",
            "| train/             |          |\n",
            "|    actor_loss      | -145     |\n",
            "|    critic_loss     | 1.24     |\n",
            "|    ent_coef        | 0.5      |\n",
            "|    learning_rate   | 0.0001   |\n",
            "|    n_updates       | 83899    |\n",
            "---------------------------------\n",
            "---------------------------------\n",
            "| rollout/           |          |\n",
            "|    ep_len_mean     | 1e+03    |\n",
            "|    ep_rew_mean     | -204     |\n",
            "| time/              |          |\n",
            "|    episodes        | 88       |\n",
            "|    fps             | 86       |\n",
            "|    time_elapsed    | 1012     |\n",
            "|    total_timesteps | 88000    |\n",
            "| train/             |          |\n",
            "|    actor_loss      | -147     |\n",
            "|    critic_loss     | 0.927    |\n",
            "|    ent_coef        | 0.5      |\n",
            "|    learning_rate   | 0.0001   |\n",
            "|    n_updates       | 87899    |\n",
            "---------------------------------\n",
            "---------------------------------\n",
            "| rollout/           |          |\n",
            "|    ep_len_mean     | 1e+03    |\n",
            "|    ep_rew_mean     | -202     |\n",
            "| time/              |          |\n",
            "|    episodes        | 92       |\n",
            "|    fps             | 87       |\n",
            "|    time_elapsed    | 1056     |\n",
            "|    total_timesteps | 92000    |\n",
            "| train/             |          |\n",
            "|    actor_loss      | -149     |\n",
            "|    critic_loss     | 1.21     |\n",
            "|    ent_coef        | 0.5      |\n",
            "|    learning_rate   | 0.0001   |\n",
            "|    n_updates       | 91899    |\n",
            "---------------------------------\n",
            "---------------------------------\n",
            "| rollout/           |          |\n",
            "|    ep_len_mean     | 1e+03    |\n",
            "|    ep_rew_mean     | -200     |\n",
            "| time/              |          |\n",
            "|    episodes        | 96       |\n",
            "|    fps             | 87       |\n",
            "|    time_elapsed    | 1103     |\n",
            "|    total_timesteps | 96000    |\n",
            "| train/             |          |\n",
            "|    actor_loss      | -150     |\n",
            "|    critic_loss     | 1.35     |\n",
            "|    ent_coef        | 0.5      |\n",
            "|    learning_rate   | 0.0001   |\n",
            "|    n_updates       | 95899    |\n",
            "---------------------------------\n",
            "---------------------------------\n",
            "| rollout/           |          |\n",
            "|    ep_len_mean     | 1e+03    |\n",
            "|    ep_rew_mean     | -197     |\n",
            "| time/              |          |\n",
            "|    episodes        | 100      |\n",
            "|    fps             | 87       |\n",
            "|    time_elapsed    | 1149     |\n",
            "|    total_timesteps | 100000   |\n",
            "| train/             |          |\n",
            "|    actor_loss      | -151     |\n",
            "|    critic_loss     | 1.47     |\n",
            "|    ent_coef        | 0.5      |\n",
            "|    learning_rate   | 0.0001   |\n",
            "|    n_updates       | 99899    |\n",
            "---------------------------------\n"
          ]
        },
        {
          "output_type": "execute_result",
          "data": {
            "text/plain": [
              "<stable_baselines3.sac.sac.SAC at 0x7b00081b00d0>"
            ]
          },
          "metadata": {},
          "execution_count": 69
        }
      ]
    },
    {
      "cell_type": "code",
      "source": [
        "end_time = time.time()\n",
        "execution_time = end_time - start_time\n",
        "\n",
        "print(f\"Время выполнения обучения: {execution_time} секунд\")\n"
      ],
      "metadata": {
        "colab": {
          "base_uri": "https://localhost:8080/"
        },
        "id": "4ebWM8VyZsCx",
        "outputId": "68788840-9751-4da1-96bc-13b2649e7d6b"
      },
      "execution_count": 70,
      "outputs": [
        {
          "output_type": "stream",
          "name": "stdout",
          "text": [
            "Время выполнения обучения: 1150.4772300720215 секунд\n"
          ]
        }
      ]
    },
    {
      "cell_type": "code",
      "source": [
        "mean_reward, std_reward = evaluate_policy(model, model.get_env(), n_eval_episodes=10)\n"
      ],
      "metadata": {
        "id": "zX7eyp55anRO"
      },
      "execution_count": 71,
      "outputs": []
    },
    {
      "cell_type": "code",
      "source": [
        "print(f\"Среднее вознаграждение: {mean_reward}\")\n",
        "print(f\"Стандартное отклонение: {std_reward}\")\n",
        "print(f\"Время выполнения обучения: {execution_time} секунд\")\n"
      ],
      "metadata": {
        "colab": {
          "base_uri": "https://localhost:8080/"
        },
        "id": "M8cmtCMfZsAn",
        "outputId": "7e987deb-ee42-4b97-c94a-2acab960541e"
      },
      "execution_count": 72,
      "outputs": [
        {
          "output_type": "stream",
          "name": "stdout",
          "text": [
            "Среднее вознаграждение: -11.8454462\n",
            "Стандартное отклонение: 0.7329808270454011\n",
            "Время выполнения обучения: 1150.4772300720215 секунд\n"
          ]
        }
      ]
    },
    {
      "cell_type": "code",
      "source": [
        "plt.figure(figsize=(10, 6))\n",
        "\n",
        "bar_reward = plt.barh(0, mean_reward, label='Среднее вознаграждение', color='green')\n",
        "\n",
        "bar_time = plt.barh(1, execution_time, label='Время выполнения', color='blue')\n",
        "\n",
        "plt.text(mean_reward + 10, 0, f'{round(mean_reward, 2)}', ha='left', va='center')\n",
        "plt.text(execution_time + 10, 1, f'{execution_time} с', ha='left', va='center')\n",
        "\n",
        "plt.title('Среднее вознаграждение и время выполнения')\n",
        "plt.xlabel('Ценность')\n",
        "plt.ylabel('Метрики')\n",
        "\n",
        "plt.legend()\n",
        "\n",
        "# Честно, я знаю, что эти графики уродливы по своей природе, в конце будут покрасивее\n",
        "plt.tight_layout()\n",
        "plt.show()\n"
      ],
      "metadata": {
        "colab": {
          "base_uri": "https://localhost:8080/",
          "height": 607
        },
        "id": "kve7OVxfVj6j",
        "outputId": "564d0480-8454-4cfe-e094-4b98bc137d52"
      },
      "execution_count": 73,
      "outputs": [
        {
          "output_type": "display_data",
          "data": {
            "text/plain": [
              "<Figure size 1000x600 with 1 Axes>"
            ],
            "image/png": "[encoded data removed]"
          },
          "metadata": {}
        }
      ]
    },
    {
      "cell_type": "code",
      "source": [
        "model.save('sac_cheetah3')\n"
      ],
      "metadata": {
        "id": "FLJ4RMeCZr9K"
      },
      "execution_count": 74,
      "outputs": []
    },
    {
      "cell_type": "code",
      "source": [
        "env.close()\n"
      ],
      "metadata": {
        "id": "hUVO5EmWxKYV"
      },
      "execution_count": 75,
      "outputs": []
    },
    {
      "cell_type": "code",
      "source": [
        "wandb.finish()\n"
      ],
      "metadata": {
        "colab": {
          "base_uri": "https://localhost:8080/",
          "height": 223,
          "referenced_widgets": [
            "99d9de5ec7554770b12232997f37b733",
            "37af038526b54245b505d1dd4dde0c40",
            "358a17e7a3834930ac336cb207a6c98f",
            "81bcfa2d10694eb7a4adf76c6e07930d",
            "7ddf40415d4948a4af8bdaf6f5335686",
            "042113d7c23849d0b70e09b4c22e97be",
            "9792066d324e481d9e8045b3f0eb1657",
            "ade443f510e747e58f942d900f536323"
          ]
        },
        "id": "1nYHEoRwDte2",
        "outputId": "8117cac1-ca44-45c8-b59c-e4cca68e663d"
      },
      "execution_count": 76,
      "outputs": [
        {
          "output_type": "display_data",
          "data": {
            "text/plain": [
              "VBox(children=(Label(value='0.001 MB of 0.001 MB uploaded\\r'), FloatProgress(value=1.0, max=1.0)))"
            ],
            "application/vnd.jupyter.widget-view+json": {
              "version_major": 2,
              "version_minor": 0,
              "model_id": "99d9de5ec7554770b12232997f37b733"
            }
          },
          "metadata": {}
        },
        {
          "output_type": "display_data",
          "data": {
            "text/plain": [
              "<IPython.core.display.HTML object>"
            ],
            "text/html": [
              "<style>\n",
              "    table.wandb td:nth-child(1) { padding: 0 10px; text-align: left ; width: auto;} td:nth-child(2) {text-align: left ; width: 100%}\n",
              "    .wandb-row { display: flex; flex-direction: row; flex-wrap: wrap; justify-content: flex-start; width: 100% }\n",
              "    .wandb-col { display: flex; flex-direction: column; flex-basis: 100%; flex: 1; padding: 10px; }\n",
              "    </style>\n",
              "<div class=\"wandb-row\"><div class=\"wandb-col\"><h3>Run history:</h3><br/><table class=\"wandb\"><tr><td>length</td><td>▁▁▁▁▁▁▁▁▁▁▁▁▁▁▁▁▁▁▁▁▁▁▁▁▁▁▁▁▁▁▁▁▁▁▁▁▁▁▁▁</td></tr><tr><td>reward</td><td>▂▂▄▂▆▃▁▄▁▆▅▅▂▃▂▃▃▄▅▃▅▃▄▅▂▄▃▅▄▄▅▄▄▆▅▅▄▆█▆</td></tr></table><br/></div><div class=\"wandb-col\"><h3>Run summary:</h3><br/><table class=\"wandb\"><tr><td>length</td><td>1000</td></tr><tr><td>reward</td><td>-153.65195</td></tr></table><br/></div></div>"
            ]
          },
          "metadata": {}
        },
        {
          "output_type": "display_data",
          "data": {
            "text/plain": [
              "<IPython.core.display.HTML object>"
            ],
            "text/html": [
              " View run <strong style=\"color:#cdcd00\">robust-lake-12</strong> at: <a href='https://wandb.ai/senich17/SAC_Pybullet/runs/0oy2m9w3' target=\"_blank\">https://wandb.ai/senich17/SAC_Pybullet/runs/0oy2m9w3</a><br/> View project at: <a href='https://wandb.ai/senich17/SAC_Pybullet' target=\"_blank\">https://wandb.ai/senich17/SAC_Pybullet</a><br/>Synced 5 W&B file(s), 0 media file(s), 0 artifact file(s) and 0 other file(s)"
            ]
          },
          "metadata": {}
        },
        {
          "output_type": "display_data",
          "data": {
            "text/plain": [
              "<IPython.core.display.HTML object>"
            ],
            "text/html": [
              "Find logs at: <code>./wandb/run-20240516_144154-0oy2m9w3/logs</code>"
            ]
          },
          "metadata": {}
        }
      ]
    },
    {
      "cell_type": "markdown",
      "source": [
        "### Вывод (я не плачу, это дощщ)\n",
        "\n",
        "Запуск 3:\n",
        "\n",
        "- ent_coef=0.5: Значительное увеличение коэффициента энтропии приводит к исследовательскому поведению модели, но также вызывает нестабильность обучения, особенно при недостаточном количестве обновлений.\n",
        "\n",
        "В целом, последний запуск отличается от предыдущих очень сильно, модель как будто перестает получать вознаграждения и пускается в приключения по неизведанной среде, как бы забывая об основной своей цели - обучении.\n",
        "\n",
        "Важно отметить, что при использовании высокого значения коэффициента энтропии необходимо обеспечить достаточное количество обновлений модели, чтобы стабилизировать обучение и предотвратить возможное разрушение стратегии, что доказывают показатели этого запуска.\n",
        "\n",
        "Отчет: https://wandb.ai/senich17/SAC_Pybullet/reports/SAC-Pybullet-HalfCheetah--Vmlldzo3OTc0ODMw?accessToken=zhadr9q3yu9h3ne1ai1yugr9335pn4afjtb0cxqab71qm2ucgcwkv3t4hiegipm9\n",
        "\n",
        "Сравнение с предыдущими запусками: https://api.wandb.ai/links/senich17/po8a2dh1"
      ],
      "metadata": {
        "id": "wSRaewypaYi0"
      }
    },
    {
      "cell_type": "code",
      "source": [
        "data = {\n",
        "    \"Model 0\": [2152.5],\n",
        "    \"Model 1\": [4234.7],\n",
        "    \"Model 2\": [4394.7],\n",
        "    \"Model 3\": [-11.8]\n",
        "}\n",
        "\n",
        "df = pd.DataFrame(data)\n",
        "\n",
        "# Построение Violin plot\n",
        "plt.figure(figsize=(10, 6))\n",
        "sns.violinplot(data=df, inner=\"point\", linewidth=1.5)\n",
        "plt.title('Сравнение наград различных моделей')\n",
        "plt.xlabel('Модели')\n",
        "plt.ylabel('Награда')\n",
        "plt.xticks(rotation=45)\n",
        "plt.show()\n"
      ],
      "metadata": {
        "colab": {
          "base_uri": "https://localhost:8080/",
          "height": 599
        },
        "id": "MGIlW8DNPPKr",
        "outputId": "88c28592-b1b5-4bd3-d31f-0af5b59fb69c"
      },
      "execution_count": 77,
      "outputs": [
        {
          "output_type": "display_data",
          "data": {
            "text/plain": [
              "<Figure size 1000x600 with 1 Axes>"
            ],
            "image/png": "[encoded data removed]"
          },
          "metadata": {}
        }
      ]
    },
    {
      "cell_type": "code",
      "source": [
        "# Создание DataFrame с данными о наградах каждой модели\n",
        "data = {\n",
        "    \"Model 0\": [2152.5],\n",
        "    \"Model 1\": [4234.7],\n",
        "    \"Model 2\": [4394.7],\n",
        "    \"Model 3\": [-11.8]\n",
        "}\n",
        "\n",
        "df = pd.DataFrame(data)\n",
        "\n",
        "# Построение столбчатой диаграммы\n",
        "plt.figure(figsize=(10, 6))\n",
        "sns.barplot(x=df.columns, y=df.values.flatten(), palette='Set1')\n",
        "plt.title('Награды каждой модели')\n",
        "plt.xlabel('Модели')\n",
        "plt.ylabel('Награда')\n",
        "plt.show()\n"
      ],
      "metadata": {
        "colab": {
          "base_uri": "https://localhost:8080/",
          "height": 669
        },
        "id": "V6pYUusqSEkU",
        "outputId": "54b12245-6761-42d0-ff9b-e8e0d2a71b7a"
      },
      "execution_count": 86,
      "outputs": [
        {
          "output_type": "stream",
          "name": "stderr",
          "text": [
            "<ipython-input-86-f52c8a672868>:13: FutureWarning: \n",
            "\n",
            "Passing `palette` without assigning `hue` is deprecated and will be removed in v0.14.0. Assign the `x` variable to `hue` and set `legend=False` for the same effect.\n",
            "\n",
            "  sns.barplot(x=df.columns, y=df.values.flatten(), palette='Set1')\n"
          ]
        },
        {
          "output_type": "display_data",
          "data": {
            "text/plain": [
              "<Figure size 1000x600 with 1 Axes>"
            ],
            "image/png": "[encoded data removed]"
          },
          "metadata": {}
        }
      ]
    },
    {
      "cell_type": "markdown",
      "source": [
        "На диаграмме выше можно наглядно увидеть разницу в наградах моделей, но разумеется не одной наградой едины. Еще важно учитывать стабильность обучения в целом, все таки агент должен быть надежен. Помимо этого - внимательно следить за тем, насколько ресурсоемкой становится модель и сколько времени занимает ее обучение. Разумеется, что все зависит от контекста задачи."
      ],
      "metadata": {
        "id": "J679cltFQor4"
      }
    }
  ]
}